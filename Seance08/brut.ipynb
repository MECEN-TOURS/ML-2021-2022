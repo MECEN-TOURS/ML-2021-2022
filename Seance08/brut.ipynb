{
 "cells": [
  {
   "cell_type": "markdown",
   "id": "0e9c2fa1-a3e6-457c-8044-ddfabf55fe05",
   "metadata": {},
   "source": [
    "# Objectif\n",
    "\n",
    "Apprentissage de digit."
   ]
  },
  {
   "cell_type": "markdown",
   "id": "f686ca91-b14f-46f3-b5f6-0d119963459c",
   "metadata": {},
   "source": [
    "# Imports et récupération dataset"
   ]
  },
  {
   "cell_type": "code",
   "execution_count": 1,
   "id": "66618dec-8693-4a11-8490-52bad0ab16ca",
   "metadata": {},
   "outputs": [],
   "source": [
    "from rich import print"
   ]
  },
  {
   "cell_type": "code",
   "execution_count": 2,
   "id": "c4a66cd3-de8b-4a21-8cc8-4ab4ff82dcbe",
   "metadata": {},
   "outputs": [],
   "source": [
    "import numpy as np"
   ]
  },
  {
   "cell_type": "code",
   "execution_count": 3,
   "id": "b7feb621-7d25-4301-bb60-62440ffbfb57",
   "metadata": {},
   "outputs": [],
   "source": [
    "import matplotlib.pyplot as plt"
   ]
  },
  {
   "cell_type": "code",
   "execution_count": 4,
   "id": "ccb9ee0d-1c2b-4eda-b6ff-8478b2037081",
   "metadata": {},
   "outputs": [],
   "source": [
    "from sklearn.dummy import DummyClassifier\n",
    "from sklearn.svm import SVC\n",
    "from sklearn.ensemble import RandomForestClassifier\n",
    "from sklearn.neural_network import MLPClassifier\n",
    "from sklearn.linear_model import LogisticRegression\n",
    "from sklearn.naive_bayes import CategoricalNB, MultinomialNB, GaussianNB\n",
    "from sklearn.tree import DecisionTreeClassifier\n",
    "from sklearn.neighbors import KNeighborsClassifier"
   ]
  },
  {
   "cell_type": "code",
   "execution_count": 5,
   "id": "8acfa147-58fd-474c-9947-e1ade25f907f",
   "metadata": {},
   "outputs": [],
   "source": [
    "from sklearn.model_selection import train_test_split, GridSearchCV, cross_val_score"
   ]
  },
  {
   "cell_type": "code",
   "execution_count": 29,
   "id": "cc528861-1a94-487b-bb5e-638c18ae5aa7",
   "metadata": {},
   "outputs": [],
   "source": [
    "from sklearn.metrics import confusion_matrix"
   ]
  },
  {
   "cell_type": "code",
   "execution_count": 6,
   "id": "294e08a2-6aa6-4e85-8a54-64193a01e3f7",
   "metadata": {},
   "outputs": [],
   "source": [
    "from sklearn.decomposition import PCA"
   ]
  },
  {
   "cell_type": "code",
   "execution_count": 7,
   "id": "e5e605a2-4522-42e8-b9da-ef9d37779a3a",
   "metadata": {},
   "outputs": [],
   "source": [
    "from sklearn.pipeline import Pipeline"
   ]
  },
  {
   "cell_type": "code",
   "execution_count": 8,
   "id": "f3b0f2b1-d30f-48be-909f-f2ef9c956668",
   "metadata": {},
   "outputs": [],
   "source": [
    "from sklearn.datasets import load_digits"
   ]
  },
  {
   "cell_type": "code",
   "execution_count": 9,
   "id": "5a5bcdb7-8505-44c7-8fe3-42e47dffd1fc",
   "metadata": {},
   "outputs": [],
   "source": [
    "X, y = load_digits(return_X_y=True)"
   ]
  },
  {
   "cell_type": "markdown",
   "id": "20cb2563-518b-499b-a774-dfd143176522",
   "metadata": {},
   "source": [
    "# Exploration initiale"
   ]
  },
  {
   "cell_type": "code",
   "execution_count": 10,
   "id": "291880a2-487f-4ec0-97c9-776c4c35a5e1",
   "metadata": {},
   "outputs": [
    {
     "data": {
      "text/plain": [
       "(1797, 64)"
      ]
     },
     "execution_count": 10,
     "metadata": {},
     "output_type": "execute_result"
    }
   ],
   "source": [
    "X.shape"
   ]
  },
  {
   "cell_type": "code",
   "execution_count": 11,
   "id": "4c8c6f78-81bf-4c7b-b4c3-a28dd8f6b519",
   "metadata": {},
   "outputs": [
    {
     "data": {
      "text/plain": [
       "(1797,)"
      ]
     },
     "execution_count": 11,
     "metadata": {},
     "output_type": "execute_result"
    }
   ],
   "source": [
    "y.shape"
   ]
  },
  {
   "cell_type": "code",
   "execution_count": 12,
   "id": "23b60387-638f-424a-897e-257c1d46de60",
   "metadata": {},
   "outputs": [
    {
     "data": {
      "text/plain": [
       "array([[ 0.,  0.,  0., 12., 13.,  5.,  0.,  0.],\n",
       "       [ 0.,  0.,  0., 11., 16.,  9.,  0.,  0.],\n",
       "       [ 0.,  0.,  3., 15., 16.,  6.,  0.,  0.],\n",
       "       [ 0.,  7., 15., 16., 16.,  2.,  0.,  0.],\n",
       "       [ 0.,  0.,  1., 16., 16.,  3.,  0.,  0.],\n",
       "       [ 0.,  0.,  1., 16., 16.,  6.,  0.,  0.],\n",
       "       [ 0.,  0.,  1., 16., 16.,  6.,  0.,  0.],\n",
       "       [ 0.,  0.,  0., 11., 16., 10.,  0.,  0.]])"
      ]
     },
     "execution_count": 12,
     "metadata": {},
     "output_type": "execute_result"
    }
   ],
   "source": [
    "X[1].reshape((8,8))"
   ]
  },
  {
   "cell_type": "code",
   "execution_count": 13,
   "id": "311acf6f-52f1-49c3-a93d-1568d9bcd9c8",
   "metadata": {},
   "outputs": [
    {
     "data": {
      "text/html": [
       "<pre style=\"white-space:pre;overflow-x:auto;line-height:normal;font-family:Menlo,'DejaVu Sans Mono',consolas,'Courier New',monospace\">Nombre d'éléments pour <span style=\"color: #808000; text-decoration-color: #808000\">y</span>=<span style=\"color: #008080; text-decoration-color: #008080; font-weight: bold\">0</span>: <span style=\"color: #008080; text-decoration-color: #008080; font-weight: bold\">178</span>.\n",
       "</pre>\n"
      ],
      "text/plain": [
       "Nombre d'éléments pour \u001b[33my\u001b[0m=\u001b[1;36m0\u001b[0m: \u001b[1;36m178\u001b[0m.\n"
      ]
     },
     "metadata": {},
     "output_type": "display_data"
    },
    {
     "data": {
      "text/html": [
       "<pre style=\"white-space:pre;overflow-x:auto;line-height:normal;font-family:Menlo,'DejaVu Sans Mono',consolas,'Courier New',monospace\">Nombre d'éléments pour <span style=\"color: #808000; text-decoration-color: #808000\">y</span>=<span style=\"color: #008080; text-decoration-color: #008080; font-weight: bold\">1</span>: <span style=\"color: #008080; text-decoration-color: #008080; font-weight: bold\">182</span>.\n",
       "</pre>\n"
      ],
      "text/plain": [
       "Nombre d'éléments pour \u001b[33my\u001b[0m=\u001b[1;36m1\u001b[0m: \u001b[1;36m182\u001b[0m.\n"
      ]
     },
     "metadata": {},
     "output_type": "display_data"
    },
    {
     "data": {
      "text/html": [
       "<pre style=\"white-space:pre;overflow-x:auto;line-height:normal;font-family:Menlo,'DejaVu Sans Mono',consolas,'Courier New',monospace\">Nombre d'éléments pour <span style=\"color: #808000; text-decoration-color: #808000\">y</span>=<span style=\"color: #008080; text-decoration-color: #008080; font-weight: bold\">2</span>: <span style=\"color: #008080; text-decoration-color: #008080; font-weight: bold\">177</span>.\n",
       "</pre>\n"
      ],
      "text/plain": [
       "Nombre d'éléments pour \u001b[33my\u001b[0m=\u001b[1;36m2\u001b[0m: \u001b[1;36m177\u001b[0m.\n"
      ]
     },
     "metadata": {},
     "output_type": "display_data"
    },
    {
     "data": {
      "text/html": [
       "<pre style=\"white-space:pre;overflow-x:auto;line-height:normal;font-family:Menlo,'DejaVu Sans Mono',consolas,'Courier New',monospace\">Nombre d'éléments pour <span style=\"color: #808000; text-decoration-color: #808000\">y</span>=<span style=\"color: #008080; text-decoration-color: #008080; font-weight: bold\">3</span>: <span style=\"color: #008080; text-decoration-color: #008080; font-weight: bold\">183</span>.\n",
       "</pre>\n"
      ],
      "text/plain": [
       "Nombre d'éléments pour \u001b[33my\u001b[0m=\u001b[1;36m3\u001b[0m: \u001b[1;36m183\u001b[0m.\n"
      ]
     },
     "metadata": {},
     "output_type": "display_data"
    },
    {
     "data": {
      "text/html": [
       "<pre style=\"white-space:pre;overflow-x:auto;line-height:normal;font-family:Menlo,'DejaVu Sans Mono',consolas,'Courier New',monospace\">Nombre d'éléments pour <span style=\"color: #808000; text-decoration-color: #808000\">y</span>=<span style=\"color: #008080; text-decoration-color: #008080; font-weight: bold\">4</span>: <span style=\"color: #008080; text-decoration-color: #008080; font-weight: bold\">181</span>.\n",
       "</pre>\n"
      ],
      "text/plain": [
       "Nombre d'éléments pour \u001b[33my\u001b[0m=\u001b[1;36m4\u001b[0m: \u001b[1;36m181\u001b[0m.\n"
      ]
     },
     "metadata": {},
     "output_type": "display_data"
    },
    {
     "data": {
      "text/html": [
       "<pre style=\"white-space:pre;overflow-x:auto;line-height:normal;font-family:Menlo,'DejaVu Sans Mono',consolas,'Courier New',monospace\">Nombre d'éléments pour <span style=\"color: #808000; text-decoration-color: #808000\">y</span>=<span style=\"color: #008080; text-decoration-color: #008080; font-weight: bold\">5</span>: <span style=\"color: #008080; text-decoration-color: #008080; font-weight: bold\">182</span>.\n",
       "</pre>\n"
      ],
      "text/plain": [
       "Nombre d'éléments pour \u001b[33my\u001b[0m=\u001b[1;36m5\u001b[0m: \u001b[1;36m182\u001b[0m.\n"
      ]
     },
     "metadata": {},
     "output_type": "display_data"
    },
    {
     "data": {
      "text/html": [
       "<pre style=\"white-space:pre;overflow-x:auto;line-height:normal;font-family:Menlo,'DejaVu Sans Mono',consolas,'Courier New',monospace\">Nombre d'éléments pour <span style=\"color: #808000; text-decoration-color: #808000\">y</span>=<span style=\"color: #008080; text-decoration-color: #008080; font-weight: bold\">6</span>: <span style=\"color: #008080; text-decoration-color: #008080; font-weight: bold\">181</span>.\n",
       "</pre>\n"
      ],
      "text/plain": [
       "Nombre d'éléments pour \u001b[33my\u001b[0m=\u001b[1;36m6\u001b[0m: \u001b[1;36m181\u001b[0m.\n"
      ]
     },
     "metadata": {},
     "output_type": "display_data"
    },
    {
     "data": {
      "text/html": [
       "<pre style=\"white-space:pre;overflow-x:auto;line-height:normal;font-family:Menlo,'DejaVu Sans Mono',consolas,'Courier New',monospace\">Nombre d'éléments pour <span style=\"color: #808000; text-decoration-color: #808000\">y</span>=<span style=\"color: #008080; text-decoration-color: #008080; font-weight: bold\">7</span>: <span style=\"color: #008080; text-decoration-color: #008080; font-weight: bold\">179</span>.\n",
       "</pre>\n"
      ],
      "text/plain": [
       "Nombre d'éléments pour \u001b[33my\u001b[0m=\u001b[1;36m7\u001b[0m: \u001b[1;36m179\u001b[0m.\n"
      ]
     },
     "metadata": {},
     "output_type": "display_data"
    },
    {
     "data": {
      "text/html": [
       "<pre style=\"white-space:pre;overflow-x:auto;line-height:normal;font-family:Menlo,'DejaVu Sans Mono',consolas,'Courier New',monospace\">Nombre d'éléments pour <span style=\"color: #808000; text-decoration-color: #808000\">y</span>=<span style=\"color: #008080; text-decoration-color: #008080; font-weight: bold\">8</span>: <span style=\"color: #008080; text-decoration-color: #008080; font-weight: bold\">174</span>.\n",
       "</pre>\n"
      ],
      "text/plain": [
       "Nombre d'éléments pour \u001b[33my\u001b[0m=\u001b[1;36m8\u001b[0m: \u001b[1;36m174\u001b[0m.\n"
      ]
     },
     "metadata": {},
     "output_type": "display_data"
    },
    {
     "data": {
      "text/html": [
       "<pre style=\"white-space:pre;overflow-x:auto;line-height:normal;font-family:Menlo,'DejaVu Sans Mono',consolas,'Courier New',monospace\">Nombre d'éléments pour <span style=\"color: #808000; text-decoration-color: #808000\">y</span>=<span style=\"color: #008080; text-decoration-color: #008080; font-weight: bold\">9</span>: <span style=\"color: #008080; text-decoration-color: #008080; font-weight: bold\">180</span>.\n",
       "</pre>\n"
      ],
      "text/plain": [
       "Nombre d'éléments pour \u001b[33my\u001b[0m=\u001b[1;36m9\u001b[0m: \u001b[1;36m180\u001b[0m.\n"
      ]
     },
     "metadata": {},
     "output_type": "display_data"
    }
   ],
   "source": [
    "for i in range(10):\n",
    "    print(f\"Nombre d'éléments pour y={i}: {(y == i).sum()}.\")"
   ]
  },
  {
   "cell_type": "code",
   "execution_count": 14,
   "id": "e1261a83-78c7-42b7-8aa6-bc5a38693612",
   "metadata": {},
   "outputs": [
    {
     "data": {
      "image/png": "[encoded data removed]",
      "text/plain": [
       "<Figure size 1152x1152 with 16 Axes>"
      ]
     },
     "metadata": {
      "needs_background": "light"
     },
     "output_type": "display_data"
    }
   ],
   "source": [
    "fig, axs = plt.subplots(nrows=4, ncols=4, figsize=(16, 16))\n",
    "for i in range(4):\n",
    "    for j in range(4):\n",
    "        repere = axs[i,j]\n",
    "        repere.matshow(\n",
    "            X[4 * i + j].reshape((8, 8)),\n",
    "            cmap=\"gray\",\n",
    "        )\n",
    "        repere.axis(\"off\")\n",
    "        repere.set_title(f\"chiffre: {y[4*i+j]}\")"
   ]
  },
  {
   "cell_type": "markdown",
   "id": "66ce1539-f6d7-4a30-8c84-b3267be7d69a",
   "metadata": {
    "tags": []
   },
   "source": [
    "# Apprentissage"
   ]
  },
  {
   "cell_type": "code",
   "execution_count": 15,
   "id": "00d2f7f2-4c8a-4871-b85f-de5b1836b777",
   "metadata": {},
   "outputs": [],
   "source": [
    "resultats = dict()"
   ]
  },
  {
   "cell_type": "code",
   "execution_count": 16,
   "id": "38e2c0c8-df9f-4aa2-b4e6-3dda2822abff",
   "metadata": {},
   "outputs": [],
   "source": [
    "X_tr, X_te, y_tr, y_te = train_test_split(X, y, random_state=42)"
   ]
  },
  {
   "cell_type": "markdown",
   "id": "82075f8f-e06f-4917-91dd-8b51e9972c9b",
   "metadata": {},
   "source": [
    "## Pour comparaison"
   ]
  },
  {
   "cell_type": "code",
   "execution_count": 17,
   "id": "85e92176-cdbe-40e2-b15a-9dcc0e580d28",
   "metadata": {},
   "outputs": [
    {
     "name": "stdout",
     "output_type": "stream",
     "text": [
      "CPU times: user 21.3 ms, sys: 83 µs, total: 21.4 ms\n",
      "Wall time: 20.6 ms\n"
     ]
    }
   ],
   "source": [
    "%%time\n",
    "par = GridSearchCV(\n",
    "    DummyClassifier(),\n",
    "    param_grid={\n",
    "        \"strategy\": [\"prior\", \"uniform\", \"stratified\"],\n",
    "    }\n",
    ")\n",
    "par.fit(X_tr, y_tr)\n",
    "resultats[par.best_estimator_] = par.best_score_"
   ]
  },
  {
   "cell_type": "markdown",
   "id": "39253d78-fe3a-450a-a8bd-b655625d0094",
   "metadata": {},
   "source": [
    "## Simples"
   ]
  },
  {
   "cell_type": "code",
   "execution_count": 18,
   "id": "67d97006-2aab-4550-bc7e-cb4e03af26df",
   "metadata": {},
   "outputs": [
    {
     "name": "stdout",
     "output_type": "stream",
     "text": [
      "CPU times: user 54.2 ms, sys: 39.1 ms, total: 93.2 ms\n",
      "Wall time: 28.6 ms\n"
     ]
    }
   ],
   "source": [
    "%%time\n",
    "par = MultinomialNB()\n",
    "resultats[par] = cross_val_score(par, X_tr, y_tr)"
   ]
  },
  {
   "cell_type": "code",
   "execution_count": 19,
   "id": "0b395e7d-cb82-412f-bb04-57c8935aefa4",
   "metadata": {},
   "outputs": [
    {
     "name": "stdout",
     "output_type": "stream",
     "text": [
      "CPU times: user 1min 25s, sys: 45 s, total: 2min 10s\n",
      "Wall time: 33.1 s\n"
     ]
    }
   ],
   "source": [
    "%%time\n",
    "par = LogisticRegression(max_iter=10000)\n",
    "resultats[par] = cross_val_score(par, X_tr, y_tr)"
   ]
  },
  {
   "cell_type": "code",
   "execution_count": 20,
   "id": "ff6074ca-e983-4822-aab4-fcccc8095320",
   "metadata": {},
   "outputs": [
    {
     "name": "stdout",
     "output_type": "stream",
     "text": [
      "CPU times: user 1min 25s, sys: 44.6 s, total: 2min 9s\n",
      "Wall time: 33 s\n"
     ]
    }
   ],
   "source": [
    "%%time\n",
    "pre = DecisionTreeClassifier()\n",
    "resultats[par] = cross_val_score(par, X_tr, y_tr)"
   ]
  },
  {
   "cell_type": "markdown",
   "id": "018f4091-f2b3-4484-9e74-5e607d7d76d7",
   "metadata": {},
   "source": [
    "## Moins simples"
   ]
  },
  {
   "cell_type": "code",
   "execution_count": 21,
   "id": "96c8bad1-4631-4ac6-91d3-9f8853e07382",
   "metadata": {},
   "outputs": [
    {
     "name": "stdout",
     "output_type": "stream",
     "text": [
      "CPU times: user 1.69 s, sys: 977 ms, total: 2.66 s\n",
      "Wall time: 678 ms\n"
     ]
    }
   ],
   "source": [
    "%%time\n",
    "par = GridSearchCV(\n",
    "    KNeighborsClassifier(),\n",
    "    param_grid={\n",
    "        \"n_neighbors\": [3, 5, 7, 9, 11],\n",
    "    }\n",
    ")\n",
    "par.fit(X_tr, y_tr)\n",
    "resultats[par.best_estimator_] = par.best_score_"
   ]
  },
  {
   "cell_type": "code",
   "execution_count": 22,
   "id": "51fc95ba-c29e-4438-8543-46b5fcf033df",
   "metadata": {},
   "outputs": [
    {
     "name": "stdout",
     "output_type": "stream",
     "text": [
      "CPU times: user 2.01 s, sys: 69.6 ms, total: 2.08 s\n",
      "Wall time: 1.96 s\n"
     ]
    }
   ],
   "source": [
    "%%time\n",
    "par = GridSearchCV(\n",
    "    SVC(),\n",
    "    param_grid={\n",
    "        \"C\": [0.1, 0.5, 1., 5., 10., 50.],\n",
    "    }\n",
    ")\n",
    "par.fit(X_tr, y_tr)\n",
    "resultats[par.best_estimator_] = par.best_score_"
   ]
  },
  {
   "cell_type": "code",
   "execution_count": 23,
   "id": "348e1579-7b91-4d97-a243-2d2f0c83a424",
   "metadata": {},
   "outputs": [
    {
     "name": "stdout",
     "output_type": "stream",
     "text": [
      "CPU times: user 6.78 s, sys: 26.9 ms, total: 6.81 s\n",
      "Wall time: 6.81 s\n"
     ]
    }
   ],
   "source": [
    "%%time\n",
    "par = GridSearchCV(\n",
    "    RandomForestClassifier(),\n",
    "    param_grid={\n",
    "        \"n_estimators\": [50, 100, 150, 200],\n",
    "    }\n",
    ")\n",
    "par.fit(X_tr, y_tr)\n",
    "resultats[par.best_estimator_] = par.best_score_"
   ]
  },
  {
   "cell_type": "code",
   "execution_count": 24,
   "id": "3f211478-67e8-4d3c-a1fe-e23ce50af342",
   "metadata": {},
   "outputs": [
    {
     "name": "stdout",
     "output_type": "stream",
     "text": [
      "CPU times: user 1min 6s, sys: 38 s, total: 1min 44s\n",
      "Wall time: 26.7 s\n"
     ]
    }
   ],
   "source": [
    "%%time\n",
    "par = GridSearchCV(\n",
    "    MLPClassifier(),\n",
    "    param_grid={\n",
    "        \"hidden_layer_sizes\": [(100,), (50, 50), (25, 50, 25)],\n",
    "    }\n",
    ")\n",
    "par.fit(X_tr, y_tr)\n",
    "resultats[par.best_estimator_] = par.best_score_"
   ]
  },
  {
   "cell_type": "markdown",
   "id": "e722665b-97eb-4ff4-a7e7-afc51a9196ca",
   "metadata": {},
   "source": [
    "## Synthèse"
   ]
  },
  {
   "cell_type": "code",
   "execution_count": 25,
   "id": "c4d4be14-e15f-444f-8504-dd9a7c8a0266",
   "metadata": {},
   "outputs": [
    {
     "data": {
      "text/html": [
       "<pre style=\"white-space:pre;overflow-x:auto;line-height:normal;font-family:Menlo,'DejaVu Sans Mono',consolas,'Courier New',monospace\"><span style=\"font-weight: bold\">{</span>\n",
       "    <span style=\"color: #800080; text-decoration-color: #800080; font-weight: bold\">DummyClassifier</span><span style=\"font-weight: bold\">(</span><span style=\"color: #808000; text-decoration-color: #808000\">strategy</span>=<span style=\"color: #008000; text-decoration-color: #008000\">'stratified'</span><span style=\"font-weight: bold\">)</span>: <span style=\"color: #008080; text-decoration-color: #008080; font-weight: bold\">0.1120886685942448</span>,\n",
       "    <span style=\"color: #800080; text-decoration-color: #800080; font-weight: bold\">MultinomialNB</span><span style=\"font-weight: bold\">()</span>: <span style=\"color: #800080; text-decoration-color: #800080; font-weight: bold\">array</span><span style=\"font-weight: bold\">([</span><span style=\"color: #008080; text-decoration-color: #008080; font-weight: bold\">0.86666667</span>, <span style=\"color: #008080; text-decoration-color: #008080; font-weight: bold\">0.91851852</span>, <span style=\"color: #008080; text-decoration-color: #008080; font-weight: bold\">0.91449814</span>, <span style=\"color: #008080; text-decoration-color: #008080; font-weight: bold\">0.91078067</span>, <span style=\"color: #008080; text-decoration-color: #008080; font-weight: bold\">0.88475836</span><span style=\"font-weight: bold\">])</span>,\n",
       "    <span style=\"color: #800080; text-decoration-color: #800080; font-weight: bold\">LogisticRegression</span><span style=\"font-weight: bold\">(</span><span style=\"color: #808000; text-decoration-color: #808000\">max_iter</span>=<span style=\"color: #008080; text-decoration-color: #008080; font-weight: bold\">10000</span><span style=\"font-weight: bold\">)</span>: <span style=\"color: #800080; text-decoration-color: #800080; font-weight: bold\">array</span><span style=\"font-weight: bold\">([</span><span style=\"color: #008080; text-decoration-color: #008080; font-weight: bold\">0.95925926</span>, <span style=\"color: #008080; text-decoration-color: #008080; font-weight: bold\">0.95185185</span>, <span style=\"color: #008080; text-decoration-color: #008080; font-weight: bold\">0.94423792</span>, \n",
       "<span style=\"color: #008080; text-decoration-color: #008080; font-weight: bold\">0.96282528</span>, <span style=\"color: #008080; text-decoration-color: #008080; font-weight: bold\">0.92936803</span><span style=\"font-weight: bold\">])</span>,\n",
       "    <span style=\"color: #800080; text-decoration-color: #800080; font-weight: bold\">KNeighborsClassifier</span><span style=\"font-weight: bold\">(</span><span style=\"color: #808000; text-decoration-color: #808000\">n_neighbors</span>=<span style=\"color: #008080; text-decoration-color: #008080; font-weight: bold\">3</span><span style=\"font-weight: bold\">)</span>: <span style=\"color: #008080; text-decoration-color: #008080; font-weight: bold\">0.9829216577171968</span>,\n",
       "    <span style=\"color: #800080; text-decoration-color: #800080; font-weight: bold\">SVC</span><span style=\"font-weight: bold\">(</span><span style=\"color: #808000; text-decoration-color: #808000\">C</span>=<span style=\"color: #008080; text-decoration-color: #008080; font-weight: bold\">10.0</span><span style=\"font-weight: bold\">)</span>: <span style=\"color: #008080; text-decoration-color: #008080; font-weight: bold\">0.9888641057414291</span>,\n",
       "    <span style=\"color: #800080; text-decoration-color: #800080; font-weight: bold\">RandomForestClassifier</span><span style=\"font-weight: bold\">(</span><span style=\"color: #808000; text-decoration-color: #808000\">n_estimators</span>=<span style=\"color: #008080; text-decoration-color: #008080; font-weight: bold\">200</span><span style=\"font-weight: bold\">)</span>: <span style=\"color: #008080; text-decoration-color: #008080; font-weight: bold\">0.9710477764009363</span>,\n",
       "    <span style=\"color: #800080; text-decoration-color: #800080; font-weight: bold\">MLPClassifier</span><span style=\"font-weight: bold\">()</span>: <span style=\"color: #008080; text-decoration-color: #008080; font-weight: bold\">0.9650998210106018</span>\n",
       "<span style=\"font-weight: bold\">}</span>\n",
       "</pre>\n"
      ],
      "text/plain": [
       "\u001b[1m{\u001b[0m\n",
       "    \u001b[1;35mDummyClassifier\u001b[0m\u001b[1m(\u001b[0m\u001b[33mstrategy\u001b[0m=\u001b[32m'stratified'\u001b[0m\u001b[1m)\u001b[0m: \u001b[1;36m0.1120886685942448\u001b[0m,\n",
       "    \u001b[1;35mMultinomialNB\u001b[0m\u001b[1m(\u001b[0m\u001b[1m)\u001b[0m: \u001b[1;35marray\u001b[0m\u001b[1m(\u001b[0m\u001b[1m[\u001b[0m\u001b[1;36m0.86666667\u001b[0m, \u001b[1;36m0.91851852\u001b[0m, \u001b[1;36m0.91449814\u001b[0m, \u001b[1;36m0.91078067\u001b[0m, \u001b[1;36m0.88475836\u001b[0m\u001b[1m]\u001b[0m\u001b[1m)\u001b[0m,\n",
       "    \u001b[1;35mLogisticRegression\u001b[0m\u001b[1m(\u001b[0m\u001b[33mmax_iter\u001b[0m=\u001b[1;36m10000\u001b[0m\u001b[1m)\u001b[0m: \u001b[1;35marray\u001b[0m\u001b[1m(\u001b[0m\u001b[1m[\u001b[0m\u001b[1;36m0.95925926\u001b[0m, \u001b[1;36m0.95185185\u001b[0m, \u001b[1;36m0.94423792\u001b[0m, \n",
       "\u001b[1;36m0.96282528\u001b[0m, \u001b[1;36m0.92936803\u001b[0m\u001b[1m]\u001b[0m\u001b[1m)\u001b[0m,\n",
       "    \u001b[1;35mKNeighborsClassifier\u001b[0m\u001b[1m(\u001b[0m\u001b[33mn_neighbors\u001b[0m=\u001b[1;36m3\u001b[0m\u001b[1m)\u001b[0m: \u001b[1;36m0.9829216577171968\u001b[0m,\n",
       "    \u001b[1;35mSVC\u001b[0m\u001b[1m(\u001b[0m\u001b[33mC\u001b[0m=\u001b[1;36m10\u001b[0m\u001b[1;36m.0\u001b[0m\u001b[1m)\u001b[0m: \u001b[1;36m0.9888641057414291\u001b[0m,\n",
       "    \u001b[1;35mRandomForestClassifier\u001b[0m\u001b[1m(\u001b[0m\u001b[33mn_estimators\u001b[0m=\u001b[1;36m200\u001b[0m\u001b[1m)\u001b[0m: \u001b[1;36m0.9710477764009363\u001b[0m,\n",
       "    \u001b[1;35mMLPClassifier\u001b[0m\u001b[1m(\u001b[0m\u001b[1m)\u001b[0m: \u001b[1;36m0.9650998210106018\u001b[0m\n",
       "\u001b[1m}\u001b[0m\n"
      ]
     },
     "metadata": {},
     "output_type": "display_data"
    }
   ],
   "source": [
    "print(resultats)"
   ]
  },
  {
   "cell_type": "code",
   "execution_count": 26,
   "id": "fcf4630a-e7c1-4796-9a79-253b5b659724",
   "metadata": {},
   "outputs": [
    {
     "data": {
      "text/plain": [
       "SVC(C=10.0)"
      ]
     },
     "execution_count": 26,
     "metadata": {},
     "output_type": "execute_result"
    }
   ],
   "source": [
    "meilleur = SVC(C=10.)\n",
    "meilleur.fit(X_tr, y_tr)"
   ]
  },
  {
   "cell_type": "code",
   "execution_count": 27,
   "id": "c3c798f6-77d6-4b2e-a76d-79ba01ef5268",
   "metadata": {},
   "outputs": [
    {
     "data": {
      "text/plain": [
       "1.0"
      ]
     },
     "execution_count": 27,
     "metadata": {},
     "output_type": "execute_result"
    }
   ],
   "source": [
    "meilleur.score(X_tr, y_tr)"
   ]
  },
  {
   "cell_type": "code",
   "execution_count": 28,
   "id": "3d88355c-6938-445e-842a-97fc71b41efb",
   "metadata": {},
   "outputs": [
    {
     "data": {
      "text/plain": [
       "0.9888888888888889"
      ]
     },
     "execution_count": 28,
     "metadata": {},
     "output_type": "execute_result"
    }
   ],
   "source": [
    "meilleur.score(X_te, y_te)"
   ]
  },
  {
   "cell_type": "code",
   "execution_count": 31,
   "id": "7b2624e6-dcba-4154-bb3c-0a71bdabed67",
   "metadata": {},
   "outputs": [
    {
     "data": {
      "text/plain": [
       "array([[135,   0,   0,   0,   0,   0,   0,   0,   0,   0],\n",
       "       [  0, 145,   0,   0,   0,   0,   0,   0,   0,   0],\n",
       "       [  0,   0, 139,   0,   0,   0,   0,   0,   0,   0],\n",
       "       [  0,   0,   0, 137,   0,   0,   0,   0,   0,   0],\n",
       "       [  0,   0,   0,   0, 126,   0,   0,   0,   0,   0],\n",
       "       [  0,   0,   0,   0,   0, 123,   0,   0,   0,   0],\n",
       "       [  0,   0,   0,   0,   0,   0, 136,   0,   0,   0],\n",
       "       [  0,   0,   0,   0,   0,   0,   0, 138,   0,   0],\n",
       "       [  0,   0,   0,   0,   0,   0,   0,   0, 136,   0],\n",
       "       [  0,   0,   0,   0,   0,   0,   0,   0,   0, 132]])"
      ]
     },
     "execution_count": 31,
     "metadata": {},
     "output_type": "execute_result"
    }
   ],
   "source": [
    "confusion_matrix(y_tr, meilleur.predict(X_tr))"
   ]
  },
  {
   "cell_type": "code",
   "execution_count": 32,
   "id": "f1ba76e7-c421-43f6-90b9-286756a7835f",
   "metadata": {},
   "outputs": [
    {
     "data": {
      "text/plain": [
       "array([[43,  0,  0,  0,  0,  0,  0,  0,  0,  0],\n",
       "       [ 0, 37,  0,  0,  0,  0,  0,  0,  0,  0],\n",
       "       [ 0,  0, 38,  0,  0,  0,  0,  0,  0,  0],\n",
       "       [ 0,  0,  1, 44,  0,  1,  0,  0,  0,  0],\n",
       "       [ 0,  0,  0,  0, 55,  0,  0,  0,  0,  0],\n",
       "       [ 0,  0,  0,  0,  0, 59,  0,  0,  0,  0],\n",
       "       [ 0,  0,  0,  0,  0,  0, 45,  0,  0,  0],\n",
       "       [ 0,  0,  0,  0,  0,  0,  0, 40,  0,  1],\n",
       "       [ 0,  0,  0,  0,  0,  1,  0,  0, 37,  0],\n",
       "       [ 0,  0,  0,  0,  0,  0,  0,  1,  0, 47]])"
      ]
     },
     "execution_count": 32,
     "metadata": {},
     "output_type": "execute_result"
    }
   ],
   "source": [
    "confusion_matrix(y_te, meilleur.predict(X_te))"
   ]
  },
  {
   "cell_type": "markdown",
   "id": "974e1704-dddd-44e3-b99e-772c8a22023b",
   "metadata": {},
   "source": [
    "**REMARQUE** on pourrait encore plus automatiser avec un fichier de configurations contenant les modèles et leurs grilles de paramètres."
   ]
  }
 ],
 "metadata": {
  "kernelspec": {
   "display_name": "Python 3 (ipykernel)",
   "language": "python",
   "name": "python3"
  },
  "language_info": {
   "codemirror_mode": {
    "name": "ipython",
    "version": 3
   },
   "file_extension": ".py",
   "mimetype": "text/x-python",
   "name": "python",
   "nbconvert_exporter": "python",
   "pygments_lexer": "ipython3",
   "version": "3.9.2"
  }
 },
 "nbformat": 4,
 "nbformat_minor": 5
}
