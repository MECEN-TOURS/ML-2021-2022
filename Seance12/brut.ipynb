{
 "cells": [
  {
   "cell_type": "code",
   "execution_count": 4,
   "id": "2bc2366b-4ebe-46bf-ab80-19135010d675",
   "metadata": {},
   "outputs": [],
   "source": [
    "from dataclasses import dataclass"
   ]
  },
  {
   "cell_type": "code",
   "execution_count": 3,
   "id": "bd64e6c0-b9cf-40e6-9273-15ccb828a759",
   "metadata": {},
   "outputs": [],
   "source": [
    "from serde import deserialize, serialize\n",
    "from serde.json import from_json"
   ]
  },
  {
   "cell_type": "code",
   "execution_count": 13,
   "id": "29708791-c17b-4b95-af3a-b495fad010a1",
   "metadata": {},
   "outputs": [],
   "source": [
    "import pandas as pd"
   ]
  },
  {
   "cell_type": "code",
   "execution_count": 26,
   "id": "8b2f4491-8afd-48ec-bf00-7aaef94a6995",
   "metadata": {},
   "outputs": [],
   "source": [
    "import re"
   ]
  },
  {
   "cell_type": "code",
   "execution_count": 1,
   "id": "f9b0dd70-37d3-410d-9dc1-88883c1446ea",
   "metadata": {},
   "outputs": [],
   "source": [
    "with open(\"brute.json\", \"r\") as fichier:\n",
    "    data = fichier.read()"
   ]
  },
  {
   "cell_type": "code",
   "execution_count": 2,
   "id": "896716df-dae8-4404-809b-bb5d7de08276",
   "metadata": {},
   "outputs": [
    {
     "data": {
      "text/plain": [
       "str"
      ]
     },
     "execution_count": 2,
     "metadata": {},
     "output_type": "execute_result"
    }
   ],
   "source": [
    "type(data)"
   ]
  },
  {
   "cell_type": "code",
   "execution_count": 5,
   "id": "9a8fab7f-ce91-4ea0-bff6-2d90d50886c3",
   "metadata": {},
   "outputs": [],
   "source": [
    "@serialize\n",
    "@deserialize\n",
    "@dataclass \n",
    "class Annonce:\n",
    "    id: str\n",
    "    genre: str\n",
    "    prix: str\n",
    "    pcs: str\n",
    "    desc: str\n",
    "    lien: str"
   ]
  },
  {
   "cell_type": "code",
   "execution_count": 6,
   "id": "b6a2607c-a730-455f-837b-f4007c69064f",
   "metadata": {},
   "outputs": [
    {
     "ename": "JSONDecodeError",
     "evalue": "Extra data: line 2 column 1 (char 445)",
     "output_type": "error",
     "traceback": [
      "\u001b[0;31m---------------------------------------------------------------------------\u001b[0m",
      "\u001b[0;31mJSONDecodeError\u001b[0m                           Traceback (most recent call last)",
      "\u001b[0;32m/tmp/ipykernel_6950/797666142.py\u001b[0m in \u001b[0;36m<module>\u001b[0;34m\u001b[0m\n\u001b[0;32m----> 1\u001b[0;31m \u001b[0mannonces\u001b[0m \u001b[0;34m=\u001b[0m \u001b[0mfrom_json\u001b[0m\u001b[0;34m(\u001b[0m\u001b[0mlist\u001b[0m\u001b[0;34m[\u001b[0m\u001b[0mAnnonce\u001b[0m\u001b[0;34m]\u001b[0m\u001b[0;34m,\u001b[0m \u001b[0mdata\u001b[0m\u001b[0;34m)\u001b[0m\u001b[0;34m\u001b[0m\u001b[0;34m\u001b[0m\u001b[0m\n\u001b[0m",
      "\u001b[0;32m~/miniconda3/lib/python3.9/site-packages/serde/json.py\u001b[0m in \u001b[0;36mfrom_json\u001b[0;34m(c, s, de, **opts)\u001b[0m\n\u001b[1;32m     45\u001b[0m     \u001b[0mIf\u001b[0m \u001b[0myou\u001b[0m \u001b[0mwant\u001b[0m \u001b[0mto\u001b[0m \u001b[0muse\u001b[0m \u001b[0mthe\u001b[0m \u001b[0mother\u001b[0m \u001b[0mjson\u001b[0m \u001b[0mpackage\u001b[0m\u001b[0;34m,\u001b[0m \u001b[0myou\u001b[0m \u001b[0mcan\u001b[0m \u001b[0msubclass\u001b[0m\u001b[0;31m \u001b[0m\u001b[0;31m`\u001b[0m\u001b[0mJsonDeserializer\u001b[0m\u001b[0;31m`\u001b[0m \u001b[0;32mand\u001b[0m \u001b[0mimplement\u001b[0m \u001b[0myour\u001b[0m \u001b[0mown\u001b[0m \u001b[0mlogic\u001b[0m\u001b[0;34m.\u001b[0m\u001b[0;34m\u001b[0m\u001b[0;34m\u001b[0m\u001b[0m\n\u001b[1;32m     46\u001b[0m     \"\"\"\n\u001b[0;32m---> 47\u001b[0;31m     \u001b[0;32mreturn\u001b[0m \u001b[0mfrom_dict\u001b[0m\u001b[0;34m(\u001b[0m\u001b[0mc\u001b[0m\u001b[0;34m,\u001b[0m \u001b[0mde\u001b[0m\u001b[0;34m.\u001b[0m\u001b[0mdeserialize\u001b[0m\u001b[0;34m(\u001b[0m\u001b[0ms\u001b[0m\u001b[0;34m,\u001b[0m \u001b[0;34m**\u001b[0m\u001b[0mopts\u001b[0m\u001b[0;34m)\u001b[0m\u001b[0;34m,\u001b[0m \u001b[0mreuse_instances\u001b[0m\u001b[0;34m=\u001b[0m\u001b[0;32mFalse\u001b[0m\u001b[0;34m)\u001b[0m\u001b[0;34m\u001b[0m\u001b[0;34m\u001b[0m\u001b[0m\n\u001b[0m",
      "\u001b[0;32m~/miniconda3/lib/python3.9/site-packages/serde/json.py\u001b[0m in \u001b[0;36mdeserialize\u001b[0;34m(cls, s, **opts)\u001b[0m\n\u001b[1;32m     21\u001b[0m     \u001b[0;34m@\u001b[0m\u001b[0mclassmethod\u001b[0m\u001b[0;34m\u001b[0m\u001b[0;34m\u001b[0m\u001b[0m\n\u001b[1;32m     22\u001b[0m     \u001b[0;32mdef\u001b[0m \u001b[0mdeserialize\u001b[0m\u001b[0;34m(\u001b[0m\u001b[0mcls\u001b[0m\u001b[0;34m,\u001b[0m \u001b[0ms\u001b[0m\u001b[0;34m,\u001b[0m \u001b[0;34m**\u001b[0m\u001b[0mopts\u001b[0m\u001b[0;34m)\u001b[0m\u001b[0;34m:\u001b[0m\u001b[0;34m\u001b[0m\u001b[0;34m\u001b[0m\u001b[0m\n\u001b[0;32m---> 23\u001b[0;31m         \u001b[0;32mreturn\u001b[0m \u001b[0mjson\u001b[0m\u001b[0;34m.\u001b[0m\u001b[0mloads\u001b[0m\u001b[0;34m(\u001b[0m\u001b[0ms\u001b[0m\u001b[0;34m,\u001b[0m \u001b[0;34m**\u001b[0m\u001b[0mopts\u001b[0m\u001b[0;34m)\u001b[0m\u001b[0;34m\u001b[0m\u001b[0;34m\u001b[0m\u001b[0m\n\u001b[0m\u001b[1;32m     24\u001b[0m \u001b[0;34m\u001b[0m\u001b[0m\n\u001b[1;32m     25\u001b[0m \u001b[0;34m\u001b[0m\u001b[0m\n",
      "\u001b[0;32m~/miniconda3/lib/python3.9/json/__init__.py\u001b[0m in \u001b[0;36mloads\u001b[0;34m(s, cls, object_hook, parse_float, parse_int, parse_constant, object_pairs_hook, **kw)\u001b[0m\n\u001b[1;32m    344\u001b[0m             \u001b[0mparse_int\u001b[0m \u001b[0;32mis\u001b[0m \u001b[0;32mNone\u001b[0m \u001b[0;32mand\u001b[0m \u001b[0mparse_float\u001b[0m \u001b[0;32mis\u001b[0m \u001b[0;32mNone\u001b[0m \u001b[0;32mand\u001b[0m\u001b[0;34m\u001b[0m\u001b[0;34m\u001b[0m\u001b[0m\n\u001b[1;32m    345\u001b[0m             parse_constant is None and object_pairs_hook is None and not kw):\n\u001b[0;32m--> 346\u001b[0;31m         \u001b[0;32mreturn\u001b[0m \u001b[0m_default_decoder\u001b[0m\u001b[0;34m.\u001b[0m\u001b[0mdecode\u001b[0m\u001b[0;34m(\u001b[0m\u001b[0ms\u001b[0m\u001b[0;34m)\u001b[0m\u001b[0;34m\u001b[0m\u001b[0;34m\u001b[0m\u001b[0m\n\u001b[0m\u001b[1;32m    347\u001b[0m     \u001b[0;32mif\u001b[0m \u001b[0mcls\u001b[0m \u001b[0;32mis\u001b[0m \u001b[0;32mNone\u001b[0m\u001b[0;34m:\u001b[0m\u001b[0;34m\u001b[0m\u001b[0;34m\u001b[0m\u001b[0m\n\u001b[1;32m    348\u001b[0m         \u001b[0mcls\u001b[0m \u001b[0;34m=\u001b[0m \u001b[0mJSONDecoder\u001b[0m\u001b[0;34m\u001b[0m\u001b[0;34m\u001b[0m\u001b[0m\n",
      "\u001b[0;32m~/miniconda3/lib/python3.9/json/decoder.py\u001b[0m in \u001b[0;36mdecode\u001b[0;34m(self, s, _w)\u001b[0m\n\u001b[1;32m    338\u001b[0m         \u001b[0mend\u001b[0m \u001b[0;34m=\u001b[0m \u001b[0m_w\u001b[0m\u001b[0;34m(\u001b[0m\u001b[0ms\u001b[0m\u001b[0;34m,\u001b[0m \u001b[0mend\u001b[0m\u001b[0;34m)\u001b[0m\u001b[0;34m.\u001b[0m\u001b[0mend\u001b[0m\u001b[0;34m(\u001b[0m\u001b[0;34m)\u001b[0m\u001b[0;34m\u001b[0m\u001b[0;34m\u001b[0m\u001b[0m\n\u001b[1;32m    339\u001b[0m         \u001b[0;32mif\u001b[0m \u001b[0mend\u001b[0m \u001b[0;34m!=\u001b[0m \u001b[0mlen\u001b[0m\u001b[0;34m(\u001b[0m\u001b[0ms\u001b[0m\u001b[0;34m)\u001b[0m\u001b[0;34m:\u001b[0m\u001b[0;34m\u001b[0m\u001b[0;34m\u001b[0m\u001b[0m\n\u001b[0;32m--> 340\u001b[0;31m             \u001b[0;32mraise\u001b[0m \u001b[0mJSONDecodeError\u001b[0m\u001b[0;34m(\u001b[0m\u001b[0;34m\"Extra data\"\u001b[0m\u001b[0;34m,\u001b[0m \u001b[0ms\u001b[0m\u001b[0;34m,\u001b[0m \u001b[0mend\u001b[0m\u001b[0;34m)\u001b[0m\u001b[0;34m\u001b[0m\u001b[0;34m\u001b[0m\u001b[0m\n\u001b[0m\u001b[1;32m    341\u001b[0m         \u001b[0;32mreturn\u001b[0m \u001b[0mobj\u001b[0m\u001b[0;34m\u001b[0m\u001b[0;34m\u001b[0m\u001b[0m\n\u001b[1;32m    342\u001b[0m \u001b[0;34m\u001b[0m\u001b[0m\n",
      "\u001b[0;31mJSONDecodeError\u001b[0m: Extra data: line 2 column 1 (char 445)"
     ]
    }
   ],
   "source": [
    "annonces = from_json(list[Annonce], data)"
   ]
  },
  {
   "cell_type": "code",
   "execution_count": 7,
   "id": "a706daf4-1c7b-4187-914c-9a9e19178a30",
   "metadata": {},
   "outputs": [],
   "source": [
    "data = data.replace(\"}\", \"},\")"
   ]
  },
  {
   "cell_type": "code",
   "execution_count": 8,
   "id": "98c500c4-eac7-4186-9123-93d978dbfdd9",
   "metadata": {},
   "outputs": [],
   "source": [
    "data = \"[\" + data + \"]\""
   ]
  },
  {
   "cell_type": "code",
   "execution_count": 9,
   "id": "0025d21f-ae35-4308-ab3c-894a9c858d9b",
   "metadata": {},
   "outputs": [
    {
     "ename": "JSONDecodeError",
     "evalue": "Expecting value: line 1819 column 1 (char 815182)",
     "output_type": "error",
     "traceback": [
      "\u001b[0;31m---------------------------------------------------------------------------\u001b[0m",
      "\u001b[0;31mJSONDecodeError\u001b[0m                           Traceback (most recent call last)",
      "\u001b[0;32m/tmp/ipykernel_6950/797666142.py\u001b[0m in \u001b[0;36m<module>\u001b[0;34m\u001b[0m\n\u001b[0;32m----> 1\u001b[0;31m \u001b[0mannonces\u001b[0m \u001b[0;34m=\u001b[0m \u001b[0mfrom_json\u001b[0m\u001b[0;34m(\u001b[0m\u001b[0mlist\u001b[0m\u001b[0;34m[\u001b[0m\u001b[0mAnnonce\u001b[0m\u001b[0;34m]\u001b[0m\u001b[0;34m,\u001b[0m \u001b[0mdata\u001b[0m\u001b[0;34m)\u001b[0m\u001b[0;34m\u001b[0m\u001b[0;34m\u001b[0m\u001b[0m\n\u001b[0m",
      "\u001b[0;32m~/miniconda3/lib/python3.9/site-packages/serde/json.py\u001b[0m in \u001b[0;36mfrom_json\u001b[0;34m(c, s, de, **opts)\u001b[0m\n\u001b[1;32m     45\u001b[0m     \u001b[0mIf\u001b[0m \u001b[0myou\u001b[0m \u001b[0mwant\u001b[0m \u001b[0mto\u001b[0m \u001b[0muse\u001b[0m \u001b[0mthe\u001b[0m \u001b[0mother\u001b[0m \u001b[0mjson\u001b[0m \u001b[0mpackage\u001b[0m\u001b[0;34m,\u001b[0m \u001b[0myou\u001b[0m \u001b[0mcan\u001b[0m \u001b[0msubclass\u001b[0m\u001b[0;31m \u001b[0m\u001b[0;31m`\u001b[0m\u001b[0mJsonDeserializer\u001b[0m\u001b[0;31m`\u001b[0m \u001b[0;32mand\u001b[0m \u001b[0mimplement\u001b[0m \u001b[0myour\u001b[0m \u001b[0mown\u001b[0m \u001b[0mlogic\u001b[0m\u001b[0;34m.\u001b[0m\u001b[0;34m\u001b[0m\u001b[0;34m\u001b[0m\u001b[0m\n\u001b[1;32m     46\u001b[0m     \"\"\"\n\u001b[0;32m---> 47\u001b[0;31m     \u001b[0;32mreturn\u001b[0m \u001b[0mfrom_dict\u001b[0m\u001b[0;34m(\u001b[0m\u001b[0mc\u001b[0m\u001b[0;34m,\u001b[0m \u001b[0mde\u001b[0m\u001b[0;34m.\u001b[0m\u001b[0mdeserialize\u001b[0m\u001b[0;34m(\u001b[0m\u001b[0ms\u001b[0m\u001b[0;34m,\u001b[0m \u001b[0;34m**\u001b[0m\u001b[0mopts\u001b[0m\u001b[0;34m)\u001b[0m\u001b[0;34m,\u001b[0m \u001b[0mreuse_instances\u001b[0m\u001b[0;34m=\u001b[0m\u001b[0;32mFalse\u001b[0m\u001b[0;34m)\u001b[0m\u001b[0;34m\u001b[0m\u001b[0;34m\u001b[0m\u001b[0m\n\u001b[0m",
      "\u001b[0;32m~/miniconda3/lib/python3.9/site-packages/serde/json.py\u001b[0m in \u001b[0;36mdeserialize\u001b[0;34m(cls, s, **opts)\u001b[0m\n\u001b[1;32m     21\u001b[0m     \u001b[0;34m@\u001b[0m\u001b[0mclassmethod\u001b[0m\u001b[0;34m\u001b[0m\u001b[0;34m\u001b[0m\u001b[0m\n\u001b[1;32m     22\u001b[0m     \u001b[0;32mdef\u001b[0m \u001b[0mdeserialize\u001b[0m\u001b[0;34m(\u001b[0m\u001b[0mcls\u001b[0m\u001b[0;34m,\u001b[0m \u001b[0ms\u001b[0m\u001b[0;34m,\u001b[0m \u001b[0;34m**\u001b[0m\u001b[0mopts\u001b[0m\u001b[0;34m)\u001b[0m\u001b[0;34m:\u001b[0m\u001b[0;34m\u001b[0m\u001b[0;34m\u001b[0m\u001b[0m\n\u001b[0;32m---> 23\u001b[0;31m         \u001b[0;32mreturn\u001b[0m \u001b[0mjson\u001b[0m\u001b[0;34m.\u001b[0m\u001b[0mloads\u001b[0m\u001b[0;34m(\u001b[0m\u001b[0ms\u001b[0m\u001b[0;34m,\u001b[0m \u001b[0;34m**\u001b[0m\u001b[0mopts\u001b[0m\u001b[0;34m)\u001b[0m\u001b[0;34m\u001b[0m\u001b[0;34m\u001b[0m\u001b[0m\n\u001b[0m\u001b[1;32m     24\u001b[0m \u001b[0;34m\u001b[0m\u001b[0m\n\u001b[1;32m     25\u001b[0m \u001b[0;34m\u001b[0m\u001b[0m\n",
      "\u001b[0;32m~/miniconda3/lib/python3.9/json/__init__.py\u001b[0m in \u001b[0;36mloads\u001b[0;34m(s, cls, object_hook, parse_float, parse_int, parse_constant, object_pairs_hook, **kw)\u001b[0m\n\u001b[1;32m    344\u001b[0m             \u001b[0mparse_int\u001b[0m \u001b[0;32mis\u001b[0m \u001b[0;32mNone\u001b[0m \u001b[0;32mand\u001b[0m \u001b[0mparse_float\u001b[0m \u001b[0;32mis\u001b[0m \u001b[0;32mNone\u001b[0m \u001b[0;32mand\u001b[0m\u001b[0;34m\u001b[0m\u001b[0;34m\u001b[0m\u001b[0m\n\u001b[1;32m    345\u001b[0m             parse_constant is None and object_pairs_hook is None and not kw):\n\u001b[0;32m--> 346\u001b[0;31m         \u001b[0;32mreturn\u001b[0m \u001b[0m_default_decoder\u001b[0m\u001b[0;34m.\u001b[0m\u001b[0mdecode\u001b[0m\u001b[0;34m(\u001b[0m\u001b[0ms\u001b[0m\u001b[0;34m)\u001b[0m\u001b[0;34m\u001b[0m\u001b[0;34m\u001b[0m\u001b[0m\n\u001b[0m\u001b[1;32m    347\u001b[0m     \u001b[0;32mif\u001b[0m \u001b[0mcls\u001b[0m \u001b[0;32mis\u001b[0m \u001b[0;32mNone\u001b[0m\u001b[0;34m:\u001b[0m\u001b[0;34m\u001b[0m\u001b[0;34m\u001b[0m\u001b[0m\n\u001b[1;32m    348\u001b[0m         \u001b[0mcls\u001b[0m \u001b[0;34m=\u001b[0m \u001b[0mJSONDecoder\u001b[0m\u001b[0;34m\u001b[0m\u001b[0;34m\u001b[0m\u001b[0m\n",
      "\u001b[0;32m~/miniconda3/lib/python3.9/json/decoder.py\u001b[0m in \u001b[0;36mdecode\u001b[0;34m(self, s, _w)\u001b[0m\n\u001b[1;32m    335\u001b[0m \u001b[0;34m\u001b[0m\u001b[0m\n\u001b[1;32m    336\u001b[0m         \"\"\"\n\u001b[0;32m--> 337\u001b[0;31m         \u001b[0mobj\u001b[0m\u001b[0;34m,\u001b[0m \u001b[0mend\u001b[0m \u001b[0;34m=\u001b[0m \u001b[0mself\u001b[0m\u001b[0;34m.\u001b[0m\u001b[0mraw_decode\u001b[0m\u001b[0;34m(\u001b[0m\u001b[0ms\u001b[0m\u001b[0;34m,\u001b[0m \u001b[0midx\u001b[0m\u001b[0;34m=\u001b[0m\u001b[0m_w\u001b[0m\u001b[0;34m(\u001b[0m\u001b[0ms\u001b[0m\u001b[0;34m,\u001b[0m \u001b[0;36m0\u001b[0m\u001b[0;34m)\u001b[0m\u001b[0;34m.\u001b[0m\u001b[0mend\u001b[0m\u001b[0;34m(\u001b[0m\u001b[0;34m)\u001b[0m\u001b[0;34m)\u001b[0m\u001b[0;34m\u001b[0m\u001b[0;34m\u001b[0m\u001b[0m\n\u001b[0m\u001b[1;32m    338\u001b[0m         \u001b[0mend\u001b[0m \u001b[0;34m=\u001b[0m \u001b[0m_w\u001b[0m\u001b[0;34m(\u001b[0m\u001b[0ms\u001b[0m\u001b[0;34m,\u001b[0m \u001b[0mend\u001b[0m\u001b[0;34m)\u001b[0m\u001b[0;34m.\u001b[0m\u001b[0mend\u001b[0m\u001b[0;34m(\u001b[0m\u001b[0;34m)\u001b[0m\u001b[0;34m\u001b[0m\u001b[0;34m\u001b[0m\u001b[0m\n\u001b[1;32m    339\u001b[0m         \u001b[0;32mif\u001b[0m \u001b[0mend\u001b[0m \u001b[0;34m!=\u001b[0m \u001b[0mlen\u001b[0m\u001b[0;34m(\u001b[0m\u001b[0ms\u001b[0m\u001b[0;34m)\u001b[0m\u001b[0;34m:\u001b[0m\u001b[0;34m\u001b[0m\u001b[0;34m\u001b[0m\u001b[0m\n",
      "\u001b[0;32m~/miniconda3/lib/python3.9/json/decoder.py\u001b[0m in \u001b[0;36mraw_decode\u001b[0;34m(self, s, idx)\u001b[0m\n\u001b[1;32m    353\u001b[0m             \u001b[0mobj\u001b[0m\u001b[0;34m,\u001b[0m \u001b[0mend\u001b[0m \u001b[0;34m=\u001b[0m \u001b[0mself\u001b[0m\u001b[0;34m.\u001b[0m\u001b[0mscan_once\u001b[0m\u001b[0;34m(\u001b[0m\u001b[0ms\u001b[0m\u001b[0;34m,\u001b[0m \u001b[0midx\u001b[0m\u001b[0;34m)\u001b[0m\u001b[0;34m\u001b[0m\u001b[0;34m\u001b[0m\u001b[0m\n\u001b[1;32m    354\u001b[0m         \u001b[0;32mexcept\u001b[0m \u001b[0mStopIteration\u001b[0m \u001b[0;32mas\u001b[0m \u001b[0merr\u001b[0m\u001b[0;34m:\u001b[0m\u001b[0;34m\u001b[0m\u001b[0;34m\u001b[0m\u001b[0m\n\u001b[0;32m--> 355\u001b[0;31m             \u001b[0;32mraise\u001b[0m \u001b[0mJSONDecodeError\u001b[0m\u001b[0;34m(\u001b[0m\u001b[0;34m\"Expecting value\"\u001b[0m\u001b[0;34m,\u001b[0m \u001b[0ms\u001b[0m\u001b[0;34m,\u001b[0m \u001b[0merr\u001b[0m\u001b[0;34m.\u001b[0m\u001b[0mvalue\u001b[0m\u001b[0;34m)\u001b[0m \u001b[0;32mfrom\u001b[0m \u001b[0;32mNone\u001b[0m\u001b[0;34m\u001b[0m\u001b[0;34m\u001b[0m\u001b[0m\n\u001b[0m\u001b[1;32m    356\u001b[0m         \u001b[0;32mreturn\u001b[0m \u001b[0mobj\u001b[0m\u001b[0;34m,\u001b[0m \u001b[0mend\u001b[0m\u001b[0;34m\u001b[0m\u001b[0;34m\u001b[0m\u001b[0m\n",
      "\u001b[0;31mJSONDecodeError\u001b[0m: Expecting value: line 1819 column 1 (char 815182)"
     ]
    }
   ],
   "source": [
    "annonces = from_json(list[Annonce], data)"
   ]
  },
  {
   "cell_type": "code",
   "execution_count": 10,
   "id": "4af7673f-f3ce-419c-b3b7-e5058b2c9f6f",
   "metadata": {},
   "outputs": [],
   "source": [
    "with open(\"data.json\", \"w\") as fichier:\n",
    "    fichier.write(data)"
   ]
  },
  {
   "cell_type": "code",
   "execution_count": 11,
   "id": "c162368b-3a76-42c7-977f-9e030e8bb1f4",
   "metadata": {},
   "outputs": [],
   "source": [
    "with open(\"data.json\", \"r\") as fichier:\n",
    "    data = fichier.read()"
   ]
  },
  {
   "cell_type": "code",
   "execution_count": 88,
   "id": "263ba18e-6828-43af-b6b5-b01edb8b3a4d",
   "metadata": {},
   "outputs": [],
   "source": [
    "annonces = from_json(list[Annonce], data)"
   ]
  },
  {
   "cell_type": "code",
   "execution_count": 154,
   "id": "c0664f49-05d3-4f16-ad2c-5e26381f66ec",
   "metadata": {},
   "outputs": [],
   "source": [
    "df = pd.DataFrame(annonces)"
   ]
  },
  {
   "cell_type": "code",
   "execution_count": 155,
   "id": "24e0f6ed-3ea0-4031-b8e3-c34e6670ab0a",
   "metadata": {},
   "outputs": [
    {
     "data": {
      "text/html": [
       "<div>\n",
       "<style scoped>\n",
       "    .dataframe tbody tr th:only-of-type {\n",
       "        vertical-align: middle;\n",
       "    }\n",
       "\n",
       "    .dataframe tbody tr th {\n",
       "        vertical-align: top;\n",
       "    }\n",
       "\n",
       "    .dataframe thead th {\n",
       "        text-align: right;\n",
       "    }\n",
       "</style>\n",
       "<table border=\"1\" class=\"dataframe\">\n",
       "  <thead>\n",
       "    <tr style=\"text-align: right;\">\n",
       "      <th></th>\n",
       "      <th>id</th>\n",
       "      <th>genre</th>\n",
       "      <th>prix</th>\n",
       "      <th>pcs</th>\n",
       "      <th>desc</th>\n",
       "      <th>lien</th>\n",
       "    </tr>\n",
       "  </thead>\n",
       "  <tbody>\n",
       "    <tr>\n",
       "      <th>0</th>\n",
       "      <td>annonce-138905473-376235</td>\n",
       "      <td>Appartement</td>\n",
       "      <td>374 400 €</td>\n",
       "      <td>3 p 2 ch 90 m²</td>\n",
       "      <td>Appartement type 3 - TOURS CATHÉDRALE TOURS CA...</td>\n",
       "      <td>https://www.seloger.com/annonces/achat/apparte...</td>\n",
       "    </tr>\n",
       "    <tr>\n",
       "      <th>1</th>\n",
       "      <td>annonce-140620177-376235</td>\n",
       "      <td>Appartement</td>\n",
       "      <td>499 200 €</td>\n",
       "      <td>5 p 4 ch 146,27 m²</td>\n",
       "      <td>TOURS HYPERCENTRE - Appartement TOURS HYPERCEN...</td>\n",
       "      <td>https://www.seloger.com/annonces/achat/apparte...</td>\n",
       "    </tr>\n",
       "    <tr>\n",
       "      <th>2</th>\n",
       "      <td>annonce-140620179-376235</td>\n",
       "      <td>Appartement</td>\n",
       "      <td>499 200 €</td>\n",
       "      <td>5 p 3 ch 110 m²</td>\n",
       "      <td>TOURS PRÉBENDES NORD - APPARTEMENT TOURS PRÉBE...</td>\n",
       "      <td>https://www.seloger.com/annonces/achat/apparte...</td>\n",
       "    </tr>\n",
       "    <tr>\n",
       "      <th>3</th>\n",
       "      <td>annonce-133494153-376235</td>\n",
       "      <td>Maison / Villa</td>\n",
       "      <td>508 000 €</td>\n",
       "      <td>6 p 4 ch 132 m²</td>\n",
       "      <td>TOURS PRÉBENDES - PARTICULIER TOURANGEAUX TOUR...</td>\n",
       "      <td>https://www.seloger.com/annonces/achat/maison/...</td>\n",
       "    </tr>\n",
       "    <tr>\n",
       "      <th>4</th>\n",
       "      <td>annonce-137425993-376235</td>\n",
       "      <td>Maison / Villa</td>\n",
       "      <td>676 000 €</td>\n",
       "      <td>7 p 5 ch 185 m²</td>\n",
       "      <td>TOURS STRASBOURG / RABELAIS - Maison TOURS STR...</td>\n",
       "      <td>https://www.seloger.com/annonces/achat-de-pres...</td>\n",
       "    </tr>\n",
       "  </tbody>\n",
       "</table>\n",
       "</div>"
      ],
      "text/plain": [
       "                         id           genre       prix                 pcs  \\\n",
       "0  annonce-138905473-376235     Appartement  374 400 €      3 p 2 ch 90 m²   \n",
       "1  annonce-140620177-376235     Appartement  499 200 €  5 p 4 ch 146,27 m²   \n",
       "2  annonce-140620179-376235     Appartement  499 200 €     5 p 3 ch 110 m²   \n",
       "3  annonce-133494153-376235  Maison / Villa  508 000 €     6 p 4 ch 132 m²   \n",
       "4  annonce-137425993-376235  Maison / Villa  676 000 €     7 p 5 ch 185 m²   \n",
       "\n",
       "                                                desc  \\\n",
       "0  Appartement type 3 - TOURS CATHÉDRALE TOURS CA...   \n",
       "1  TOURS HYPERCENTRE - Appartement TOURS HYPERCEN...   \n",
       "2  TOURS PRÉBENDES NORD - APPARTEMENT TOURS PRÉBE...   \n",
       "3  TOURS PRÉBENDES - PARTICULIER TOURANGEAUX TOUR...   \n",
       "4  TOURS STRASBOURG / RABELAIS - Maison TOURS STR...   \n",
       "\n",
       "                                                lien  \n",
       "0  https://www.seloger.com/annonces/achat/apparte...  \n",
       "1  https://www.seloger.com/annonces/achat/apparte...  \n",
       "2  https://www.seloger.com/annonces/achat/apparte...  \n",
       "3  https://www.seloger.com/annonces/achat/maison/...  \n",
       "4  https://www.seloger.com/annonces/achat-de-pres...  "
      ]
     },
     "execution_count": 155,
     "metadata": {},
     "output_type": "execute_result"
    }
   ],
   "source": [
    "df.head()"
   ]
  },
  {
   "cell_type": "code",
   "execution_count": 156,
   "id": "a7c26d43-6cbc-42c9-a13d-d255a583c811",
   "metadata": {},
   "outputs": [
    {
     "data": {
      "text/plain": [
       "id       object\n",
       "genre    object\n",
       "prix     object\n",
       "pcs      object\n",
       "desc     object\n",
       "lien     object\n",
       "dtype: object"
      ]
     },
     "execution_count": 156,
     "metadata": {},
     "output_type": "execute_result"
    }
   ],
   "source": [
    "df.dtypes"
   ]
  },
  {
   "cell_type": "markdown",
   "id": "29e475cd-9ff5-41a1-bd7b-396cc3529f1e",
   "metadata": {},
   "source": [
    "# Exercice\n",
    "\n",
    "Faites le nettoyage de toutes les colonnes sauf desc."
   ]
  },
  {
   "cell_type": "markdown",
   "id": "d0c1bae6-b00c-4bf1-a569-a4d6ffe8e7ab",
   "metadata": {},
   "source": [
    "## Colonne id"
   ]
  },
  {
   "cell_type": "code",
   "execution_count": 157,
   "id": "04efd9e2-71d7-4600-a458-a0d58bfab3f8",
   "metadata": {},
   "outputs": [
    {
     "data": {
      "text/plain": [
       "1818"
      ]
     },
     "execution_count": 157,
     "metadata": {},
     "output_type": "execute_result"
    }
   ],
   "source": [
    "df.id.count()"
   ]
  },
  {
   "cell_type": "code",
   "execution_count": 158,
   "id": "a1d9168b-15b2-4a3e-aa67-180c4c65f019",
   "metadata": {},
   "outputs": [
    {
     "data": {
      "text/plain": [
       "(1798,)"
      ]
     },
     "execution_count": 158,
     "metadata": {},
     "output_type": "execute_result"
    }
   ],
   "source": [
    "df.id.unique().shape"
   ]
  },
  {
   "cell_type": "code",
   "execution_count": 159,
   "id": "14965027-2d3f-4805-881c-280ea5964fae",
   "metadata": {},
   "outputs": [],
   "source": [
    "df.drop_duplicates(\"id\", inplace=True)"
   ]
  },
  {
   "cell_type": "code",
   "execution_count": 160,
   "id": "a8834f34-b3f8-4954-846d-f153d6d58efb",
   "metadata": {},
   "outputs": [
    {
     "data": {
      "text/plain": [
       "1798"
      ]
     },
     "execution_count": 160,
     "metadata": {},
     "output_type": "execute_result"
    }
   ],
   "source": [
    "df.id.count()"
   ]
  },
  {
   "cell_type": "markdown",
   "id": "16c46279-d641-4b5f-8bb9-6da88fec5990",
   "metadata": {},
   "source": [
    "## Colonne genre "
   ]
  },
  {
   "cell_type": "code",
   "execution_count": 161,
   "id": "ea04feff-99e0-4226-912c-cb76f0e03bab",
   "metadata": {},
   "outputs": [
    {
     "data": {
      "text/plain": [
       "array(['Appartement', 'Maison / Villa', 'Appartement neuf',\n",
       "       'Projet de construction', 'Maison / Villa neuve', 'Bâtiment',\n",
       "       'Parking', 'Bureau', 'Local commercial', 'Immeuble', 'Boutique',\n",
       "       'Terrain', 'Divers', 'Loft/Atelier/Surface', 'Château',\n",
       "       'Hôtel particulier'], dtype=object)"
      ]
     },
     "execution_count": 161,
     "metadata": {},
     "output_type": "execute_result"
    }
   ],
   "source": [
    "df.genre.unique()"
   ]
  },
  {
   "cell_type": "code",
   "execution_count": 162,
   "id": "8882b251-5e89-4204-91e8-c58124c192fa",
   "metadata": {},
   "outputs": [
    {
     "data": {
      "text/plain": [
       "Appartement               1037\n",
       "Maison / Villa             376\n",
       "Appartement neuf           204\n",
       "Parking                     38\n",
       "Immeuble                    32\n",
       "Local commercial            30\n",
       "Château                     17\n",
       "Maison / Villa neuve        16\n",
       "Bureau                      14\n",
       "Boutique                    14\n",
       "Bâtiment                     5\n",
       "Divers                       5\n",
       "Projet de construction       4\n",
       "Terrain                      3\n",
       "Loft/Atelier/Surface         2\n",
       "Hôtel particulier            1\n",
       "Name: genre, dtype: int64"
      ]
     },
     "execution_count": 162,
     "metadata": {},
     "output_type": "execute_result"
    }
   ],
   "source": [
    "df.genre.value_counts()"
   ]
  },
  {
   "cell_type": "code",
   "execution_count": 163,
   "id": "13c986c9-7de1-4a2d-960a-6046e56fb9d7",
   "metadata": {},
   "outputs": [],
   "source": [
    "# Suppression des majuscules\n",
    "df.genre = df.genre.str.lower()"
   ]
  },
  {
   "cell_type": "code",
   "execution_count": 164,
   "id": "5c5e81af-88e8-4a61-82aa-6b4722aa5ae1",
   "metadata": {},
   "outputs": [
    {
     "data": {
      "text/plain": [
       "array(['appartement', 'maison / villa', 'appartement neuf',\n",
       "       'projet de construction', 'maison / villa neuve', 'bâtiment',\n",
       "       'parking', 'bureau', 'local commercial', 'immeuble', 'boutique',\n",
       "       'terrain', 'divers', 'loft/atelier/surface', 'château',\n",
       "       'hôtel particulier'], dtype=object)"
      ]
     },
     "execution_count": 164,
     "metadata": {},
     "output_type": "execute_result"
    }
   ],
   "source": [
    "df.genre.unique()"
   ]
  },
  {
   "cell_type": "code",
   "execution_count": 165,
   "id": "3c9beeca-3fc4-4c77-ada5-799bca431e51",
   "metadata": {},
   "outputs": [],
   "source": [
    "motif = re.compile(\"maison|château|particulier\")\n",
    "df[\"maison\"] = df.genre.str.contains(motif)"
   ]
  },
  {
   "cell_type": "code",
   "execution_count": 166,
   "id": "b5830782-3173-48dd-8172-942334feca7f",
   "metadata": {},
   "outputs": [],
   "source": [
    "df[\"appartement\"] = df.genre.str.contains(\"appartement\")"
   ]
  },
  {
   "cell_type": "code",
   "execution_count": 167,
   "id": "acd57b41-4c03-406a-941b-3af0768783b6",
   "metadata": {},
   "outputs": [],
   "source": [
    "motif = re.compile(\"neuf|neuve\")\n",
    "df[\"neuf\"] = df.genre.str.contains(motif)"
   ]
  },
  {
   "cell_type": "code",
   "execution_count": 168,
   "id": "0ec33c45-b560-4354-a72c-40f6b0b3a9bf",
   "metadata": {},
   "outputs": [
    {
     "data": {
      "text/plain": [
       "0        True\n",
       "1        True\n",
       "2        True\n",
       "3        True\n",
       "4        True\n",
       "        ...  \n",
       "1813     True\n",
       "1814     True\n",
       "1815     True\n",
       "1816    False\n",
       "1817    False\n",
       "Length: 1798, dtype: bool"
      ]
     },
     "execution_count": 168,
     "metadata": {},
     "output_type": "execute_result"
    }
   ],
   "source": [
    "masque = df.appartement | df.maison\n",
    "masque"
   ]
  },
  {
   "cell_type": "code",
   "execution_count": 169,
   "id": "35067f06-d59d-43c6-b339-136749402a36",
   "metadata": {},
   "outputs": [
    {
     "data": {
      "text/html": [
       "<div>\n",
       "<style scoped>\n",
       "    .dataframe tbody tr th:only-of-type {\n",
       "        vertical-align: middle;\n",
       "    }\n",
       "\n",
       "    .dataframe tbody tr th {\n",
       "        vertical-align: top;\n",
       "    }\n",
       "\n",
       "    .dataframe thead th {\n",
       "        text-align: right;\n",
       "    }\n",
       "</style>\n",
       "<table border=\"1\" class=\"dataframe\">\n",
       "  <thead>\n",
       "    <tr style=\"text-align: right;\">\n",
       "      <th></th>\n",
       "      <th>id</th>\n",
       "      <th>genre</th>\n",
       "      <th>prix</th>\n",
       "      <th>pcs</th>\n",
       "      <th>desc</th>\n",
       "      <th>lien</th>\n",
       "      <th>maison</th>\n",
       "      <th>appartement</th>\n",
       "      <th>neuf</th>\n",
       "    </tr>\n",
       "  </thead>\n",
       "  <tbody>\n",
       "    <tr>\n",
       "      <th>count</th>\n",
       "      <td>1651</td>\n",
       "      <td>1651</td>\n",
       "      <td>1651</td>\n",
       "      <td>1651</td>\n",
       "      <td>1651</td>\n",
       "      <td>1651</td>\n",
       "      <td>1651</td>\n",
       "      <td>1651</td>\n",
       "      <td>1651</td>\n",
       "    </tr>\n",
       "    <tr>\n",
       "      <th>unique</th>\n",
       "      <td>1651</td>\n",
       "      <td>6</td>\n",
       "      <td>1074</td>\n",
       "      <td>1045</td>\n",
       "      <td>1447</td>\n",
       "      <td>1651</td>\n",
       "      <td>2</td>\n",
       "      <td>2</td>\n",
       "      <td>2</td>\n",
       "    </tr>\n",
       "    <tr>\n",
       "      <th>top</th>\n",
       "      <td>annonce-138905473-376235</td>\n",
       "      <td>appartement</td>\n",
       "      <td>250 000 €</td>\n",
       "      <td>3 p 2 ch 65 m²</td>\n",
       "      <td>Livraison: Octobre 2020 - Rare, plein centre d...</td>\n",
       "      <td>https://www.seloger.com/annonces/achat/apparte...</td>\n",
       "      <td>False</td>\n",
       "      <td>True</td>\n",
       "      <td>False</td>\n",
       "    </tr>\n",
       "    <tr>\n",
       "      <th>freq</th>\n",
       "      <td>1</td>\n",
       "      <td>1037</td>\n",
       "      <td>10</td>\n",
       "      <td>30</td>\n",
       "      <td>19</td>\n",
       "      <td>1</td>\n",
       "      <td>1241</td>\n",
       "      <td>1241</td>\n",
       "      <td>1431</td>\n",
       "    </tr>\n",
       "  </tbody>\n",
       "</table>\n",
       "</div>"
      ],
      "text/plain": [
       "                              id        genre       prix             pcs  \\\n",
       "count                       1651         1651       1651            1651   \n",
       "unique                      1651            6       1074            1045   \n",
       "top     annonce-138905473-376235  appartement  250 000 €  3 p 2 ch 65 m²   \n",
       "freq                           1         1037         10              30   \n",
       "\n",
       "                                                     desc  \\\n",
       "count                                                1651   \n",
       "unique                                               1447   \n",
       "top     Livraison: Octobre 2020 - Rare, plein centre d...   \n",
       "freq                                                   19   \n",
       "\n",
       "                                                     lien maison appartement  \\\n",
       "count                                                1651   1651        1651   \n",
       "unique                                               1651      2           2   \n",
       "top     https://www.seloger.com/annonces/achat/apparte...  False        True   \n",
       "freq                                                    1   1241        1241   \n",
       "\n",
       "         neuf  \n",
       "count    1651  \n",
       "unique      2  \n",
       "top     False  \n",
       "freq     1431  "
      ]
     },
     "execution_count": 169,
     "metadata": {},
     "output_type": "execute_result"
    }
   ],
   "source": [
    "df = df[masque]\n",
    "df.describe()"
   ]
  },
  {
   "cell_type": "code",
   "execution_count": 170,
   "id": "a3f15bdc-29f7-4adc-8648-d1b25bf9d391",
   "metadata": {
    "tags": []
   },
   "outputs": [],
   "source": [
    "df = df.drop(\"genre\", axis=1)"
   ]
  },
  {
   "cell_type": "code",
   "execution_count": 171,
   "id": "743e7404-87cd-4794-a3f8-06c9b7f60ff3",
   "metadata": {},
   "outputs": [
    {
     "data": {
      "text/html": [
       "<div>\n",
       "<style scoped>\n",
       "    .dataframe tbody tr th:only-of-type {\n",
       "        vertical-align: middle;\n",
       "    }\n",
       "\n",
       "    .dataframe tbody tr th {\n",
       "        vertical-align: top;\n",
       "    }\n",
       "\n",
       "    .dataframe thead th {\n",
       "        text-align: right;\n",
       "    }\n",
       "</style>\n",
       "<table border=\"1\" class=\"dataframe\">\n",
       "  <thead>\n",
       "    <tr style=\"text-align: right;\">\n",
       "      <th></th>\n",
       "      <th>id</th>\n",
       "      <th>prix</th>\n",
       "      <th>pcs</th>\n",
       "      <th>desc</th>\n",
       "      <th>lien</th>\n",
       "      <th>maison</th>\n",
       "      <th>appartement</th>\n",
       "      <th>neuf</th>\n",
       "    </tr>\n",
       "  </thead>\n",
       "  <tbody>\n",
       "    <tr>\n",
       "      <th>count</th>\n",
       "      <td>1651</td>\n",
       "      <td>1651</td>\n",
       "      <td>1651</td>\n",
       "      <td>1651</td>\n",
       "      <td>1651</td>\n",
       "      <td>1651</td>\n",
       "      <td>1651</td>\n",
       "      <td>1651</td>\n",
       "    </tr>\n",
       "    <tr>\n",
       "      <th>unique</th>\n",
       "      <td>1651</td>\n",
       "      <td>1074</td>\n",
       "      <td>1045</td>\n",
       "      <td>1447</td>\n",
       "      <td>1651</td>\n",
       "      <td>2</td>\n",
       "      <td>2</td>\n",
       "      <td>2</td>\n",
       "    </tr>\n",
       "    <tr>\n",
       "      <th>top</th>\n",
       "      <td>annonce-138905473-376235</td>\n",
       "      <td>250 000 €</td>\n",
       "      <td>3 p 2 ch 65 m²</td>\n",
       "      <td>Livraison: Octobre 2020 - Rare, plein centre d...</td>\n",
       "      <td>https://www.seloger.com/annonces/achat/apparte...</td>\n",
       "      <td>False</td>\n",
       "      <td>True</td>\n",
       "      <td>False</td>\n",
       "    </tr>\n",
       "    <tr>\n",
       "      <th>freq</th>\n",
       "      <td>1</td>\n",
       "      <td>10</td>\n",
       "      <td>30</td>\n",
       "      <td>19</td>\n",
       "      <td>1</td>\n",
       "      <td>1241</td>\n",
       "      <td>1241</td>\n",
       "      <td>1431</td>\n",
       "    </tr>\n",
       "  </tbody>\n",
       "</table>\n",
       "</div>"
      ],
      "text/plain": [
       "                              id       prix             pcs  \\\n",
       "count                       1651       1651            1651   \n",
       "unique                      1651       1074            1045   \n",
       "top     annonce-138905473-376235  250 000 €  3 p 2 ch 65 m²   \n",
       "freq                           1         10              30   \n",
       "\n",
       "                                                     desc  \\\n",
       "count                                                1651   \n",
       "unique                                               1447   \n",
       "top     Livraison: Octobre 2020 - Rare, plein centre d...   \n",
       "freq                                                   19   \n",
       "\n",
       "                                                     lien maison appartement  \\\n",
       "count                                                1651   1651        1651   \n",
       "unique                                               1651      2           2   \n",
       "top     https://www.seloger.com/annonces/achat/apparte...  False        True   \n",
       "freq                                                    1   1241        1241   \n",
       "\n",
       "         neuf  \n",
       "count    1651  \n",
       "unique      2  \n",
       "top     False  \n",
       "freq     1431  "
      ]
     },
     "execution_count": 171,
     "metadata": {},
     "output_type": "execute_result"
    }
   ],
   "source": [
    "df.describe()"
   ]
  },
  {
   "cell_type": "markdown",
   "id": "5c9eaf4e-f6e2-4467-9caa-6f11f9e080de",
   "metadata": {},
   "source": [
    "## Colonne Prix"
   ]
  },
  {
   "cell_type": "code",
   "execution_count": 172,
   "id": "1933dd35-184e-492d-b865-2a953954bf32",
   "metadata": {},
   "outputs": [],
   "source": [
    "df.prix = df.prix.str.replace(\"HH\", \"\").str.replace(\" \", \"\").str.replace(\"€\", \"\")"
   ]
  },
  {
   "cell_type": "code",
   "execution_count": 173,
   "id": "330cfc89-2f17-474b-89c5-21d5f0afb796",
   "metadata": {},
   "outputs": [],
   "source": [
    "df = df[(df.prix != \"\")]"
   ]
  },
  {
   "cell_type": "code",
   "execution_count": 174,
   "id": "dd1fde73-94f0-4f6f-ad00-e8e20e43f85f",
   "metadata": {},
   "outputs": [],
   "source": [
    "df[\"prix\"] = df.prix.astype(int)"
   ]
  },
  {
   "cell_type": "code",
   "execution_count": 175,
   "id": "35a7a25e-0276-4bd7-97d5-6c394e625952",
   "metadata": {},
   "outputs": [
    {
     "data": {
      "text/plain": [
       "id             object\n",
       "prix            int64\n",
       "pcs            object\n",
       "desc           object\n",
       "lien           object\n",
       "maison           bool\n",
       "appartement      bool\n",
       "neuf             bool\n",
       "dtype: object"
      ]
     },
     "execution_count": 175,
     "metadata": {},
     "output_type": "execute_result"
    }
   ],
   "source": [
    "df.dtypes"
   ]
  },
  {
   "cell_type": "markdown",
   "id": "0f109e00-8083-4ebb-91d1-6a16b1e04af0",
   "metadata": {},
   "source": [
    "## Colonne pcs"
   ]
  },
  {
   "cell_type": "code",
   "execution_count": 176,
   "id": "71476071-4caa-4747-850a-afedca02f43e",
   "metadata": {},
   "outputs": [
    {
     "data": {
      "text/html": [
       "<div>\n",
       "<style scoped>\n",
       "    .dataframe tbody tr th:only-of-type {\n",
       "        vertical-align: middle;\n",
       "    }\n",
       "\n",
       "    .dataframe tbody tr th {\n",
       "        vertical-align: top;\n",
       "    }\n",
       "\n",
       "    .dataframe thead th {\n",
       "        text-align: right;\n",
       "    }\n",
       "</style>\n",
       "<table border=\"1\" class=\"dataframe\">\n",
       "  <thead>\n",
       "    <tr style=\"text-align: right;\">\n",
       "      <th></th>\n",
       "      <th>id</th>\n",
       "      <th>prix</th>\n",
       "      <th>pcs</th>\n",
       "      <th>desc</th>\n",
       "      <th>lien</th>\n",
       "      <th>maison</th>\n",
       "      <th>appartement</th>\n",
       "      <th>neuf</th>\n",
       "    </tr>\n",
       "  </thead>\n",
       "  <tbody>\n",
       "    <tr>\n",
       "      <th>0</th>\n",
       "      <td>annonce-138905473-376235</td>\n",
       "      <td>374400</td>\n",
       "      <td>3 p 2 ch 90 m²</td>\n",
       "      <td>Appartement type 3 - TOURS CATHÉDRALE TOURS CA...</td>\n",
       "      <td>https://www.seloger.com/annonces/achat/apparte...</td>\n",
       "      <td>False</td>\n",
       "      <td>True</td>\n",
       "      <td>False</td>\n",
       "    </tr>\n",
       "    <tr>\n",
       "      <th>1</th>\n",
       "      <td>annonce-140620177-376235</td>\n",
       "      <td>499200</td>\n",
       "      <td>5 p 4 ch 146,27 m²</td>\n",
       "      <td>TOURS HYPERCENTRE - Appartement TOURS HYPERCEN...</td>\n",
       "      <td>https://www.seloger.com/annonces/achat/apparte...</td>\n",
       "      <td>False</td>\n",
       "      <td>True</td>\n",
       "      <td>False</td>\n",
       "    </tr>\n",
       "    <tr>\n",
       "      <th>2</th>\n",
       "      <td>annonce-140620179-376235</td>\n",
       "      <td>499200</td>\n",
       "      <td>5 p 3 ch 110 m²</td>\n",
       "      <td>TOURS PRÉBENDES NORD - APPARTEMENT TOURS PRÉBE...</td>\n",
       "      <td>https://www.seloger.com/annonces/achat/apparte...</td>\n",
       "      <td>False</td>\n",
       "      <td>True</td>\n",
       "      <td>False</td>\n",
       "    </tr>\n",
       "    <tr>\n",
       "      <th>3</th>\n",
       "      <td>annonce-133494153-376235</td>\n",
       "      <td>508000</td>\n",
       "      <td>6 p 4 ch 132 m²</td>\n",
       "      <td>TOURS PRÉBENDES - PARTICULIER TOURANGEAUX TOUR...</td>\n",
       "      <td>https://www.seloger.com/annonces/achat/maison/...</td>\n",
       "      <td>True</td>\n",
       "      <td>False</td>\n",
       "      <td>False</td>\n",
       "    </tr>\n",
       "    <tr>\n",
       "      <th>4</th>\n",
       "      <td>annonce-137425993-376235</td>\n",
       "      <td>676000</td>\n",
       "      <td>7 p 5 ch 185 m²</td>\n",
       "      <td>TOURS STRASBOURG / RABELAIS - Maison TOURS STR...</td>\n",
       "      <td>https://www.seloger.com/annonces/achat-de-pres...</td>\n",
       "      <td>True</td>\n",
       "      <td>False</td>\n",
       "      <td>False</td>\n",
       "    </tr>\n",
       "  </tbody>\n",
       "</table>\n",
       "</div>"
      ],
      "text/plain": [
       "                         id    prix                 pcs  \\\n",
       "0  annonce-138905473-376235  374400      3 p 2 ch 90 m²   \n",
       "1  annonce-140620177-376235  499200  5 p 4 ch 146,27 m²   \n",
       "2  annonce-140620179-376235  499200     5 p 3 ch 110 m²   \n",
       "3  annonce-133494153-376235  508000     6 p 4 ch 132 m²   \n",
       "4  annonce-137425993-376235  676000     7 p 5 ch 185 m²   \n",
       "\n",
       "                                                desc  \\\n",
       "0  Appartement type 3 - TOURS CATHÉDRALE TOURS CA...   \n",
       "1  TOURS HYPERCENTRE - Appartement TOURS HYPERCEN...   \n",
       "2  TOURS PRÉBENDES NORD - APPARTEMENT TOURS PRÉBE...   \n",
       "3  TOURS PRÉBENDES - PARTICULIER TOURANGEAUX TOUR...   \n",
       "4  TOURS STRASBOURG / RABELAIS - Maison TOURS STR...   \n",
       "\n",
       "                                                lien  maison  appartement  \\\n",
       "0  https://www.seloger.com/annonces/achat/apparte...   False         True   \n",
       "1  https://www.seloger.com/annonces/achat/apparte...   False         True   \n",
       "2  https://www.seloger.com/annonces/achat/apparte...   False         True   \n",
       "3  https://www.seloger.com/annonces/achat/maison/...    True        False   \n",
       "4  https://www.seloger.com/annonces/achat-de-pres...    True        False   \n",
       "\n",
       "    neuf  \n",
       "0  False  \n",
       "1  False  \n",
       "2  False  \n",
       "3  False  \n",
       "4  False  "
      ]
     },
     "execution_count": 176,
     "metadata": {},
     "output_type": "execute_result"
    }
   ],
   "source": [
    "df.head()"
   ]
  },
  {
   "cell_type": "code",
   "execution_count": 177,
   "id": "16b6f8b8-5a16-47d4-8cc2-c50ef82423fa",
   "metadata": {},
   "outputs": [
    {
     "data": {
      "text/plain": [
       "18       2p31,6m²1balc\n",
       "19      3p60,73m²1balc\n",
       "28              1p29m²\n",
       "34         1p25m²1tess\n",
       "41       3p61,96m²tess\n",
       "             ...      \n",
       "1804     1p13,77m²3etg\n",
       "1805        1p26m²1asc\n",
       "1807          3p66,3m²\n",
       "1814          4p84,4m²\n",
       "1815          4p84,4m²\n",
       "Name: pcs, Length: 183, dtype: object"
      ]
     },
     "execution_count": 177,
     "metadata": {},
     "output_type": "execute_result"
    }
   ],
   "source": [
    "masque = (df.pcs.str.replace(\" \",\"\").str.match(\"(.*)p(.*)ch(.*)m².*\") == False)\n",
    "df.pcs.str.replace(\" \",\"\")[masque]"
   ]
  },
  {
   "cell_type": "code",
   "execution_count": 178,
   "id": "4bfb44bf-7f72-48a4-a5d3-bdd76894aca0",
   "metadata": {},
   "outputs": [],
   "source": [
    "masque = (df.pcs.str.replace(\" \",\"\").str.match(\"^([0-9]+)p.*?([0-9,]+)m².*?$\"))\n",
    "df = df[masque]"
   ]
  },
  {
   "cell_type": "code",
   "execution_count": 179,
   "id": "f75e64da-59df-4682-9d74-d142f0670e7d",
   "metadata": {},
   "outputs": [
    {
     "data": {
      "text/html": [
       "<div>\n",
       "<style scoped>\n",
       "    .dataframe tbody tr th:only-of-type {\n",
       "        vertical-align: middle;\n",
       "    }\n",
       "\n",
       "    .dataframe tbody tr th {\n",
       "        vertical-align: top;\n",
       "    }\n",
       "\n",
       "    .dataframe thead th {\n",
       "        text-align: right;\n",
       "    }\n",
       "</style>\n",
       "<table border=\"1\" class=\"dataframe\">\n",
       "  <thead>\n",
       "    <tr style=\"text-align: right;\">\n",
       "      <th></th>\n",
       "      <th>id</th>\n",
       "      <th>prix</th>\n",
       "      <th>pcs</th>\n",
       "      <th>desc</th>\n",
       "      <th>lien</th>\n",
       "      <th>maison</th>\n",
       "      <th>appartement</th>\n",
       "      <th>neuf</th>\n",
       "    </tr>\n",
       "  </thead>\n",
       "  <tbody>\n",
       "    <tr>\n",
       "      <th>0</th>\n",
       "      <td>annonce-138905473-376235</td>\n",
       "      <td>374400</td>\n",
       "      <td>3 p 2 ch 90 m²</td>\n",
       "      <td>Appartement type 3 - TOURS CATHÉDRALE TOURS CA...</td>\n",
       "      <td>https://www.seloger.com/annonces/achat/apparte...</td>\n",
       "      <td>False</td>\n",
       "      <td>True</td>\n",
       "      <td>False</td>\n",
       "    </tr>\n",
       "    <tr>\n",
       "      <th>1</th>\n",
       "      <td>annonce-140620177-376235</td>\n",
       "      <td>499200</td>\n",
       "      <td>5 p 4 ch 146,27 m²</td>\n",
       "      <td>TOURS HYPERCENTRE - Appartement TOURS HYPERCEN...</td>\n",
       "      <td>https://www.seloger.com/annonces/achat/apparte...</td>\n",
       "      <td>False</td>\n",
       "      <td>True</td>\n",
       "      <td>False</td>\n",
       "    </tr>\n",
       "    <tr>\n",
       "      <th>2</th>\n",
       "      <td>annonce-140620179-376235</td>\n",
       "      <td>499200</td>\n",
       "      <td>5 p 3 ch 110 m²</td>\n",
       "      <td>TOURS PRÉBENDES NORD - APPARTEMENT TOURS PRÉBE...</td>\n",
       "      <td>https://www.seloger.com/annonces/achat/apparte...</td>\n",
       "      <td>False</td>\n",
       "      <td>True</td>\n",
       "      <td>False</td>\n",
       "    </tr>\n",
       "    <tr>\n",
       "      <th>3</th>\n",
       "      <td>annonce-133494153-376235</td>\n",
       "      <td>508000</td>\n",
       "      <td>6 p 4 ch 132 m²</td>\n",
       "      <td>TOURS PRÉBENDES - PARTICULIER TOURANGEAUX TOUR...</td>\n",
       "      <td>https://www.seloger.com/annonces/achat/maison/...</td>\n",
       "      <td>True</td>\n",
       "      <td>False</td>\n",
       "      <td>False</td>\n",
       "    </tr>\n",
       "    <tr>\n",
       "      <th>4</th>\n",
       "      <td>annonce-137425993-376235</td>\n",
       "      <td>676000</td>\n",
       "      <td>7 p 5 ch 185 m²</td>\n",
       "      <td>TOURS STRASBOURG / RABELAIS - Maison TOURS STR...</td>\n",
       "      <td>https://www.seloger.com/annonces/achat-de-pres...</td>\n",
       "      <td>True</td>\n",
       "      <td>False</td>\n",
       "      <td>False</td>\n",
       "    </tr>\n",
       "  </tbody>\n",
       "</table>\n",
       "</div>"
      ],
      "text/plain": [
       "                         id    prix                 pcs  \\\n",
       "0  annonce-138905473-376235  374400      3 p 2 ch 90 m²   \n",
       "1  annonce-140620177-376235  499200  5 p 4 ch 146,27 m²   \n",
       "2  annonce-140620179-376235  499200     5 p 3 ch 110 m²   \n",
       "3  annonce-133494153-376235  508000     6 p 4 ch 132 m²   \n",
       "4  annonce-137425993-376235  676000     7 p 5 ch 185 m²   \n",
       "\n",
       "                                                desc  \\\n",
       "0  Appartement type 3 - TOURS CATHÉDRALE TOURS CA...   \n",
       "1  TOURS HYPERCENTRE - Appartement TOURS HYPERCEN...   \n",
       "2  TOURS PRÉBENDES NORD - APPARTEMENT TOURS PRÉBE...   \n",
       "3  TOURS PRÉBENDES - PARTICULIER TOURANGEAUX TOUR...   \n",
       "4  TOURS STRASBOURG / RABELAIS - Maison TOURS STR...   \n",
       "\n",
       "                                                lien  maison  appartement  \\\n",
       "0  https://www.seloger.com/annonces/achat/apparte...   False         True   \n",
       "1  https://www.seloger.com/annonces/achat/apparte...   False         True   \n",
       "2  https://www.seloger.com/annonces/achat/apparte...   False         True   \n",
       "3  https://www.seloger.com/annonces/achat/maison/...    True        False   \n",
       "4  https://www.seloger.com/annonces/achat-de-pres...    True        False   \n",
       "\n",
       "    neuf  \n",
       "0  False  \n",
       "1  False  \n",
       "2  False  \n",
       "3  False  \n",
       "4  False  "
      ]
     },
     "execution_count": 179,
     "metadata": {},
     "output_type": "execute_result"
    }
   ],
   "source": [
    "df.reset_index(inplace=True)\n",
    "df.drop(\"index\", axis=1, inplace=True)\n",
    "df.head()"
   ]
  },
  {
   "cell_type": "code",
   "execution_count": 180,
   "id": "f9952215-d69a-4f78-8d92-e0bb16b4ffe9",
   "metadata": {},
   "outputs": [],
   "source": [
    "res = df.pcs.str.replace(\" \", \"\").str.extractall(\"([0-9]+)p.*?([0-9,]+)m²\")\n"
   ]
  },
  {
   "cell_type": "code",
   "execution_count": 181,
   "id": "493fe789-572e-4cf4-bc15-9080ff07e683",
   "metadata": {},
   "outputs": [
    {
     "data": {
      "text/html": [
       "<div>\n",
       "<style scoped>\n",
       "    .dataframe tbody tr th:only-of-type {\n",
       "        vertical-align: middle;\n",
       "    }\n",
       "\n",
       "    .dataframe tbody tr th {\n",
       "        vertical-align: top;\n",
       "    }\n",
       "\n",
       "    .dataframe thead th {\n",
       "        text-align: right;\n",
       "    }\n",
       "</style>\n",
       "<table border=\"1\" class=\"dataframe\">\n",
       "  <thead>\n",
       "    <tr style=\"text-align: right;\">\n",
       "      <th></th>\n",
       "      <th></th>\n",
       "      <th>0</th>\n",
       "      <th>1</th>\n",
       "    </tr>\n",
       "    <tr>\n",
       "      <th></th>\n",
       "      <th>match</th>\n",
       "      <th></th>\n",
       "      <th></th>\n",
       "    </tr>\n",
       "  </thead>\n",
       "  <tbody>\n",
       "    <tr>\n",
       "      <th>0</th>\n",
       "      <th>0</th>\n",
       "      <td>3</td>\n",
       "      <td>90</td>\n",
       "    </tr>\n",
       "    <tr>\n",
       "      <th>1</th>\n",
       "      <th>0</th>\n",
       "      <td>5</td>\n",
       "      <td>146,27</td>\n",
       "    </tr>\n",
       "    <tr>\n",
       "      <th>2</th>\n",
       "      <th>0</th>\n",
       "      <td>5</td>\n",
       "      <td>110</td>\n",
       "    </tr>\n",
       "    <tr>\n",
       "      <th>3</th>\n",
       "      <th>0</th>\n",
       "      <td>6</td>\n",
       "      <td>132</td>\n",
       "    </tr>\n",
       "    <tr>\n",
       "      <th>4</th>\n",
       "      <th>0</th>\n",
       "      <td>7</td>\n",
       "      <td>185</td>\n",
       "    </tr>\n",
       "  </tbody>\n",
       "</table>\n",
       "</div>"
      ],
      "text/plain": [
       "         0       1\n",
       "  match           \n",
       "0 0      3      90\n",
       "1 0      5  146,27\n",
       "2 0      5     110\n",
       "3 0      6     132\n",
       "4 0      7     185"
      ]
     },
     "execution_count": 181,
     "metadata": {},
     "output_type": "execute_result"
    }
   ],
   "source": [
    "res.head()"
   ]
  },
  {
   "cell_type": "code",
   "execution_count": 182,
   "id": "e88d6a88-4641-44b7-8308-5c481a3d87f1",
   "metadata": {},
   "outputs": [
    {
     "data": {
      "text/html": [
       "<div>\n",
       "<style scoped>\n",
       "    .dataframe tbody tr th:only-of-type {\n",
       "        vertical-align: middle;\n",
       "    }\n",
       "\n",
       "    .dataframe tbody tr th {\n",
       "        vertical-align: top;\n",
       "    }\n",
       "\n",
       "    .dataframe thead th {\n",
       "        text-align: right;\n",
       "    }\n",
       "</style>\n",
       "<table border=\"1\" class=\"dataframe\">\n",
       "  <thead>\n",
       "    <tr style=\"text-align: right;\">\n",
       "      <th></th>\n",
       "      <th>level_0</th>\n",
       "      <th>match</th>\n",
       "      <th>0</th>\n",
       "      <th>1</th>\n",
       "    </tr>\n",
       "  </thead>\n",
       "  <tbody>\n",
       "    <tr>\n",
       "      <th>0</th>\n",
       "      <td>0</td>\n",
       "      <td>0</td>\n",
       "      <td>3</td>\n",
       "      <td>90</td>\n",
       "    </tr>\n",
       "    <tr>\n",
       "      <th>1</th>\n",
       "      <td>1</td>\n",
       "      <td>0</td>\n",
       "      <td>5</td>\n",
       "      <td>146,27</td>\n",
       "    </tr>\n",
       "    <tr>\n",
       "      <th>2</th>\n",
       "      <td>2</td>\n",
       "      <td>0</td>\n",
       "      <td>5</td>\n",
       "      <td>110</td>\n",
       "    </tr>\n",
       "    <tr>\n",
       "      <th>3</th>\n",
       "      <td>3</td>\n",
       "      <td>0</td>\n",
       "      <td>6</td>\n",
       "      <td>132</td>\n",
       "    </tr>\n",
       "    <tr>\n",
       "      <th>4</th>\n",
       "      <td>4</td>\n",
       "      <td>0</td>\n",
       "      <td>7</td>\n",
       "      <td>185</td>\n",
       "    </tr>\n",
       "    <tr>\n",
       "      <th>...</th>\n",
       "      <td>...</td>\n",
       "      <td>...</td>\n",
       "      <td>...</td>\n",
       "      <td>...</td>\n",
       "    </tr>\n",
       "    <tr>\n",
       "      <th>1638</th>\n",
       "      <td>1638</td>\n",
       "      <td>0</td>\n",
       "      <td>3</td>\n",
       "      <td>66,3</td>\n",
       "    </tr>\n",
       "    <tr>\n",
       "      <th>1639</th>\n",
       "      <td>1639</td>\n",
       "      <td>0</td>\n",
       "      <td>2</td>\n",
       "      <td>42</td>\n",
       "    </tr>\n",
       "    <tr>\n",
       "      <th>1640</th>\n",
       "      <td>1640</td>\n",
       "      <td>0</td>\n",
       "      <td>3</td>\n",
       "      <td>76</td>\n",
       "    </tr>\n",
       "    <tr>\n",
       "      <th>1641</th>\n",
       "      <td>1641</td>\n",
       "      <td>0</td>\n",
       "      <td>4</td>\n",
       "      <td>84,4</td>\n",
       "    </tr>\n",
       "    <tr>\n",
       "      <th>1642</th>\n",
       "      <td>1642</td>\n",
       "      <td>0</td>\n",
       "      <td>4</td>\n",
       "      <td>84,4</td>\n",
       "    </tr>\n",
       "  </tbody>\n",
       "</table>\n",
       "<p>1643 rows × 4 columns</p>\n",
       "</div>"
      ],
      "text/plain": [
       "      level_0  match  0       1\n",
       "0           0      0  3      90\n",
       "1           1      0  5  146,27\n",
       "2           2      0  5     110\n",
       "3           3      0  6     132\n",
       "4           4      0  7     185\n",
       "...       ...    ... ..     ...\n",
       "1638     1638      0  3    66,3\n",
       "1639     1639      0  2      42\n",
       "1640     1640      0  3      76\n",
       "1641     1641      0  4    84,4\n",
       "1642     1642      0  4    84,4\n",
       "\n",
       "[1643 rows x 4 columns]"
      ]
     },
     "execution_count": 182,
     "metadata": {},
     "output_type": "execute_result"
    }
   ],
   "source": [
    "res.reset_index(inplace=True)\n",
    "res"
   ]
  },
  {
   "cell_type": "code",
   "execution_count": 186,
   "id": "e13657d0-f67c-4b70-95c7-ad077f31bad9",
   "metadata": {},
   "outputs": [],
   "source": [
    "df[\"nombre_pieces\"] = res[0].astype(int)"
   ]
  },
  {
   "cell_type": "code",
   "execution_count": 184,
   "id": "31c2b582-68a3-4d80-aa3d-c7f2b4c61c6e",
   "metadata": {},
   "outputs": [],
   "source": [
    "df[\"surface\"] = res[1].str.replace(\",\", \".\").astype(float)"
   ]
  },
  {
   "cell_type": "code",
   "execution_count": 187,
   "id": "76c2b178-d1b0-4a30-a4b9-1a57a51ed202",
   "metadata": {},
   "outputs": [
    {
     "data": {
      "text/html": [
       "<div>\n",
       "<style scoped>\n",
       "    .dataframe tbody tr th:only-of-type {\n",
       "        vertical-align: middle;\n",
       "    }\n",
       "\n",
       "    .dataframe tbody tr th {\n",
       "        vertical-align: top;\n",
       "    }\n",
       "\n",
       "    .dataframe thead th {\n",
       "        text-align: right;\n",
       "    }\n",
       "</style>\n",
       "<table border=\"1\" class=\"dataframe\">\n",
       "  <thead>\n",
       "    <tr style=\"text-align: right;\">\n",
       "      <th></th>\n",
       "      <th>id</th>\n",
       "      <th>prix</th>\n",
       "      <th>pcs</th>\n",
       "      <th>desc</th>\n",
       "      <th>lien</th>\n",
       "      <th>maison</th>\n",
       "      <th>appartement</th>\n",
       "      <th>neuf</th>\n",
       "      <th>nombre_pieces</th>\n",
       "      <th>surface</th>\n",
       "    </tr>\n",
       "  </thead>\n",
       "  <tbody>\n",
       "    <tr>\n",
       "      <th>0</th>\n",
       "      <td>annonce-138905473-376235</td>\n",
       "      <td>374400</td>\n",
       "      <td>3 p 2 ch 90 m²</td>\n",
       "      <td>Appartement type 3 - TOURS CATHÉDRALE TOURS CA...</td>\n",
       "      <td>https://www.seloger.com/annonces/achat/apparte...</td>\n",
       "      <td>False</td>\n",
       "      <td>True</td>\n",
       "      <td>False</td>\n",
       "      <td>3</td>\n",
       "      <td>90.00</td>\n",
       "    </tr>\n",
       "    <tr>\n",
       "      <th>1</th>\n",
       "      <td>annonce-140620177-376235</td>\n",
       "      <td>499200</td>\n",
       "      <td>5 p 4 ch 146,27 m²</td>\n",
       "      <td>TOURS HYPERCENTRE - Appartement TOURS HYPERCEN...</td>\n",
       "      <td>https://www.seloger.com/annonces/achat/apparte...</td>\n",
       "      <td>False</td>\n",
       "      <td>True</td>\n",
       "      <td>False</td>\n",
       "      <td>5</td>\n",
       "      <td>146.27</td>\n",
       "    </tr>\n",
       "    <tr>\n",
       "      <th>2</th>\n",
       "      <td>annonce-140620179-376235</td>\n",
       "      <td>499200</td>\n",
       "      <td>5 p 3 ch 110 m²</td>\n",
       "      <td>TOURS PRÉBENDES NORD - APPARTEMENT TOURS PRÉBE...</td>\n",
       "      <td>https://www.seloger.com/annonces/achat/apparte...</td>\n",
       "      <td>False</td>\n",
       "      <td>True</td>\n",
       "      <td>False</td>\n",
       "      <td>5</td>\n",
       "      <td>110.00</td>\n",
       "    </tr>\n",
       "    <tr>\n",
       "      <th>3</th>\n",
       "      <td>annonce-133494153-376235</td>\n",
       "      <td>508000</td>\n",
       "      <td>6 p 4 ch 132 m²</td>\n",
       "      <td>TOURS PRÉBENDES - PARTICULIER TOURANGEAUX TOUR...</td>\n",
       "      <td>https://www.seloger.com/annonces/achat/maison/...</td>\n",
       "      <td>True</td>\n",
       "      <td>False</td>\n",
       "      <td>False</td>\n",
       "      <td>6</td>\n",
       "      <td>132.00</td>\n",
       "    </tr>\n",
       "    <tr>\n",
       "      <th>4</th>\n",
       "      <td>annonce-137425993-376235</td>\n",
       "      <td>676000</td>\n",
       "      <td>7 p 5 ch 185 m²</td>\n",
       "      <td>TOURS STRASBOURG / RABELAIS - Maison TOURS STR...</td>\n",
       "      <td>https://www.seloger.com/annonces/achat-de-pres...</td>\n",
       "      <td>True</td>\n",
       "      <td>False</td>\n",
       "      <td>False</td>\n",
       "      <td>7</td>\n",
       "      <td>185.00</td>\n",
       "    </tr>\n",
       "  </tbody>\n",
       "</table>\n",
       "</div>"
      ],
      "text/plain": [
       "                         id    prix                 pcs  \\\n",
       "0  annonce-138905473-376235  374400      3 p 2 ch 90 m²   \n",
       "1  annonce-140620177-376235  499200  5 p 4 ch 146,27 m²   \n",
       "2  annonce-140620179-376235  499200     5 p 3 ch 110 m²   \n",
       "3  annonce-133494153-376235  508000     6 p 4 ch 132 m²   \n",
       "4  annonce-137425993-376235  676000     7 p 5 ch 185 m²   \n",
       "\n",
       "                                                desc  \\\n",
       "0  Appartement type 3 - TOURS CATHÉDRALE TOURS CA...   \n",
       "1  TOURS HYPERCENTRE - Appartement TOURS HYPERCEN...   \n",
       "2  TOURS PRÉBENDES NORD - APPARTEMENT TOURS PRÉBE...   \n",
       "3  TOURS PRÉBENDES - PARTICULIER TOURANGEAUX TOUR...   \n",
       "4  TOURS STRASBOURG / RABELAIS - Maison TOURS STR...   \n",
       "\n",
       "                                                lien  maison  appartement  \\\n",
       "0  https://www.seloger.com/annonces/achat/apparte...   False         True   \n",
       "1  https://www.seloger.com/annonces/achat/apparte...   False         True   \n",
       "2  https://www.seloger.com/annonces/achat/apparte...   False         True   \n",
       "3  https://www.seloger.com/annonces/achat/maison/...    True        False   \n",
       "4  https://www.seloger.com/annonces/achat-de-pres...    True        False   \n",
       "\n",
       "    neuf  nombre_pieces  surface  \n",
       "0  False              3    90.00  \n",
       "1  False              5   146.27  \n",
       "2  False              5   110.00  \n",
       "3  False              6   132.00  \n",
       "4  False              7   185.00  "
      ]
     },
     "execution_count": 187,
     "metadata": {},
     "output_type": "execute_result"
    }
   ],
   "source": [
    "df.head()"
   ]
  },
  {
   "cell_type": "code",
   "execution_count": 188,
   "id": "392efe4a-e6c7-44f3-b904-0199dd9aae38",
   "metadata": {},
   "outputs": [
    {
     "data": {
      "text/plain": [
       "id                object\n",
       "prix               int64\n",
       "pcs               object\n",
       "desc              object\n",
       "lien              object\n",
       "maison              bool\n",
       "appartement         bool\n",
       "neuf                bool\n",
       "nombre_pieces      int64\n",
       "surface          float64\n",
       "dtype: object"
      ]
     },
     "execution_count": 188,
     "metadata": {},
     "output_type": "execute_result"
    }
   ],
   "source": [
    "df.dtypes"
   ]
  },
  {
   "cell_type": "code",
   "execution_count": 189,
   "id": "8ae9e066-ca5f-4857-9362-c12ebc2cdb88",
   "metadata": {},
   "outputs": [],
   "source": [
    "df.drop([\"pcs\", \"id\", \"lien\"], axis=1, inplace=True)"
   ]
  },
  {
   "cell_type": "markdown",
   "id": "70c3ff56-55fc-4e33-9368-5cc0390114c4",
   "metadata": {},
   "source": [
    "## Colonne desc"
   ]
  },
  {
   "cell_type": "code",
   "execution_count": 190,
   "id": "e5d2dedc-fea0-420d-8088-fff29904cdae",
   "metadata": {},
   "outputs": [
    {
     "data": {
      "text/html": [
       "<div>\n",
       "<style scoped>\n",
       "    .dataframe tbody tr th:only-of-type {\n",
       "        vertical-align: middle;\n",
       "    }\n",
       "\n",
       "    .dataframe tbody tr th {\n",
       "        vertical-align: top;\n",
       "    }\n",
       "\n",
       "    .dataframe thead th {\n",
       "        text-align: right;\n",
       "    }\n",
       "</style>\n",
       "<table border=\"1\" class=\"dataframe\">\n",
       "  <thead>\n",
       "    <tr style=\"text-align: right;\">\n",
       "      <th></th>\n",
       "      <th>prix</th>\n",
       "      <th>desc</th>\n",
       "      <th>maison</th>\n",
       "      <th>appartement</th>\n",
       "      <th>neuf</th>\n",
       "      <th>nombre_pieces</th>\n",
       "      <th>surface</th>\n",
       "    </tr>\n",
       "  </thead>\n",
       "  <tbody>\n",
       "    <tr>\n",
       "      <th>0</th>\n",
       "      <td>374400</td>\n",
       "      <td>Appartement type 3 - TOURS CATHÉDRALE TOURS CA...</td>\n",
       "      <td>False</td>\n",
       "      <td>True</td>\n",
       "      <td>False</td>\n",
       "      <td>3</td>\n",
       "      <td>90.00</td>\n",
       "    </tr>\n",
       "    <tr>\n",
       "      <th>1</th>\n",
       "      <td>499200</td>\n",
       "      <td>TOURS HYPERCENTRE - Appartement TOURS HYPERCEN...</td>\n",
       "      <td>False</td>\n",
       "      <td>True</td>\n",
       "      <td>False</td>\n",
       "      <td>5</td>\n",
       "      <td>146.27</td>\n",
       "    </tr>\n",
       "    <tr>\n",
       "      <th>2</th>\n",
       "      <td>499200</td>\n",
       "      <td>TOURS PRÉBENDES NORD - APPARTEMENT TOURS PRÉBE...</td>\n",
       "      <td>False</td>\n",
       "      <td>True</td>\n",
       "      <td>False</td>\n",
       "      <td>5</td>\n",
       "      <td>110.00</td>\n",
       "    </tr>\n",
       "    <tr>\n",
       "      <th>3</th>\n",
       "      <td>508000</td>\n",
       "      <td>TOURS PRÉBENDES - PARTICULIER TOURANGEAUX TOUR...</td>\n",
       "      <td>True</td>\n",
       "      <td>False</td>\n",
       "      <td>False</td>\n",
       "      <td>6</td>\n",
       "      <td>132.00</td>\n",
       "    </tr>\n",
       "    <tr>\n",
       "      <th>4</th>\n",
       "      <td>676000</td>\n",
       "      <td>TOURS STRASBOURG / RABELAIS - Maison TOURS STR...</td>\n",
       "      <td>True</td>\n",
       "      <td>False</td>\n",
       "      <td>False</td>\n",
       "      <td>7</td>\n",
       "      <td>185.00</td>\n",
       "    </tr>\n",
       "  </tbody>\n",
       "</table>\n",
       "</div>"
      ],
      "text/plain": [
       "     prix                                               desc  maison  \\\n",
       "0  374400  Appartement type 3 - TOURS CATHÉDRALE TOURS CA...   False   \n",
       "1  499200  TOURS HYPERCENTRE - Appartement TOURS HYPERCEN...   False   \n",
       "2  499200  TOURS PRÉBENDES NORD - APPARTEMENT TOURS PRÉBE...   False   \n",
       "3  508000  TOURS PRÉBENDES - PARTICULIER TOURANGEAUX TOUR...    True   \n",
       "4  676000  TOURS STRASBOURG / RABELAIS - Maison TOURS STR...    True   \n",
       "\n",
       "   appartement   neuf  nombre_pieces  surface  \n",
       "0         True  False              3    90.00  \n",
       "1         True  False              5   146.27  \n",
       "2         True  False              5   110.00  \n",
       "3        False  False              6   132.00  \n",
       "4        False  False              7   185.00  "
      ]
     },
     "execution_count": 190,
     "metadata": {},
     "output_type": "execute_result"
    }
   ],
   "source": [
    "df.head()"
   ]
  },
  {
   "cell_type": "code",
   "execution_count": 191,
   "id": "7b003c8c-b415-4821-b7b1-de8d302fc470",
   "metadata": {},
   "outputs": [],
   "source": [
    "desc = df.desc.copy()"
   ]
  },
  {
   "cell_type": "code",
   "execution_count": 192,
   "id": "3a39987d-7868-4481-bb2b-36c6fb54113e",
   "metadata": {},
   "outputs": [],
   "source": [
    "from sklearn.preprocessing import OneHotEncoder"
   ]
  },
  {
   "cell_type": "code",
   "execution_count": null,
   "id": "26d3444d-2632-4188-931a-0b6cd1575969",
   "metadata": {},
   "outputs": [],
   "source": [
    "from sklearn.feature_extraction.text import "
   ]
  }
 ],
 "metadata": {
  "kernelspec": {
   "display_name": "Python 3 (ipykernel)",
   "language": "python",
   "name": "python3"
  },
  "language_info": {
   "codemirror_mode": {
    "name": "ipython",
    "version": 3
   },
   "file_extension": ".py",
   "mimetype": "text/x-python",
   "name": "python",
   "nbconvert_exporter": "python",
   "pygments_lexer": "ipython3",
   "version": "3.9.2"
  }
 },
 "nbformat": 4,
 "nbformat_minor": 5
}
