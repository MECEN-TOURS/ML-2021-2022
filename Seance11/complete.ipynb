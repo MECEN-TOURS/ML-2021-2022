{
 "cells": [
  {
   "cell_type": "markdown",
   "metadata": {},
   "source": [
    "# Imports pour le scraping et la sérialisation"
   ]
  },
  {
   "cell_type": "code",
   "execution_count": 2,
   "metadata": {},
   "outputs": [],
   "source": [
    "from dataclasses import dataclass\n",
    "from requests import get\n",
    "from bs4 import BeautifulSoup\n",
    "from serde import serialize, deserialize\n",
    "from serde.json import to_json, from_json"
   ]
  },
  {
   "cell_type": "markdown",
   "metadata": {},
   "source": [
    "# Exploration de l'API BeautifulSoup\n",
    "\n",
    "- Pour [les types d'objets composant l'arbre](https://www.crummy.com/software/BeautifulSoup/bs4/doc/#kinds-of-objects)\n",
    "- Pour [les façons d'explorer l'arbre](https://www.crummy.com/software/BeautifulSoup/bs4/doc/#navigating-the-tree)"
   ]
  },
  {
   "cell_type": "code",
   "execution_count": 3,
   "metadata": {},
   "outputs": [],
   "source": [
    "adresse = \"https://fr.wikipedia.org/wiki/CAC_40\""
   ]
  },
  {
   "cell_type": "code",
   "execution_count": 16,
   "metadata": {},
   "outputs": [
    {
     "data": {
      "text/plain": [
       "200"
      ]
     },
     "execution_count": 16,
     "metadata": {},
     "output_type": "execute_result"
    }
   ],
   "source": [
    "# Requête http et vérification\n",
    "page = get(adresse)\n",
    "page.status_code"
   ]
  },
  {
   "cell_type": "code",
   "execution_count": 17,
   "metadata": {},
   "outputs": [],
   "source": [
    "# \"Analyse grammaticale\"\n",
    "code = page.content.decode(\"utf8\")\n",
    "soupe = BeautifulSoup(code, \"lxml\")"
   ]
  },
  {
   "cell_type": "code",
   "execution_count": 6,
   "metadata": {},
   "outputs": [
    {
     "data": {
      "text/plain": [
       "bs4.BeautifulSoup"
      ]
     },
     "execution_count": 6,
     "metadata": {},
     "output_type": "execute_result"
    }
   ],
   "source": [
    "type(soupe)"
   ]
  },
  {
   "cell_type": "code",
   "execution_count": 7,
   "metadata": {},
   "outputs": [
    {
     "data": {
      "text/plain": [
       "2"
      ]
     },
     "execution_count": 7,
     "metadata": {},
     "output_type": "execute_result"
    }
   ],
   "source": [
    "# Récupération de la liste des balises enfants\n",
    "cs = list(soupe.children)\n",
    "len(cs)"
   ]
  },
  {
   "cell_type": "code",
   "execution_count": 8,
   "metadata": {},
   "outputs": [],
   "source": [
    "gauche, droite = cs"
   ]
  },
  {
   "cell_type": "code",
   "execution_count": 9,
   "metadata": {},
   "outputs": [
    {
     "data": {
      "text/plain": [
       "bs4.element.Doctype"
      ]
     },
     "execution_count": 9,
     "metadata": {},
     "output_type": "execute_result"
    }
   ],
   "source": [
    "type(gauche)"
   ]
  },
  {
   "cell_type": "code",
   "execution_count": 10,
   "metadata": {},
   "outputs": [],
   "source": [
    "gauche.name"
   ]
  },
  {
   "cell_type": "code",
   "execution_count": 11,
   "metadata": {},
   "outputs": [
    {
     "data": {
      "text/plain": [
       "'html'"
      ]
     },
     "execution_count": 11,
     "metadata": {},
     "output_type": "execute_result"
    }
   ],
   "source": [
    "gauche"
   ]
  },
  {
   "cell_type": "code",
   "execution_count": 12,
   "metadata": {},
   "outputs": [
    {
     "data": {
      "text/plain": [
       "bs4.element.Tag"
      ]
     },
     "execution_count": 12,
     "metadata": {},
     "output_type": "execute_result"
    }
   ],
   "source": [
    "type(droite)"
   ]
  },
  {
   "cell_type": "code",
   "execution_count": 13,
   "metadata": {},
   "outputs": [
    {
     "data": {
      "text/plain": [
       "'html'"
      ]
     },
     "execution_count": 13,
     "metadata": {},
     "output_type": "execute_result"
    }
   ],
   "source": [
    "# type de balise\n",
    "droite.name"
   ]
  },
  {
   "cell_type": "code",
   "execution_count": 19,
   "metadata": {
    "tags": []
   },
   "outputs": [
    {
     "data": {
      "text/plain": [
       "<head>\n",
       "<meta charset=\"utf-8\"/>\n",
       "<title>CAC 40 — Wikipédia</title>\n",
       "<script>document.documentElement.className=\"client-js\";RLCONF={\"wgBreakFrames\":!1,\"wgSeparatorTransformTable\":[\",\\t.\",\" \\t,\"],\"wgDigitTransformTable\":[\"\",\"\"],\"wgDefaultDateFormat\":\"dmy\",\"wgMonthNames\":[\"\",\"janvier\",\"février\",\"mars\",\"avril\",\"mai\",\"juin\",\"juillet\",\"août\",\"septembre\",\"octobre\",\"novembre\",\"décembre\"],\"wgRequestId\":\"b2dc0b71-df55-452a-be5c-d7880aab7667\",\"wgCSPNonce\":!1,\"wgCanonicalNamespace\":\"\",\"wgCanonicalSpecialPageName\":!1,\"wgNamespaceNumber\":0,\"wgPageName\":\"CAC_40\",\"wgTitle\":\"CAC 40\",\"wgCurRevisionId\":187118135,\"wgRevisionId\":187118135,\"wgArticleId\":649,\"wgIsArticle\":!0,\"wgIsRedirect\":!1,\"wgAction\":\"view\",\"wgUserName\":null,\"wgUserGroups\":[\"*\"],\"wgCategories\":[\"Page utilisant P571\",\"Page utilisant P946\",\"Article utilisant l'infobox Indice boursier\",\"Article utilisant une Infobox\",\"Article à référence souhaitée\",\"Article à référence nécessaire\",\"Catégorie Commons avec lien local identique sur Wikidata\",\"Article de Wikipédia avec notice d'autorité\",\n",
       "\"Portail:Finance/Articles liés\",\"Portail:Économie/Articles liés\",\"Portail:Paris/Articles liés\",\"Portail:Île-de-France/Articles liés\",\"Portail:France/Articles liés\",\"Portail:Europe/Articles liés\",\"Indice boursier\",\"Économie en France\",\"Fondation en 1987\",\"Indice sans dividendes\"],\"wgPageContentLanguage\":\"fr\",\"wgPageContentModel\":\"wikitext\",\"wgRelevantPageName\":\"CAC_40\",\"wgRelevantArticleId\":649,\"wgIsProbablyEditable\":!0,\"wgRelevantPageIsProbablyEditable\":!0,\"wgRestrictionEdit\":[],\"wgRestrictionMove\":[],\"wgMediaViewerOnClick\":!0,\"wgMediaViewerEnabledByDefault\":!0,\"wgPopupsFlags\":8,\"wgVisualEditor\":{\"pageLanguageCode\":\"fr\",\"pageLanguageDir\":\"ltr\",\"pageVariantFallbacks\":\"fr\"},\"wgMFDisplayWikibaseDescriptions\":{\"search\":!0,\"nearby\":!0,\"watchlist\":!0,\"tagline\":!0},\"wgWMESchemaEditAttemptStepOversample\":!1,\"wgULSCurrentAutonym\":\"français\",\"wgNoticeProject\":\"wikipedia\",\"wgEditSubmitButtonLabelPublish\":!0,\"wgULSPosition\":\"interlanguage\",\n",
       "\"wgULSisCompactLinksEnabled\":!0,\"wgGENewcomerTasksGuidanceEnabled\":!0,\"wgGEAskQuestionEnabled\":!0,\"wgGELinkRecommendationsFrontendEnabled\":!0,\"wgCentralAuthMobileDomain\":!1,\"wgWikibaseItemId\":\"Q648828\"};RLSTATE={\"ext.globalCssJs.user.styles\":\"ready\",\"site.styles\":\"ready\",\"user.styles\":\"ready\",\"ext.globalCssJs.user\":\"ready\",\"user\":\"ready\",\"user.options\":\"loading\",\"ext.cite.styles\":\"ready\",\"mediawiki.ui.button\":\"ready\",\"skins.vector.styles\":\"ready\",\"skins.vector.icons\":\"ready\",\"mediawiki.ui.icon\":\"ready\",\"jquery.tablesorter.styles\":\"ready\",\"ext.visualEditor.desktopArticleTarget.noscript\":\"ready\",\"ext.uls.interlanguage\":\"ready\",\"ext.wikimediaBadges\":\"ready\",\"wikibase.client.init\":\"ready\"};RLPAGEMODULES=[\"ext.cite.ux-enhancements\",\"site\",\"mediawiki.page.ready\",\"jquery.tablesorter\",\"mediawiki.toc\",\"skins.vector.js\",\"ext.gadget.ArchiveLinks\",\"ext.gadget.MonobookToolbarStandard\",\"ext.gadget.Wdsearch\",\"mmv.head\",\"mmv.bootstrap.autostart\",\"ext.popups\",\n",
       "\"ext.visualEditor.desktopArticleTarget.init\",\"ext.visualEditor.targetLoader\",\"ext.eventLogging\",\"ext.wikimediaEvents\",\"ext.navigationTiming\",\"ext.uls.compactlinks\",\"ext.uls.interface\",\"ext.cx.eventlogging.campaigns\",\"ext.quicksurveys.init\",\"ext.centralNotice.geoIP\",\"ext.centralNotice.startUp\",\"ext.centralauth.centralautologin\",\"ext.growthExperiments.SuggestedEditSession\"];</script>\n",
       "<script>(RLQ=window.RLQ||[]).push(function(){mw.loader.implement(\"user.options@1hzgi\",function($,jQuery,require,module){/*@nomin*/mw.user.tokens.set({\"patrolToken\":\"+\\\\\",\"watchToken\":\"+\\\\\",\"csrfToken\":\"+\\\\\"});mw.user.options.set({\"variant\":\"fr\"});\n",
       "});});</script>\n",
       "<link href=\"/w/load.php?lang=fr&amp;modules=ext.cite.styles%7Cext.uls.interlanguage%7Cext.visualEditor.desktopArticleTarget.noscript%7Cext.wikimediaBadges%7Cjquery.tablesorter.styles%7Cmediawiki.ui.button%2Cicon%7Cskins.vector.icons%2Cstyles%7Cwikibase.client.init&amp;only=styles&amp;skin=vector\" rel=\"stylesheet\"/>\n",
       "<script async=\"\" src=\"/w/load.php?lang=fr&amp;modules=startup&amp;only=scripts&amp;raw=1&amp;skin=vector\"></script>\n",
       "<meta content=\"\" name=\"ResourceLoaderDynamicStyles\"/>\n",
       "<link href=\"/w/load.php?lang=fr&amp;modules=site.styles&amp;only=styles&amp;skin=vector\" rel=\"stylesheet\"/>\n",
       "<meta content=\"MediaWiki 1.38.0-wmf.4\" name=\"generator\"/>\n",
       "<meta content=\"origin\" name=\"referrer\"/>\n",
       "<meta content=\"origin-when-crossorigin\" name=\"referrer\"/>\n",
       "<meta content=\"origin-when-cross-origin\" name=\"referrer\"/>\n",
       "<meta content=\"telephone=no\" name=\"format-detection\"/>\n",
       "<meta content=\"https://upload.wikimedia.org/wikipedia/commons/9/9c/CAC40_1983-08-04-2021.png\" property=\"og:image\"/>\n",
       "<meta content=\"CAC 40 — Wikipédia\" property=\"og:title\"/>\n",
       "<meta content=\"website\" property=\"og:type\"/>\n",
       "<link href=\"//upload.wikimedia.org\" rel=\"preconnect\"/>\n",
       "<link href=\"//fr.m.wikipedia.org/wiki/CAC_40\" media=\"only screen and (max-width: 720px)\" rel=\"alternate\"/>\n",
       "<link href=\"/w/index.php?title=CAC_40&amp;action=edit\" rel=\"alternate\" title=\"Modifier\" type=\"application/x-wiki\"/>\n",
       "<link href=\"/static/apple-touch/wikipedia.png\" rel=\"apple-touch-icon\"/>\n",
       "<link href=\"/static/favicon/wikipedia.ico\" rel=\"shortcut icon\"/>\n",
       "<link href=\"/w/opensearch_desc.php\" rel=\"search\" title=\"Wikipédia (fr)\" type=\"application/opensearchdescription+xml\"/>\n",
       "<link href=\"//fr.wikipedia.org/w/api.php?action=rsd\" rel=\"EditURI\" type=\"application/rsd+xml\"/>\n",
       "<link href=\"https://creativecommons.org/licenses/by-sa/3.0/\" rel=\"license\"/>\n",
       "<link href=\"https://fr.wikipedia.org/wiki/CAC_40\" rel=\"canonical\"/>\n",
       "<link href=\"//meta.wikimedia.org\" rel=\"dns-prefetch\"/>\n",
       "<link href=\"//login.wikimedia.org\" rel=\"dns-prefetch\"/>\n",
       "</head>"
      ]
     },
     "execution_count": 19,
     "metadata": {},
     "output_type": "execute_result"
    }
   ],
   "source": [
    "# accès par attribut objet python aux première balises enfant d'un type donné\n",
    "droite.head"
   ]
  },
  {
   "cell_type": "code",
   "execution_count": 20,
   "metadata": {},
   "outputs": [
    {
     "data": {
      "text/plain": [
       "{'class': ['mediawiki',\n",
       "  'ltr',\n",
       "  'sitedir-ltr',\n",
       "  'mw-hide-empty-elt',\n",
       "  'ns-0',\n",
       "  'ns-subject',\n",
       "  'mw-editable',\n",
       "  'page-CAC_40',\n",
       "  'rootpage-CAC_40',\n",
       "  'skin-vector',\n",
       "  'action-view',\n",
       "  'skin-vector-search-vue']}"
      ]
     },
     "execution_count": 20,
     "metadata": {},
     "output_type": "execute_result"
    }
   ],
   "source": [
    "# dictionnaire des attributs (élements dans  la balise outre le nom)\n",
    "droite.body.attrs"
   ]
  },
  {
   "cell_type": "code",
   "execution_count": 21,
   "metadata": {},
   "outputs": [
    {
     "data": {
      "text/plain": [
       "8"
      ]
     },
     "execution_count": 21,
     "metadata": {},
     "output_type": "execute_result"
    }
   ],
   "source": [
    "# Rercherche d'un type de balise\n",
    "tables = soupe.find_all(name=\"table\")\n",
    "len(tables)"
   ]
  },
  {
   "cell_type": "code",
   "execution_count": 22,
   "metadata": {},
   "outputs": [
    {
     "data": {
      "text/plain": [
       "3"
      ]
     },
     "execution_count": 22,
     "metadata": {},
     "output_type": "execute_result"
    }
   ],
   "source": [
    "# Recherche d'un type de balise avec filtre sur l'attribut class\n",
    "nouvel_essai = soupe.find_all(name=\"table\", attrs={\"class\": [\"wikitable\", \"sortable\"]})\n",
    "len(nouvel_essai)"
   ]
  },
  {
   "cell_type": "code",
   "execution_count": 23,
   "metadata": {},
   "outputs": [
    {
     "name": "stdout",
     "output_type": "stream",
     "text": [
      "{'class': ['wikitable', 'sortable']}\n",
      "{'border': '3', 'class': ['wikitable', 'sortable']}\n",
      "{'cellpadding': '2', 'cellspacing': '2', 'class': ['wikitable', 'sortable', 'gauche'], 'style': 'text-align: center; font-size: 90%;'}\n"
     ]
    }
   ],
   "source": [
    "for tbl in nouvel_essai:\n",
    "    print(tbl.attrs)"
   ]
  },
  {
   "cell_type": "code",
   "execution_count": 24,
   "metadata": {},
   "outputs": [],
   "source": [
    "ma_table = nouvel_essai[0]"
   ]
  },
  {
   "cell_type": "markdown",
   "metadata": {},
   "source": [
    "## Exercice\n",
    "\n",
    "1. Récupérer une liste des lignes de la table html\n",
    "2. Récupérer la liste des entreprises avec leur chiffre d'affaire et leur capitalisation. (liste de triplets)\n",
    "3. Ordonner les sociétés par ordre décroissant de capitalisation."
   ]
  },
  {
   "cell_type": "code",
   "execution_count": 26,
   "metadata": {},
   "outputs": [],
   "source": [
    "ma_table.thead"
   ]
  },
  {
   "cell_type": "code",
   "execution_count": 27,
   "metadata": {},
   "outputs": [
    {
     "data": {
      "text/plain": [
       "41"
      ]
     },
     "execution_count": 27,
     "metadata": {},
     "output_type": "execute_result"
    }
   ],
   "source": [
    "lignes = ma_table.tbody.find_all(\"tr\")\n",
    "len(lignes)"
   ]
  },
  {
   "cell_type": "code",
   "execution_count": 28,
   "metadata": {},
   "outputs": [],
   "source": [
    "header, *lignes = lignes"
   ]
  },
  {
   "cell_type": "code",
   "execution_count": 29,
   "metadata": {},
   "outputs": [
    {
     "data": {
      "text/plain": [
       "<tr>\n",
       "<th width=\"15%\">Société<sup class=\"reference\" id=\"cite_ref-valeur_58-0\"><a href=\"#cite_note-valeur-58\"><span class=\"cite_crochet\">[</span>26<span class=\"cite_crochet\">]</span></a></sup>\n",
       "</th>\n",
       "<th width=\"20%\">Secteur\n",
       "</th>\n",
       "<th data-sort-type=\"number\" width=\"9%\">Poids indiciel au 28/10/2020 (en %)<sup class=\"reference\" id=\"cite_ref-59\"><a href=\"#cite_note-59\"><span class=\"cite_crochet\">[</span>27<span class=\"cite_crochet\">]</span></a></sup>\n",
       "</th>\n",
       "<th data-sort-type=\"number\" width=\"9%\"><a href=\"/wiki/Chiffre_d%27affaires\" title=\"Chiffre d'affaires\">Chiffre d'affaires</a> 2019 (en millions d'euros)\n",
       "</th>\n",
       "<th data-sort-type=\"number\" width=\"9%\"><a href=\"/wiki/Capitalisation_boursi%C3%A8re\" title=\"Capitalisation boursière\">Capitalisation boursière</a> au 08/09/2020<sup class=\"reference\" id=\"cite_ref-Cap_60-0\"><a href=\"#cite_note-Cap-60\"><span class=\"cite_crochet\">[</span>28<span class=\"cite_crochet\">]</span></a></sup> (en milliards d'euros)\n",
       "</th>\n",
       "<th width=\"9%\">Entrée dans l'indice\n",
       "</th></tr>"
      ]
     },
     "execution_count": 29,
     "metadata": {},
     "output_type": "execute_result"
    }
   ],
   "source": [
    "header"
   ]
  },
  {
   "cell_type": "code",
   "execution_count": 30,
   "metadata": {},
   "outputs": [
    {
     "data": {
      "text/plain": [
       "<tr>\n",
       "<td><a href=\"/wiki/Air_liquide\" title=\"Air liquide\">Air liquide</a>\n",
       "</td>\n",
       "<td><a href=\"/wiki/Gaz_industriel\" title=\"Gaz industriel\">Gaz industriel</a>\n",
       "</td>\n",
       "<td>4,04\n",
       "</td>\n",
       "<td>21 920\n",
       "</td>\n",
       "<td>66,84\n",
       "</td>\n",
       "<td><span data-sort-value=\"19871231 !\"></span><time class=\"nowrap date-lien\" data-sort-value=\"1987-12-31\" datetime=\"1987-12-31\"><a href=\"/wiki/31_d%C3%A9cembre\" title=\"31 décembre\">31</a> <a href=\"/wiki/D%C3%A9cembre_1987\" title=\"Décembre 1987\">décembre</a> <a href=\"/wiki/1987\" title=\"1987\">1987</a></time>\n",
       "</td></tr>"
      ]
     },
     "execution_count": 30,
     "metadata": {},
     "output_type": "execute_result"
    }
   ],
   "source": [
    "lignes[0]"
   ]
  },
  {
   "cell_type": "code",
   "execution_count": 31,
   "metadata": {},
   "outputs": [
    {
     "name": "stdout",
     "output_type": "stream",
     "text": [
      "<tr>\n",
      " <td>\n",
      "  <a href=\"/wiki/Air_liquide\" title=\"Air liquide\">\n",
      "   Air liquide\n",
      "  </a>\n",
      " </td>\n",
      " <td>\n",
      "  <a href=\"/wiki/Gaz_industriel\" title=\"Gaz industriel\">\n",
      "   Gaz industriel\n",
      "  </a>\n",
      " </td>\n",
      " <td>\n",
      "  4,04\n",
      " </td>\n",
      " <td>\n",
      "  21 920\n",
      " </td>\n",
      " <td>\n",
      "  66,84\n",
      " </td>\n",
      " <td>\n",
      "  <span data-sort-value=\"19871231 !\">\n",
      "  </span>\n",
      "  <time class=\"nowrap date-lien\" data-sort-value=\"1987-12-31\" datetime=\"1987-12-31\">\n",
      "   <a href=\"/wiki/31_d%C3%A9cembre\" title=\"31 décembre\">\n",
      "    31\n",
      "   </a>\n",
      "   <a href=\"/wiki/D%C3%A9cembre_1987\" title=\"Décembre 1987\">\n",
      "    décembre\n",
      "   </a>\n",
      "   <a href=\"/wiki/1987\" title=\"1987\">\n",
      "    1987\n",
      "   </a>\n",
      "  </time>\n",
      " </td>\n",
      "</tr>\n",
      "\n"
     ]
    }
   ],
   "source": [
    "# affichage formaté pour plus de lisibilité\n",
    "print(lignes[0].prettify())"
   ]
  },
  {
   "cell_type": "code",
   "execution_count": 32,
   "metadata": {},
   "outputs": [
    {
     "data": {
      "text/plain": [
       "[Resume(societe='Air liquide', chiffre_affaire=21920000000, capitalisation_boursiere=66840000000),\n",
       " Resume(societe='Airbus', chiffre_affaire=70478000000, capitalisation_boursiere=57840000000),\n",
       " Resume(societe='Alstom', chiffre_affaire=8072000000, capitalisation_boursiere=10540000000),\n",
       " Resume(societe='ArcelorMittal', chiffre_affaire=61737000000, capitalisation_boursiere=11790000000),\n",
       " Resume(societe='Atos', chiffre_affaire=12258000000, capitalisation_boursiere=7860000000),\n",
       " Resume(societe='Axa', chiffre_affaire=103532000000, capitalisation_boursiere=41850000000),\n",
       " Resume(societe='BNP Paribas', chiffre_affaire=44597000000, capitalisation_boursiere=46740000000),\n",
       " Resume(societe='Bouygues', chiffre_affaire=37929000000, capitalisation_boursiere=13060000000),\n",
       " Resume(societe='Capgemini', chiffre_affaire=14125000000, capitalisation_boursiere=20050000000),\n",
       " Resume(societe='Carrefour', chiffre_affaire=80672000000, capitalisation_boursiere=11680000000),\n",
       " Resume(societe='Crédit agricole', chiffre_affaire=20339000000, capitalisation_boursiere=25220000000),\n",
       " Resume(societe='Danone', chiffre_affaire=25290000000, capitalisation_boursiere=38990000000),\n",
       " Resume(societe='Dassault Systèmes', chiffre_affaire=4018000000, capitalisation_boursiere=41280000000),\n",
       " Resume(societe='Engie', chiffre_affaire=60100000000, capitalisation_boursiere=29260000000),\n",
       " Resume(societe='EssilorLuxottica', chiffre_affaire=17390000000, capitalisation_boursiere=48830000000),\n",
       " Resume(societe='Hermès International', chiffre_affaire=6883000000, capitalisation_boursiere=78060000000),\n",
       " Resume(societe='Kering', chiffre_affaire=15883000000, capitalisation_boursiere=70840000000),\n",
       " Resume(societe='Legrand', chiffre_affaire=6622000000, capitalisation_boursiere=18940000000),\n",
       " Resume(societe=\"L'Oréal\", chiffre_affaire=29873000000, capitalisation_boursiere=155820000000),\n",
       " Resume(societe='LVMH', chiffre_affaire=53670000000, capitalisation_boursiere=271410000000),\n",
       " Resume(societe='Michelin', chiffre_affaire=24135000000, capitalisation_boursiere=16980000000),\n",
       " Resume(societe='Orange', chiffre_affaire=42238000000, capitalisation_boursiere=24630000000),\n",
       " Resume(societe='Pernod Ricard', chiffre_affaire=9182000000, capitalisation_boursiere=37370000000),\n",
       " Resume(societe='Publicis Groupe', chiffre_affaire=11001000000, capitalisation_boursiere=7040000000),\n",
       " Resume(societe='Renault', chiffre_affaire=55537000000, capitalisation_boursiere=7440000000),\n",
       " Resume(societe='Safran', chiffre_affaire=25098000000, capitalisation_boursiere=40420000000),\n",
       " Resume(societe='Saint-Gobain', chiffre_affaire=42573000000, capitalisation_boursiere=19190000000),\n",
       " Resume(societe='Sanofi', chiffre_affaire=36126000000, capitalisation_boursiere=107680000000),\n",
       " Resume(societe='Schneider Electric', chiffre_affaire=27200000000, capitalisation_boursiere=59830000000),\n",
       " Resume(societe='Société générale', chiffre_affaire=24671000000, capitalisation_boursiere=11540000000),\n",
       " Resume(societe='Stellantis', chiffre_affaire=74731000000, capitalisation_boursiere=14040000000),\n",
       " Resume(societe='STMicroelectronics', chiffre_affaire=8331000000, capitalisation_boursiere=21970000000),\n",
       " Resume(societe='Teleperformance', chiffre_affaire=5355000000, capitalisation_boursiere=15230000000),\n",
       " Resume(societe='Thales', chiffre_affaire=18401000000, capitalisation_boursiere=14340000000),\n",
       " Resume(societe='TotalEnergies', chiffre_affaire=175133000000, capitalisation_boursiere=89080000000),\n",
       " Resume(societe='Unibail-Rodamco-Westfield', chiffre_affaire=2417000000, capitalisation_boursiere=5400000000),\n",
       " Resume(societe='Veolia', chiffre_affaire=27188000000, capitalisation_boursiere=11310000000),\n",
       " Resume(societe='Vinci', chiffre_affaire=48753000000, capitalisation_boursiere=49950000000),\n",
       " Resume(societe='Vivendi', chiffre_affaire=15898000000, capitalisation_boursiere=28780000000),\n",
       " Resume(societe='Worldline', chiffre_affaire=2381000000, capitalisation_boursiere=14050000000)]"
      ]
     },
     "execution_count": 32,
     "metadata": {},
     "output_type": "execute_result"
    }
   ],
   "source": [
    "# Extraction des informations voulues\n",
    "# sous forme structurée\n",
    "@dataclass\n",
    "class Resume:\n",
    "    societe: str\n",
    "    chiffre_affaire: int\n",
    "    capitalisation_boursiere: int\n",
    "\n",
    "\n",
    "resultat = list()\n",
    "for ligne in lignes:\n",
    "    societe, secteur, indice, ca, cb, date = ligne.find_all(\"td\")\n",
    "    societe, *_ = societe.strings\n",
    "    ca, *_ = ca.strings\n",
    "    cb, *_ = cb.strings\n",
    "    resultat.append(\n",
    "        Resume(\n",
    "            societe, \n",
    "            int(ca.strip().replace(\" \", \"\")) * 10**6, \n",
    "            int(10 ** 9 * float(cb.strip().replace(\",\", \".\")))\n",
    "        )\n",
    "    )\n",
    "    \n",
    "resultat"
   ]
  },
  {
   "cell_type": "code",
   "execution_count": 33,
   "metadata": {},
   "outputs": [
    {
     "data": {
      "text/plain": [
       "[Resume(societe='LVMH', chiffre_affaire=53670000000, capitalisation_boursiere=271410000000),\n",
       " Resume(societe=\"L'Oréal\", chiffre_affaire=29873000000, capitalisation_boursiere=155820000000),\n",
       " Resume(societe='Sanofi', chiffre_affaire=36126000000, capitalisation_boursiere=107680000000),\n",
       " Resume(societe='TotalEnergies', chiffre_affaire=175133000000, capitalisation_boursiere=89080000000),\n",
       " Resume(societe='Hermès International', chiffre_affaire=6883000000, capitalisation_boursiere=78060000000),\n",
       " Resume(societe='Kering', chiffre_affaire=15883000000, capitalisation_boursiere=70840000000),\n",
       " Resume(societe='Air liquide', chiffre_affaire=21920000000, capitalisation_boursiere=66840000000),\n",
       " Resume(societe='Schneider Electric', chiffre_affaire=27200000000, capitalisation_boursiere=59830000000),\n",
       " Resume(societe='Airbus', chiffre_affaire=70478000000, capitalisation_boursiere=57840000000),\n",
       " Resume(societe='Vinci', chiffre_affaire=48753000000, capitalisation_boursiere=49950000000),\n",
       " Resume(societe='EssilorLuxottica', chiffre_affaire=17390000000, capitalisation_boursiere=48830000000),\n",
       " Resume(societe='BNP Paribas', chiffre_affaire=44597000000, capitalisation_boursiere=46740000000),\n",
       " Resume(societe='Axa', chiffre_affaire=103532000000, capitalisation_boursiere=41850000000),\n",
       " Resume(societe='Dassault Systèmes', chiffre_affaire=4018000000, capitalisation_boursiere=41280000000),\n",
       " Resume(societe='Safran', chiffre_affaire=25098000000, capitalisation_boursiere=40420000000),\n",
       " Resume(societe='Danone', chiffre_affaire=25290000000, capitalisation_boursiere=38990000000),\n",
       " Resume(societe='Pernod Ricard', chiffre_affaire=9182000000, capitalisation_boursiere=37370000000),\n",
       " Resume(societe='Engie', chiffre_affaire=60100000000, capitalisation_boursiere=29260000000),\n",
       " Resume(societe='Vivendi', chiffre_affaire=15898000000, capitalisation_boursiere=28780000000),\n",
       " Resume(societe='Crédit agricole', chiffre_affaire=20339000000, capitalisation_boursiere=25220000000),\n",
       " Resume(societe='Orange', chiffre_affaire=42238000000, capitalisation_boursiere=24630000000),\n",
       " Resume(societe='STMicroelectronics', chiffre_affaire=8331000000, capitalisation_boursiere=21970000000),\n",
       " Resume(societe='Capgemini', chiffre_affaire=14125000000, capitalisation_boursiere=20050000000),\n",
       " Resume(societe='Saint-Gobain', chiffre_affaire=42573000000, capitalisation_boursiere=19190000000),\n",
       " Resume(societe='Legrand', chiffre_affaire=6622000000, capitalisation_boursiere=18940000000),\n",
       " Resume(societe='Michelin', chiffre_affaire=24135000000, capitalisation_boursiere=16980000000),\n",
       " Resume(societe='Teleperformance', chiffre_affaire=5355000000, capitalisation_boursiere=15230000000),\n",
       " Resume(societe='Thales', chiffre_affaire=18401000000, capitalisation_boursiere=14340000000),\n",
       " Resume(societe='Worldline', chiffre_affaire=2381000000, capitalisation_boursiere=14050000000),\n",
       " Resume(societe='Stellantis', chiffre_affaire=74731000000, capitalisation_boursiere=14040000000),\n",
       " Resume(societe='Bouygues', chiffre_affaire=37929000000, capitalisation_boursiere=13060000000),\n",
       " Resume(societe='ArcelorMittal', chiffre_affaire=61737000000, capitalisation_boursiere=11790000000),\n",
       " Resume(societe='Carrefour', chiffre_affaire=80672000000, capitalisation_boursiere=11680000000),\n",
       " Resume(societe='Société générale', chiffre_affaire=24671000000, capitalisation_boursiere=11540000000),\n",
       " Resume(societe='Veolia', chiffre_affaire=27188000000, capitalisation_boursiere=11310000000),\n",
       " Resume(societe='Alstom', chiffre_affaire=8072000000, capitalisation_boursiere=10540000000),\n",
       " Resume(societe='Atos', chiffre_affaire=12258000000, capitalisation_boursiere=7860000000),\n",
       " Resume(societe='Renault', chiffre_affaire=55537000000, capitalisation_boursiere=7440000000),\n",
       " Resume(societe='Publicis Groupe', chiffre_affaire=11001000000, capitalisation_boursiere=7040000000),\n",
       " Resume(societe='Unibail-Rodamco-Westfield', chiffre_affaire=2417000000, capitalisation_boursiere=5400000000)]"
      ]
     },
     "execution_count": 33,
     "metadata": {},
     "output_type": "execute_result"
    }
   ],
   "source": [
    "# Tri via l'utilisation des attributs et le sort naïf\n",
    "resultat.sort(key=lambda res: res.capitalisation_boursiere, reverse=True)\n",
    "resultat"
   ]
  },
  {
   "cell_type": "markdown",
   "metadata": {},
   "source": [
    "# Exercice d'application\n",
    "\n",
    "Même questions pour le dow jones à partir de https://en.wikipedia.org/wiki/Dow_Jones_Industrial_Average"
   ]
  },
  {
   "cell_type": "code",
   "execution_count": 34,
   "metadata": {},
   "outputs": [],
   "source": [
    "# structuration de la première étape\n",
    "@dataclass\n",
    "class Lien:\n",
    "    societe: str\n",
    "    adresse: str"
   ]
  },
  {
   "cell_type": "code",
   "execution_count": 36,
   "metadata": {},
   "outputs": [],
   "source": [
    "def recupere_liens(\n",
    "    adresse: str=\"https://en.wikipedia.org/wiki/Dow_Jones_Industrial_Average\"\n",
    ") -> list[Lien]:\n",
    "    page = get(adresse)\n",
    "    soupe = BeautifulSoup(page.content.decode(\"utf8\"), \"lxml\")\n",
    "    table = soupe.find(name=\"table\", id=\"constituents\")\n",
    "    header, *lignes = table.find_all(name=\"tr\")\n",
    "    liens = [ligne.th.a for ligne in lignes]\n",
    "    return [\n",
    "        Lien(\n",
    "            societe=lien.string,\n",
    "            adresse=\"https://en.wikipedia.org/\" + lien.attrs[\"href\"]\n",
    "        )\n",
    "        for lien in liens\n",
    "    ]"
   ]
  },
  {
   "cell_type": "code",
   "execution_count": 37,
   "metadata": {},
   "outputs": [],
   "source": [
    "liens = recupere_liens()"
   ]
  },
  {
   "cell_type": "code",
   "execution_count": 38,
   "metadata": {},
   "outputs": [],
   "source": [
    "@serialize\n",
    "@deserialize\n",
    "@dataclass \n",
    "class Page:\n",
    "    societe: str\n",
    "    adresse: str\n",
    "    code_page: str"
   ]
  },
  {
   "cell_type": "code",
   "execution_count": 39,
   "metadata": {},
   "outputs": [],
   "source": [
    "def conversion(lien: Lien) -> Page:\n",
    "    page = get(lien.adresse)\n",
    "    return Page(\n",
    "        societe=lien.societe,\n",
    "        adresse=lien.adresse,\n",
    "        code_page=page.content.decode(\"utf8\"),\n",
    "    )"
   ]
  },
  {
   "cell_type": "code",
   "execution_count": 40,
   "metadata": {},
   "outputs": [],
   "source": [
    "# Génération d'un fichier de sauvegarde brut\n",
    "# taille effective: 14.5 mo\n",
    "pages = [conversion(lien) for lien in liens]\n",
    "with open(\"backup.json\", \"w\") as fichier:\n",
    "    fichier.write(to_json(pages))"
   ]
  },
  {
   "cell_type": "code",
   "execution_count": 42,
   "metadata": {},
   "outputs": [],
   "source": [
    "# Récupération du backup\n",
    "with open(\"backup.json\", \"r\") as fichier:\n",
    "    data = fichier.read()\n",
    "\n",
    "pages = from_json(list[Page], data)"
   ]
  },
  {
   "cell_type": "code",
   "execution_count": null,
   "metadata": {},
   "outputs": [],
   "source": [
    "# A implémenter\n",
    "def recupere_info(page: Page) -> Resume:\n",
    "    page = get(lien.adresse)\n",
    "    soupe = BeautifulSoup(page.content.decode(\"utf8\"), \"lxml\")\n",
    "    ..."
   ]
  },
  {
   "cell_type": "code",
   "execution_count": null,
   "metadata": {},
   "outputs": [],
   "source": [
    "# Conclusion\n",
    "dow_jones = [recupere_info(lien) for lien in recupere_liens()]"
   ]
  }
 ],
 "metadata": {
  "kernelspec": {
   "display_name": "Python 3 (ipykernel)",
   "language": "python",
   "name": "python3"
  },
  "language_info": {
   "codemirror_mode": {
    "name": "ipython",
    "version": 3
   },
   "file_extension": ".py",
   "mimetype": "text/x-python",
   "name": "python",
   "nbconvert_exporter": "python",
   "pygments_lexer": "ipython3",
   "version": "3.9.2"
  }
 },
 "nbformat": 4,
 "nbformat_minor": 4
}
