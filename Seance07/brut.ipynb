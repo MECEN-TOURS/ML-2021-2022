{
 "cells": [
  {
   "cell_type": "markdown",
   "id": "2dbbe6bc-9043-4549-8935-4a8d25de3f4a",
   "metadata": {},
   "source": [
    "# Objectifs\n",
    "\n",
    "- Déployer la méthodologie vue pour la régression en classification.\n",
    "- Commencer par la dataset `iris`, puis `digits` finir par `lfw_people`. Le tout dans `sklearn.dataset`."
   ]
  },
  {
   "cell_type": "code",
   "execution_count": 1,
   "id": "41298030-0e8e-4e6f-a619-20bfe965e173",
   "metadata": {},
   "outputs": [],
   "source": [
    "from rich import print\n",
    "from rich_rst import RestructuredText as RST"
   ]
  },
  {
   "cell_type": "code",
   "execution_count": 2,
   "id": "c01e32f8-46f5-4bd4-8fa9-32dae59115a5",
   "metadata": {},
   "outputs": [],
   "source": [
    "import numpy as np"
   ]
  },
  {
   "cell_type": "code",
   "execution_count": 3,
   "id": "31148d8c-22c1-4fba-bc46-c6ec5a61882f",
   "metadata": {},
   "outputs": [],
   "source": [
    "import matplotlib.pyplot as plt"
   ]
  },
  {
   "cell_type": "code",
   "execution_count": 4,
   "id": "e5ffb847-2e3c-44af-8f00-b1eae2176667",
   "metadata": {},
   "outputs": [],
   "source": [
    "from sklearn.datasets import (\n",
    "    load_iris, \n",
    "    load_digits,\n",
    ")"
   ]
  },
  {
   "cell_type": "code",
   "execution_count": 5,
   "id": "55e4c2d6-770f-41f4-a91c-24b1e8c95cb9",
   "metadata": {},
   "outputs": [],
   "source": [
    "from sklearn.dummy import DummyClassifier"
   ]
  },
  {
   "cell_type": "code",
   "execution_count": 6,
   "id": "caf1de84-8186-4f02-8213-cf7db193ec44",
   "metadata": {},
   "outputs": [],
   "source": [
    "from sklearn.model_selection import (\n",
    "    train_test_split,\n",
    "    GridSearchCV,\n",
    "    cross_val_score,\n",
    ")"
   ]
  },
  {
   "cell_type": "code",
   "execution_count": 7,
   "id": "bfd1a8af-0907-48b3-aa04-cc5aba327520",
   "metadata": {},
   "outputs": [],
   "source": [
    "from sklearn.pipeline import Pipeline"
   ]
  },
  {
   "cell_type": "code",
   "execution_count": 8,
   "id": "1853a388-86ad-4b19-8ad2-92559238b3e5",
   "metadata": {},
   "outputs": [],
   "source": [
    "from sklearn.linear_model import LogisticRegression\n",
    "from sklearn.neighbors import KNeighborsClassifier\n",
    "from sklearn.naive_bayes import GaussianNB\n",
    "from sklearn.svm import SVC\n",
    "from sklearn.ensemble import RandomForestClassifier\n",
    "from sklearn.tree import DecisionTreeClassifier\n",
    "from sklearn.neural_network import MLPClassifier"
   ]
  },
  {
   "cell_type": "code",
   "execution_count": 9,
   "id": "936472d7-fde9-46b4-99ed-e64476f251b0",
   "metadata": {},
   "outputs": [],
   "source": [
    "from sklearn.metrics import confusion_matrix"
   ]
  },
  {
   "cell_type": "markdown",
   "id": "30c87553-96a0-4827-8b86-d616142f8a61",
   "metadata": {},
   "source": [
    "# Etude de `iris`"
   ]
  },
  {
   "cell_type": "code",
   "execution_count": 10,
   "id": "71a2f4ea-f9d5-4cba-b29c-cf2c315ae0dd",
   "metadata": {},
   "outputs": [],
   "source": [
    "resultats = dict()"
   ]
  },
  {
   "cell_type": "markdown",
   "id": "229068e1-1434-41b9-bcdd-0f82f4a267a3",
   "metadata": {},
   "source": [
    "## Prise en main dataset"
   ]
  },
  {
   "cell_type": "code",
   "execution_count": 11,
   "id": "cc54b820-48a8-4cf0-a038-7783c7d57d1a",
   "metadata": {},
   "outputs": [
    {
     "data": {
      "text/plain": [
       "sklearn.utils.Bunch"
      ]
     },
     "execution_count": 11,
     "metadata": {},
     "output_type": "execute_result"
    }
   ],
   "source": [
    "res = load_iris()\n",
    "type(res)"
   ]
  },
  {
   "cell_type": "code",
   "execution_count": 12,
   "id": "3ffd3fb7-dcef-4646-887b-ab568c03c414",
   "metadata": {},
   "outputs": [
    {
     "data": {
      "text/plain": [
       "['DESCR',\n",
       " 'data',\n",
       " 'data_module',\n",
       " 'feature_names',\n",
       " 'filename',\n",
       " 'frame',\n",
       " 'target',\n",
       " 'target_names']"
      ]
     },
     "execution_count": 12,
     "metadata": {},
     "output_type": "execute_result"
    }
   ],
   "source": [
    "dir(res)"
   ]
  },
  {
   "cell_type": "code",
   "execution_count": 13,
   "id": "c2b7512b-e884-4d27-9754-56ee86d762d0",
   "metadata": {},
   "outputs": [
    {
     "data": {
      "text/html": [
       "<pre style=\"white-space:pre;overflow-x:auto;line-height:normal;font-family:Menlo,'DejaVu Sans Mono',consolas,'Courier New',monospace\">.. _iris_dataset:\n",
       "\n",
       "Iris plants dataset\n",
       "--------------------\n",
       "\n",
       "**Data Set Characteristics:**\n",
       "\n",
       "    :Number of Instances: <span style=\"color: #008080; text-decoration-color: #008080; font-weight: bold\">150</span> <span style=\"font-weight: bold\">(</span><span style=\"color: #008080; text-decoration-color: #008080; font-weight: bold\">50</span> in each of three classes<span style=\"font-weight: bold\">)</span>\n",
       "    :Number of Attributes: <span style=\"color: #008080; text-decoration-color: #008080; font-weight: bold\">4</span> numeric, predictive attributes and the class\n",
       "    :Attribute Information:\n",
       "        - sepal length in cm\n",
       "        - sepal width in cm\n",
       "        - petal length in cm\n",
       "        - petal width in cm\n",
       "        - class:\n",
       "                - Iris-Setosa\n",
       "                - Iris-Versicolour\n",
       "                - Iris-Virginica\n",
       "                \n",
       "    :Summary Statistics:\n",
       "\n",
       "    ============== ==== ==== ======= ===== ====================\n",
       "                    Min  Max   Mean    SD   Class Correlation\n",
       "    ============== ==== ==== ======= ===== ====================\n",
       "    sepal length:   <span style=\"color: #008080; text-decoration-color: #008080; font-weight: bold\">4.3</span>  <span style=\"color: #008080; text-decoration-color: #008080; font-weight: bold\">7.9</span>   <span style=\"color: #008080; text-decoration-color: #008080; font-weight: bold\">5.84</span>   <span style=\"color: #008080; text-decoration-color: #008080; font-weight: bold\">0.83</span>    <span style=\"color: #008080; text-decoration-color: #008080; font-weight: bold\">0.7826</span>\n",
       "    sepal width:    <span style=\"color: #008080; text-decoration-color: #008080; font-weight: bold\">2.0</span>  <span style=\"color: #008080; text-decoration-color: #008080; font-weight: bold\">4.4</span>   <span style=\"color: #008080; text-decoration-color: #008080; font-weight: bold\">3.05</span>   <span style=\"color: #008080; text-decoration-color: #008080; font-weight: bold\">0.43</span>   <span style=\"color: #008080; text-decoration-color: #008080; font-weight: bold\">-0.4194</span>\n",
       "    petal length:   <span style=\"color: #008080; text-decoration-color: #008080; font-weight: bold\">1.0</span>  <span style=\"color: #008080; text-decoration-color: #008080; font-weight: bold\">6.9</span>   <span style=\"color: #008080; text-decoration-color: #008080; font-weight: bold\">3.76</span>   <span style=\"color: #008080; text-decoration-color: #008080; font-weight: bold\">1.76</span>    <span style=\"color: #008080; text-decoration-color: #008080; font-weight: bold\">0.9490</span>  <span style=\"font-weight: bold\">(</span>high!<span style=\"font-weight: bold\">)</span>\n",
       "    petal width:    <span style=\"color: #008080; text-decoration-color: #008080; font-weight: bold\">0.1</span>  <span style=\"color: #008080; text-decoration-color: #008080; font-weight: bold\">2.5</span>   <span style=\"color: #008080; text-decoration-color: #008080; font-weight: bold\">1.20</span>   <span style=\"color: #008080; text-decoration-color: #008080; font-weight: bold\">0.76</span>    <span style=\"color: #008080; text-decoration-color: #008080; font-weight: bold\">0.9565</span>  <span style=\"font-weight: bold\">(</span>high!<span style=\"font-weight: bold\">)</span>\n",
       "    ============== ==== ==== ======= ===== ====================\n",
       "\n",
       "    :Missing Attribute Values: <span style=\"color: #800080; text-decoration-color: #800080; font-style: italic\">None</span>\n",
       "    :Class Distribution: <span style=\"color: #008080; text-decoration-color: #008080; font-weight: bold\">33.3</span>% for each of <span style=\"color: #008080; text-decoration-color: #008080; font-weight: bold\">3</span> classes.\n",
       "    :Creator: R.A. Fisher\n",
       "    :Donor: Michael Marshall <span style=\"font-weight: bold\">(</span>MARSHALL%PLU@io.arc.nasa.gov<span style=\"font-weight: bold\">)</span>\n",
       "    📅 July, <span style=\"color: #008080; text-decoration-color: #008080; font-weight: bold\">1988</span>\n",
       "\n",
       "The famous Iris database, first used by Sir R.A. Fisher. The dataset is taken\n",
       "from Fisher's paper. Note that it's the same as in R, but not as in the UCI\n",
       "Machine Learning Repository, which has two wrong data points.\n",
       "\n",
       "This is perhaps the best known database to be found in the\n",
       "pattern recognition literature.  Fisher's paper is a classic in the field and\n",
       "is referenced frequently to this day.  <span style=\"font-weight: bold\">(</span>See Duda &amp; Hart, for example.<span style=\"font-weight: bold\">)</span>  The\n",
       "data set contains <span style=\"color: #008080; text-decoration-color: #008080; font-weight: bold\">3</span> classes of <span style=\"color: #008080; text-decoration-color: #008080; font-weight: bold\">50</span> instances each, where each class refers to a\n",
       "type of iris plant.  One class is linearly separable from the other <span style=\"color: #008080; text-decoration-color: #008080; font-weight: bold\">2</span>; the\n",
       "latter are NOT linearly separable from each other.\n",
       "\n",
       ".. topic:: References\n",
       "\n",
       "   - Fisher, R.A. <span style=\"color: #008000; text-decoration-color: #008000\">\"The use of multiple measurements in taxonomic problems\"</span>\n",
       "     Annual Eugenics, <span style=\"color: #008080; text-decoration-color: #008080; font-weight: bold\">7</span>, Part II, <span style=\"color: #008080; text-decoration-color: #008080; font-weight: bold\">179</span>-<span style=\"color: #008080; text-decoration-color: #008080; font-weight: bold\">188</span> <span style=\"font-weight: bold\">(</span><span style=\"color: #008080; text-decoration-color: #008080; font-weight: bold\">1936</span><span style=\"font-weight: bold\">)</span>; also in \"Contributions to\n",
       "     Mathematical Statistics\" <span style=\"font-weight: bold\">(</span>John Wiley, NY, <span style=\"color: #008080; text-decoration-color: #008080; font-weight: bold\">1950</span><span style=\"font-weight: bold\">)</span>.\n",
       "   - Duda, R.O., &amp; Hart, P.E. <span style=\"font-weight: bold\">(</span><span style=\"color: #008080; text-decoration-color: #008080; font-weight: bold\">1973</span><span style=\"font-weight: bold\">)</span> Pattern Classification and Scene Analysis.\n",
       "     <span style=\"font-weight: bold\">(</span>Q327.D83<span style=\"font-weight: bold\">)</span> John Wiley &amp; Sons.  ISBN <span style=\"color: #008080; text-decoration-color: #008080; font-weight: bold\">0</span>-<span style=\"color: #008080; text-decoration-color: #008080; font-weight: bold\">471</span>-<span style=\"color: #008080; text-decoration-color: #008080; font-weight: bold\">22361</span>-<span style=\"color: #008080; text-decoration-color: #008080; font-weight: bold\">1</span>.  See page <span style=\"color: #008080; text-decoration-color: #008080; font-weight: bold\">218</span>.\n",
       "   - Dasarathy, B.V. <span style=\"font-weight: bold\">(</span><span style=\"color: #008080; text-decoration-color: #008080; font-weight: bold\">1980</span><span style=\"font-weight: bold\">)</span> \"Nosing Around the Neighborhood: A New System\n",
       "     Structure and Classification Rule for Recognition in Partially Exposed\n",
       "     Environments\".  IEEE Transactions on Pattern Analysis and Machine\n",
       "     Intelligence, Vol. PAMI-<span style=\"color: #008080; text-decoration-color: #008080; font-weight: bold\">2</span>, No. <span style=\"color: #008080; text-decoration-color: #008080; font-weight: bold\">1</span>, <span style=\"color: #008080; text-decoration-color: #008080; font-weight: bold\">67</span>-<span style=\"color: #008080; text-decoration-color: #008080; font-weight: bold\">71</span>.\n",
       "   - Gates, G.W. <span style=\"font-weight: bold\">(</span><span style=\"color: #008080; text-decoration-color: #008080; font-weight: bold\">1972</span><span style=\"font-weight: bold\">)</span> <span style=\"color: #008000; text-decoration-color: #008000\">\"The Reduced Nearest Neighbor Rule\"</span>.  IEEE Transactions\n",
       "     on Information Theory, May <span style=\"color: #008080; text-decoration-color: #008080; font-weight: bold\">1972</span>, <span style=\"color: #008080; text-decoration-color: #008080; font-weight: bold\">431</span>-<span style=\"color: #008080; text-decoration-color: #008080; font-weight: bold\">433</span>.\n",
       "   - See also: <span style=\"color: #008080; text-decoration-color: #008080; font-weight: bold\">1988</span> MLC Proceedings, <span style=\"color: #008080; text-decoration-color: #008080; font-weight: bold\">54</span>-<span style=\"color: #008080; text-decoration-color: #008080; font-weight: bold\">64</span>.  Cheeseman et al\"s AUTOCLASS II\n",
       "     conceptual clustering system finds <span style=\"color: #008080; text-decoration-color: #008080; font-weight: bold\">3</span> classes in the data.\n",
       "   - Many, many more <span style=\"color: #808000; text-decoration-color: #808000\">...</span>\n",
       "</pre>\n"
      ],
      "text/plain": [
       ".. _iris_dataset:\n",
       "\n",
       "Iris plants dataset\n",
       "--------------------\n",
       "\n",
       "**Data Set Characteristics:**\n",
       "\n",
       "    :Number of Instances: \u001b[1;36m150\u001b[0m \u001b[1m(\u001b[0m\u001b[1;36m50\u001b[0m in each of three classes\u001b[1m)\u001b[0m\n",
       "    :Number of Attributes: \u001b[1;36m4\u001b[0m numeric, predictive attributes and the class\n",
       "    :Attribute Information:\n",
       "        - sepal length in cm\n",
       "        - sepal width in cm\n",
       "        - petal length in cm\n",
       "        - petal width in cm\n",
       "        - class:\n",
       "                - Iris-Setosa\n",
       "                - Iris-Versicolour\n",
       "                - Iris-Virginica\n",
       "                \n",
       "    :Summary Statistics:\n",
       "\n",
       "    ============== ==== ==== ======= ===== ====================\n",
       "                    Min  Max   Mean    SD   Class Correlation\n",
       "    ============== ==== ==== ======= ===== ====================\n",
       "    sepal length:   \u001b[1;36m4.3\u001b[0m  \u001b[1;36m7.9\u001b[0m   \u001b[1;36m5.84\u001b[0m   \u001b[1;36m0.83\u001b[0m    \u001b[1;36m0.7826\u001b[0m\n",
       "    sepal width:    \u001b[1;36m2.0\u001b[0m  \u001b[1;36m4.4\u001b[0m   \u001b[1;36m3.05\u001b[0m   \u001b[1;36m0.43\u001b[0m   \u001b[1;36m-0.4194\u001b[0m\n",
       "    petal length:   \u001b[1;36m1.0\u001b[0m  \u001b[1;36m6.9\u001b[0m   \u001b[1;36m3.76\u001b[0m   \u001b[1;36m1.76\u001b[0m    \u001b[1;36m0.9490\u001b[0m  \u001b[1m(\u001b[0mhigh!\u001b[1m)\u001b[0m\n",
       "    petal width:    \u001b[1;36m0.1\u001b[0m  \u001b[1;36m2.5\u001b[0m   \u001b[1;36m1.20\u001b[0m   \u001b[1;36m0.76\u001b[0m    \u001b[1;36m0.9565\u001b[0m  \u001b[1m(\u001b[0mhigh!\u001b[1m)\u001b[0m\n",
       "    ============== ==== ==== ======= ===== ====================\n",
       "\n",
       "    :Missing Attribute Values: \u001b[3;35mNone\u001b[0m\n",
       "    :Class Distribution: \u001b[1;36m33.3\u001b[0m% for each of \u001b[1;36m3\u001b[0m classes.\n",
       "    :Creator: R.A. Fisher\n",
       "    :Donor: Michael Marshall \u001b[1m(\u001b[0mMARSHALL%PLU@io.arc.nasa.gov\u001b[1m)\u001b[0m\n",
       "    📅 July, \u001b[1;36m1988\u001b[0m\n",
       "\n",
       "The famous Iris database, first used by Sir R.A. Fisher. The dataset is taken\n",
       "from Fisher's paper. Note that it's the same as in R, but not as in the UCI\n",
       "Machine Learning Repository, which has two wrong data points.\n",
       "\n",
       "This is perhaps the best known database to be found in the\n",
       "pattern recognition literature.  Fisher's paper is a classic in the field and\n",
       "is referenced frequently to this day.  \u001b[1m(\u001b[0mSee Duda & Hart, for example.\u001b[1m)\u001b[0m  The\n",
       "data set contains \u001b[1;36m3\u001b[0m classes of \u001b[1;36m50\u001b[0m instances each, where each class refers to a\n",
       "type of iris plant.  One class is linearly separable from the other \u001b[1;36m2\u001b[0m; the\n",
       "latter are NOT linearly separable from each other.\n",
       "\n",
       ".. topic:: References\n",
       "\n",
       "   - Fisher, R.A. \u001b[32m\"The use of multiple measurements in taxonomic problems\"\u001b[0m\n",
       "     Annual Eugenics, \u001b[1;36m7\u001b[0m, Part II, \u001b[1;36m179\u001b[0m-\u001b[1;36m188\u001b[0m \u001b[1m(\u001b[0m\u001b[1;36m1936\u001b[0m\u001b[1m)\u001b[0m; also in \"Contributions to\n",
       "     Mathematical Statistics\" \u001b[1m(\u001b[0mJohn Wiley, NY, \u001b[1;36m1950\u001b[0m\u001b[1m)\u001b[0m.\n",
       "   - Duda, R.O., & Hart, P.E. \u001b[1m(\u001b[0m\u001b[1;36m1973\u001b[0m\u001b[1m)\u001b[0m Pattern Classification and Scene Analysis.\n",
       "     \u001b[1m(\u001b[0mQ327.D83\u001b[1m)\u001b[0m John Wiley & Sons.  ISBN \u001b[1;36m0\u001b[0m-\u001b[1;36m471\u001b[0m-\u001b[1;36m22361\u001b[0m-\u001b[1;36m1\u001b[0m.  See page \u001b[1;36m218\u001b[0m.\n",
       "   - Dasarathy, B.V. \u001b[1m(\u001b[0m\u001b[1;36m1980\u001b[0m\u001b[1m)\u001b[0m \"Nosing Around the Neighborhood: A New System\n",
       "     Structure and Classification Rule for Recognition in Partially Exposed\n",
       "     Environments\".  IEEE Transactions on Pattern Analysis and Machine\n",
       "     Intelligence, Vol. PAMI-\u001b[1;36m2\u001b[0m, No. \u001b[1;36m1\u001b[0m, \u001b[1;36m67\u001b[0m-\u001b[1;36m71\u001b[0m.\n",
       "   - Gates, G.W. \u001b[1m(\u001b[0m\u001b[1;36m1972\u001b[0m\u001b[1m)\u001b[0m \u001b[32m\"The Reduced Nearest Neighbor Rule\"\u001b[0m.  IEEE Transactions\n",
       "     on Information Theory, May \u001b[1;36m1972\u001b[0m, \u001b[1;36m431\u001b[0m-\u001b[1;36m433\u001b[0m.\n",
       "   - See also: \u001b[1;36m1988\u001b[0m MLC Proceedings, \u001b[1;36m54\u001b[0m-\u001b[1;36m64\u001b[0m.  Cheeseman et al\"s AUTOCLASS II\n",
       "     conceptual clustering system finds \u001b[1;36m3\u001b[0m classes in the data.\n",
       "   - Many, many more \u001b[33m...\u001b[0m\n"
      ]
     },
     "metadata": {},
     "output_type": "display_data"
    }
   ],
   "source": [
    "print(res.DESCR)"
   ]
  },
  {
   "cell_type": "code",
   "execution_count": 14,
   "id": "058c71b9-09ca-46bd-83ce-c615491c8300",
   "metadata": {
    "tags": []
   },
   "outputs": [
    {
     "data": {
      "text/html": [
       "<pre style=\"white-space:pre;overflow-x:auto;line-height:normal;font-family:Menlo,'DejaVu Sans Mono',consolas,'Courier New',monospace\"><span style=\"font-weight: bold\">╔═══════════════════════════════════════════════════════════════════════════════════════════╗</span>\n",
       "<span style=\"font-weight: bold\">║                                    Iris plants dataset                                    ║</span>\n",
       "<span style=\"font-weight: bold\">╚═══════════════════════════════════════════════════════════════════════════════════════════╝</span>\n",
       "<span style=\"font-weight: bold\">Data Set Characteristics:</span>\n",
       "\n",
       "Number of Instances150 (50 in each of three classes)\n",
       "\n",
       "Number of Attributes4 numeric, predictive attributes and the class\n",
       "\n",
       "Attribute Information<span style=\"color: #808000; text-decoration-color: #808000; font-weight: bold\"> • </span>sepal length in cm\n",
       "<span style=\"color: #808000; text-decoration-color: #808000; font-weight: bold\"> • </span>sepal width in cm\n",
       "<span style=\"color: #808000; text-decoration-color: #808000; font-weight: bold\"> • </span>petal length in cm\n",
       "<span style=\"color: #808000; text-decoration-color: #808000; font-weight: bold\"> • </span>petal width in cm\n",
       "<span style=\"color: #808000; text-decoration-color: #808000; font-weight: bold\"> • </span>class:\n",
       "\n",
       "Iris-Setosa\n",
       "\n",
       "Iris-Versicolour\n",
       "\n",
       "Iris-Virginica\n",
       "\n",
       "Summary Statisticssepal length:\n",
       "\n",
       "4.3\n",
       "\n",
       "7.9\n",
       "\n",
       "5.84\n",
       "\n",
       "0.83\n",
       "\n",
       "0.7826\n",
       "\n",
       "sepal width:\n",
       "\n",
       "2.0\n",
       "\n",
       "4.4\n",
       "\n",
       "3.05\n",
       "\n",
       "0.43\n",
       "\n",
       "-0.4194\n",
       "\n",
       "petal length:\n",
       "\n",
       "1.0\n",
       "\n",
       "6.9\n",
       "\n",
       "3.76\n",
       "\n",
       "1.76\n",
       "\n",
       "0.9490  (high!)\n",
       "\n",
       "petal width:\n",
       "\n",
       "0.1\n",
       "\n",
       "2.5\n",
       "\n",
       "1.20\n",
       "\n",
       "0.76\n",
       "\n",
       "0.9565  (high!)\n",
       "\n",
       "Missing Attribute ValuesNone\n",
       "\n",
       "Class Distribution33.3% for each of 3 classes.\n",
       "\n",
       "CreatorR.A. Fisher\n",
       "\n",
       "DonorMichael Marshall (MARSHALL%PLU@io.arc.nasa.gov)\n",
       "\n",
       "DateJuly, 1988\n",
       "\n",
       "The famous Iris database, first used by Sir R.A. Fisher. The dataset is taken\n",
       "from Fisher's paper. Note that it's the same as in R, but not as in the UCI\n",
       "Machine Learning Repository, which has two wrong data points.\n",
       "\n",
       "This is perhaps the best known database to be found in the\n",
       "pattern recognition literature.  Fisher's paper is a classic in the field and\n",
       "is referenced frequently to this day.  (See Duda &amp; Hart, for example.)  The\n",
       "data set contains 3 classes of 50 instances each, where each class refers to a\n",
       "type of iris plant.  One class is linearly separable from the other 2; the\n",
       "latter are NOT linearly separable from each other.\n",
       "\n",
       "<span style=\"font-weight: bold\">╔═══════════════════════════════════════════════════════════════════════════════════════════╗</span>\n",
       "<span style=\"font-weight: bold\">║                                        References                                         ║</span>\n",
       "<span style=\"font-weight: bold\">╚═══════════════════════════════════════════════════════════════════════════════════════════╝</span>\n",
       "<span style=\"color: #808000; text-decoration-color: #808000; font-weight: bold\"> • </span>Fisher, R.A. \"The use of multiple measurements in taxonomic problems\"\n",
       "Annual Eugenics, 7, Part II, 179-188 (1936); also in \"Contributions to\n",
       "Mathematical Statistics\" (John Wiley, NY, 1950).\n",
       "<span style=\"color: #808000; text-decoration-color: #808000; font-weight: bold\"> • </span>Duda, R.O., &amp; Hart, P.E. (1973) Pattern Classification and Scene Analysis.\n",
       "(Q327.D83) John Wiley &amp; Sons.  ISBN 0-471-22361-1.  See page 218.\n",
       "<span style=\"color: #808000; text-decoration-color: #808000; font-weight: bold\"> • </span>Dasarathy, B.V. (1980) \"Nosing Around the Neighborhood: A New System\n",
       "Structure and Classification Rule for Recognition in Partially Exposed\n",
       "Environments\".  IEEE Transactions on Pattern Analysis and Machine\n",
       "Intelligence, Vol. PAMI-2, No. 1, 67-71.\n",
       "<span style=\"color: #808000; text-decoration-color: #808000; font-weight: bold\"> • </span>Gates, G.W. (1972) \"The Reduced Nearest Neighbor Rule\".  IEEE Transactions\n",
       "on Information Theory, May 1972, 431-433.\n",
       "<span style=\"color: #808000; text-decoration-color: #808000; font-weight: bold\"> • </span>See also: 1988 MLC Proceedings, 54-64.  Cheeseman et al\"s AUTOCLASS II\n",
       "conceptual clustering system finds 3 classes in the data.\n",
       "<span style=\"color: #808000; text-decoration-color: #808000; font-weight: bold\"> • </span>Many, many more ...\n",
       "\n",
       "</pre>\n"
      ],
      "text/plain": [
       "\u001b[1m╔═══════════════════════════════════════════════════════════════════════════════════════════╗\u001b[0m\n",
       "\u001b[1m║\u001b[0m\u001b[1m \u001b[0m\u001b[1m                                   \u001b[0m\u001b[1mIris plants dataset\u001b[0m\u001b[1m                                   \u001b[0m\u001b[1m \u001b[0m\u001b[1m║\u001b[0m\n",
       "\u001b[1m╚═══════════════════════════════════════════════════════════════════════════════════════════╝\u001b[0m\n",
       "\u001b[1mData Set Characteristics:\u001b[0m\n",
       "\n",
       "Number of Instances150 (50 in each of three classes)\n",
       "\n",
       "Number of Attributes4 numeric, predictive attributes and the class\n",
       "\n",
       "Attribute Information\u001b[1;33m • \u001b[0msepal length in cm\n",
       "\u001b[1;33m • \u001b[0msepal width in cm\n",
       "\u001b[1;33m • \u001b[0mpetal length in cm\n",
       "\u001b[1;33m • \u001b[0mpetal width in cm\n",
       "\u001b[1;33m • \u001b[0mclass:\n",
       "\n",
       "Iris-Setosa\n",
       "\n",
       "Iris-Versicolour\n",
       "\n",
       "Iris-Virginica\n",
       "\n",
       "Summary Statisticssepal length:\n",
       "\n",
       "4.3\n",
       "\n",
       "7.9\n",
       "\n",
       "5.84\n",
       "\n",
       "0.83\n",
       "\n",
       "0.7826\n",
       "\n",
       "sepal width:\n",
       "\n",
       "2.0\n",
       "\n",
       "4.4\n",
       "\n",
       "3.05\n",
       "\n",
       "0.43\n",
       "\n",
       "-0.4194\n",
       "\n",
       "petal length:\n",
       "\n",
       "1.0\n",
       "\n",
       "6.9\n",
       "\n",
       "3.76\n",
       "\n",
       "1.76\n",
       "\n",
       "0.9490  (high!)\n",
       "\n",
       "petal width:\n",
       "\n",
       "0.1\n",
       "\n",
       "2.5\n",
       "\n",
       "1.20\n",
       "\n",
       "0.76\n",
       "\n",
       "0.9565  (high!)\n",
       "\n",
       "Missing Attribute ValuesNone\n",
       "\n",
       "Class Distribution33.3% for each of 3 classes.\n",
       "\n",
       "CreatorR.A. Fisher\n",
       "\n",
       "DonorMichael Marshall (MARSHALL%PLU@io.arc.nasa.gov)\n",
       "\n",
       "DateJuly, 1988\n",
       "\n",
       "The famous Iris database, first used by Sir R.A. Fisher. The dataset is taken\n",
       "from Fisher's paper. Note that it's the same as in R, but not as in the UCI\n",
       "Machine Learning Repository, which has two wrong data points.\n",
       "\n",
       "This is perhaps the best known database to be found in the\n",
       "pattern recognition literature.  Fisher's paper is a classic in the field and\n",
       "is referenced frequently to this day.  (See Duda & Hart, for example.)  The\n",
       "data set contains 3 classes of 50 instances each, where each class refers to a\n",
       "type of iris plant.  One class is linearly separable from the other 2; the\n",
       "latter are NOT linearly separable from each other.\n",
       "\n",
       "\u001b[1m╔═══════════════════════════════════════════════════════════════════════════════════════════╗\u001b[0m\n",
       "\u001b[1m║\u001b[0m\u001b[1m \u001b[0m\u001b[1m                                       \u001b[0m\u001b[1mReferences\u001b[0m\u001b[1m                                        \u001b[0m\u001b[1m \u001b[0m\u001b[1m║\u001b[0m\n",
       "\u001b[1m╚═══════════════════════════════════════════════════════════════════════════════════════════╝\u001b[0m\n",
       "\u001b[1;33m • \u001b[0mFisher, R.A. \"The use of multiple measurements in taxonomic problems\"\n",
       "Annual Eugenics, 7, Part II, 179-188 (1936); also in \"Contributions to\n",
       "Mathematical Statistics\" (John Wiley, NY, 1950).\n",
       "\u001b[1;33m • \u001b[0mDuda, R.O., & Hart, P.E. (1973) Pattern Classification and Scene Analysis.\n",
       "(Q327.D83) John Wiley & Sons.  ISBN 0-471-22361-1.  See page 218.\n",
       "\u001b[1;33m • \u001b[0mDasarathy, B.V. (1980) \"Nosing Around the Neighborhood: A New System\n",
       "Structure and Classification Rule for Recognition in Partially Exposed\n",
       "Environments\".  IEEE Transactions on Pattern Analysis and Machine\n",
       "Intelligence, Vol. PAMI-2, No. 1, 67-71.\n",
       "\u001b[1;33m • \u001b[0mGates, G.W. (1972) \"The Reduced Nearest Neighbor Rule\".  IEEE Transactions\n",
       "on Information Theory, May 1972, 431-433.\n",
       "\u001b[1;33m • \u001b[0mSee also: 1988 MLC Proceedings, 54-64.  Cheeseman et al\"s AUTOCLASS II\n",
       "conceptual clustering system finds 3 classes in the data.\n",
       "\u001b[1;33m • \u001b[0mMany, many more ...\n",
       "\n"
      ]
     },
     "metadata": {},
     "output_type": "display_data"
    }
   ],
   "source": [
    "print(RST(res.DESCR))"
   ]
  },
  {
   "cell_type": "code",
   "execution_count": 15,
   "id": "e978d9fc-4374-4eb8-838b-654ba85a7d45",
   "metadata": {},
   "outputs": [
    {
     "data": {
      "text/plain": [
       "numpy.ndarray"
      ]
     },
     "execution_count": 15,
     "metadata": {},
     "output_type": "execute_result"
    }
   ],
   "source": [
    "type(res.data)"
   ]
  },
  {
   "cell_type": "code",
   "execution_count": 16,
   "id": "36abc4fe-bf3e-4202-afb7-d85428db2da1",
   "metadata": {},
   "outputs": [
    {
     "data": {
      "text/plain": [
       "(150, 4)"
      ]
     },
     "execution_count": 16,
     "metadata": {},
     "output_type": "execute_result"
    }
   ],
   "source": [
    "res.data.shape"
   ]
  },
  {
   "cell_type": "code",
   "execution_count": 17,
   "id": "72719140-e948-4213-805a-47ce61309760",
   "metadata": {},
   "outputs": [
    {
     "data": {
      "text/plain": [
       "numpy.ndarray"
      ]
     },
     "execution_count": 17,
     "metadata": {},
     "output_type": "execute_result"
    }
   ],
   "source": [
    "type(res.target)"
   ]
  },
  {
   "cell_type": "code",
   "execution_count": 18,
   "id": "6b247cec-fff2-43ce-ba72-6fa31886ac54",
   "metadata": {},
   "outputs": [
    {
     "data": {
      "text/plain": [
       "(150,)"
      ]
     },
     "execution_count": 18,
     "metadata": {},
     "output_type": "execute_result"
    }
   ],
   "source": [
    "res.target.shape"
   ]
  },
  {
   "cell_type": "code",
   "execution_count": 19,
   "id": "0ba1f6c4-da25-4fc4-9791-be4aad780452",
   "metadata": {},
   "outputs": [
    {
     "data": {
      "text/plain": [
       "array(['setosa', 'versicolor', 'virginica'], dtype='<U10')"
      ]
     },
     "execution_count": 19,
     "metadata": {},
     "output_type": "execute_result"
    }
   ],
   "source": [
    "res.target_names"
   ]
  },
  {
   "cell_type": "code",
   "execution_count": 20,
   "id": "11ed5323-4fc7-4a25-b846-d139f4f52ba9",
   "metadata": {},
   "outputs": [
    {
     "data": {
      "text/plain": [
       "array([0, 0, 0, 0, 0, 0, 0, 0, 0, 0, 0, 0, 0, 0, 0, 0, 0, 0, 0, 0, 0, 0,\n",
       "       0, 0, 0, 0, 0, 0, 0, 0, 0, 0, 0, 0, 0, 0, 0, 0, 0, 0, 0, 0, 0, 0,\n",
       "       0, 0, 0, 0, 0, 0, 1, 1, 1, 1, 1, 1, 1, 1, 1, 1, 1, 1, 1, 1, 1, 1,\n",
       "       1, 1, 1, 1, 1, 1, 1, 1, 1, 1, 1, 1, 1, 1, 1, 1, 1, 1, 1, 1, 1, 1,\n",
       "       1, 1, 1, 1, 1, 1, 1, 1, 1, 1, 1, 1, 2, 2, 2, 2, 2, 2, 2, 2, 2, 2,\n",
       "       2, 2, 2, 2, 2, 2, 2, 2, 2, 2, 2, 2, 2, 2, 2, 2, 2, 2, 2, 2, 2, 2,\n",
       "       2, 2, 2, 2, 2, 2, 2, 2, 2, 2, 2, 2, 2, 2, 2, 2, 2, 2])"
      ]
     },
     "execution_count": 20,
     "metadata": {},
     "output_type": "execute_result"
    }
   ],
   "source": [
    "res.target"
   ]
  },
  {
   "cell_type": "code",
   "execution_count": 21,
   "id": "8f5a054c-a07f-4d37-9caa-9969e63ca702",
   "metadata": {},
   "outputs": [],
   "source": [
    "X_tr, X_te, y_tr, y_te = train_test_split(res.data, res.target)"
   ]
  },
  {
   "cell_type": "markdown",
   "id": "8fd6d7f4-951d-4ddb-b596-4adcde1d9864",
   "metadata": {},
   "source": [
    "## Essai de `DummyClassifier` pour avoir une base de comparaison"
   ]
  },
  {
   "cell_type": "code",
   "execution_count": 22,
   "id": "2d84239c-e523-43c2-bf22-43950365cc86",
   "metadata": {},
   "outputs": [],
   "source": [
    "bateau = DummyClassifier(strategy=\"most_frequent\")"
   ]
  },
  {
   "cell_type": "code",
   "execution_count": 23,
   "id": "9a9ec8fc-4673-4ad1-a58d-54902cb035a0",
   "metadata": {},
   "outputs": [],
   "source": [
    "score = cross_val_score(\n",
    "    bateau, \n",
    "    X_tr, \n",
    "    y_tr,\n",
    ")\n",
    "resultats[bateau] = np.mean(score)"
   ]
  },
  {
   "cell_type": "markdown",
   "id": "60a2931b-588e-49a4-9f1c-f578dba0587b",
   "metadata": {},
   "source": [
    "## Cross validation"
   ]
  },
  {
   "cell_type": "markdown",
   "id": "ac5516bd-59f8-44ed-b344-4e9930108814",
   "metadata": {},
   "source": [
    "### Modèles élémentaires"
   ]
  },
  {
   "cell_type": "code",
   "execution_count": 24,
   "id": "633e326f-03ba-419c-a5bc-d65b0d80f51d",
   "metadata": {},
   "outputs": [],
   "source": [
    "c = LogisticRegression()"
   ]
  },
  {
   "cell_type": "code",
   "execution_count": 25,
   "id": "7a19a7c5-c7ca-456f-a1fe-9983d7c2d7b7",
   "metadata": {},
   "outputs": [
    {
     "data": {
      "text/plain": [
       "{'C': 1.0,\n",
       " 'class_weight': None,\n",
       " 'dual': False,\n",
       " 'fit_intercept': True,\n",
       " 'intercept_scaling': 1,\n",
       " 'l1_ratio': None,\n",
       " 'max_iter': 100,\n",
       " 'multi_class': 'auto',\n",
       " 'n_jobs': None,\n",
       " 'penalty': 'l2',\n",
       " 'random_state': None,\n",
       " 'solver': 'lbfgs',\n",
       " 'tol': 0.0001,\n",
       " 'verbose': 0,\n",
       " 'warm_start': False}"
      ]
     },
     "execution_count": 25,
     "metadata": {},
     "output_type": "execute_result"
    }
   ],
   "source": [
    "c.get_params()"
   ]
  },
  {
   "cell_type": "code",
   "execution_count": 26,
   "id": "71280960-3c02-4e28-b680-bdbc2fdc682c",
   "metadata": {},
   "outputs": [
    {
     "data": {
      "text/plain": [
       "GridSearchCV(estimator=LogisticRegression(),\n",
       "             param_grid={'C': [0.1, 1.0, 10, 100], 'max_iter': [1000]})"
      ]
     },
     "execution_count": 26,
     "metadata": {},
     "output_type": "execute_result"
    }
   ],
   "source": [
    "g = GridSearchCV(\n",
    "    estimator=c,\n",
    "    param_grid={\n",
    "        \"C\": [0.1, 1., 10, 100],\n",
    "        \"max_iter\": [1000,],\n",
    "    }\n",
    ")\n",
    "g.fit(X_tr, y_tr)\n",
    "    "
   ]
  },
  {
   "cell_type": "code",
   "execution_count": 27,
   "id": "90853938-5565-4eaa-a7a6-72ed6003d2b7",
   "metadata": {},
   "outputs": [],
   "source": [
    "resultats[g] = g.best_score_"
   ]
  },
  {
   "cell_type": "code",
   "execution_count": 28,
   "id": "3edd8c0f-b1fd-4faf-a05c-f3ed246bcbce",
   "metadata": {},
   "outputs": [
    {
     "data": {
      "text/plain": [
       "{'algorithm': 'auto',\n",
       " 'leaf_size': 30,\n",
       " 'metric': 'minkowski',\n",
       " 'metric_params': None,\n",
       " 'n_jobs': None,\n",
       " 'n_neighbors': 5,\n",
       " 'p': 2,\n",
       " 'weights': 'uniform'}"
      ]
     },
     "execution_count": 28,
     "metadata": {},
     "output_type": "execute_result"
    }
   ],
   "source": [
    "c = KNeighborsClassifier()\n",
    "c.get_params()"
   ]
  },
  {
   "cell_type": "code",
   "execution_count": 29,
   "id": "1e9f421a-700d-483c-8b08-a449759a45a3",
   "metadata": {},
   "outputs": [
    {
     "data": {
      "text/plain": [
       "GridSearchCV(estimator=KNeighborsClassifier(),\n",
       "             param_grid={'n_neighbors': [3, 5, 7, 9]})"
      ]
     },
     "execution_count": 29,
     "metadata": {},
     "output_type": "execute_result"
    }
   ],
   "source": [
    "g = GridSearchCV(\n",
    "    estimator=c,\n",
    "    param_grid={\n",
    "        \"n_neighbors\": [3, 5, 7, 9],\n",
    "    }\n",
    ")\n",
    "g.fit(X_tr, y_tr)"
   ]
  },
  {
   "cell_type": "code",
   "execution_count": 30,
   "id": "0dee4562-9708-4136-beb4-8cd85ef80c4e",
   "metadata": {},
   "outputs": [],
   "source": [
    "resultats[g] = g.best_score_"
   ]
  },
  {
   "cell_type": "code",
   "execution_count": 31,
   "id": "c9872266-1742-4c8d-a89c-b603fb4ca881",
   "metadata": {},
   "outputs": [
    {
     "data": {
      "text/plain": [
       "{'priors': None, 'var_smoothing': 1e-09}"
      ]
     },
     "execution_count": 31,
     "metadata": {},
     "output_type": "execute_result"
    }
   ],
   "source": [
    "c = GaussianNB()\n",
    "c.get_params()"
   ]
  },
  {
   "cell_type": "code",
   "execution_count": 32,
   "id": "a623a0d5-5054-40eb-aca4-863a4119a12f",
   "metadata": {},
   "outputs": [],
   "source": [
    "score = cross_val_score(c, X_tr, y_tr)\n",
    "resultats[c] = np.mean(score)"
   ]
  },
  {
   "cell_type": "code",
   "execution_count": 33,
   "id": "2e50487f-a6b4-4d08-8b57-9c3c4d4ca5c2",
   "metadata": {},
   "outputs": [
    {
     "data": {
      "text/plain": [
       "{'ccp_alpha': 0.0,\n",
       " 'class_weight': None,\n",
       " 'criterion': 'gini',\n",
       " 'max_depth': None,\n",
       " 'max_features': None,\n",
       " 'max_leaf_nodes': None,\n",
       " 'min_impurity_decrease': 0.0,\n",
       " 'min_samples_leaf': 1,\n",
       " 'min_samples_split': 2,\n",
       " 'min_weight_fraction_leaf': 0.0,\n",
       " 'random_state': None,\n",
       " 'splitter': 'best'}"
      ]
     },
     "execution_count": 33,
     "metadata": {},
     "output_type": "execute_result"
    }
   ],
   "source": [
    "c = DecisionTreeClassifier()\n",
    "c.get_params()"
   ]
  },
  {
   "cell_type": "code",
   "execution_count": 34,
   "id": "5cd7cbe5-ebf9-42cf-94db-352ed550b890",
   "metadata": {},
   "outputs": [],
   "source": [
    "score = cross_val_score(c, X_tr, y_tr)\n",
    "resultats[c] = np.mean(score)"
   ]
  },
  {
   "cell_type": "markdown",
   "id": "e74cdb42-c493-48ed-9240-780b3af575dc",
   "metadata": {},
   "source": [
    "### Modèles moins élémentaires"
   ]
  },
  {
   "cell_type": "code",
   "execution_count": 35,
   "id": "54849969-5a95-4d47-9613-5fd92650882e",
   "metadata": {},
   "outputs": [
    {
     "data": {
      "text/plain": [
       "{'bootstrap': True,\n",
       " 'ccp_alpha': 0.0,\n",
       " 'class_weight': None,\n",
       " 'criterion': 'gini',\n",
       " 'max_depth': None,\n",
       " 'max_features': 'auto',\n",
       " 'max_leaf_nodes': None,\n",
       " 'max_samples': None,\n",
       " 'min_impurity_decrease': 0.0,\n",
       " 'min_samples_leaf': 1,\n",
       " 'min_samples_split': 2,\n",
       " 'min_weight_fraction_leaf': 0.0,\n",
       " 'n_estimators': 100,\n",
       " 'n_jobs': None,\n",
       " 'oob_score': False,\n",
       " 'random_state': None,\n",
       " 'verbose': 0,\n",
       " 'warm_start': False}"
      ]
     },
     "execution_count": 35,
     "metadata": {},
     "output_type": "execute_result"
    }
   ],
   "source": [
    "c = RandomForestClassifier()\n",
    "c.get_params()"
   ]
  },
  {
   "cell_type": "code",
   "execution_count": 36,
   "id": "2dfd43b8-7093-4c9d-b03f-97a54415e43e",
   "metadata": {},
   "outputs": [
    {
     "data": {
      "text/plain": [
       "GridSearchCV(estimator=RandomForestClassifier(),\n",
       "             param_grid={'n_estimators': [50, 100, 150, 200]})"
      ]
     },
     "execution_count": 36,
     "metadata": {},
     "output_type": "execute_result"
    }
   ],
   "source": [
    "g = GridSearchCV(\n",
    "    estimator=c,\n",
    "    param_grid={\n",
    "        \"n_estimators\": [50, 100, 150, 200],\n",
    "    }\n",
    ")\n",
    "g.fit(X_tr, y_tr)"
   ]
  },
  {
   "cell_type": "code",
   "execution_count": 37,
   "id": "4da4d142-cd91-4e82-8d48-457f50ceb51e",
   "metadata": {},
   "outputs": [],
   "source": [
    "resultats[g] = g.best_score_"
   ]
  },
  {
   "cell_type": "code",
   "execution_count": 38,
   "id": "534cec69-d768-41b0-a393-b9f3c82bc153",
   "metadata": {},
   "outputs": [
    {
     "data": {
      "text/plain": [
       "{'activation': 'relu',\n",
       " 'alpha': 0.0001,\n",
       " 'batch_size': 'auto',\n",
       " 'beta_1': 0.9,\n",
       " 'beta_2': 0.999,\n",
       " 'early_stopping': False,\n",
       " 'epsilon': 1e-08,\n",
       " 'hidden_layer_sizes': (100,),\n",
       " 'learning_rate': 'constant',\n",
       " 'learning_rate_init': 0.001,\n",
       " 'max_fun': 15000,\n",
       " 'max_iter': 200,\n",
       " 'momentum': 0.9,\n",
       " 'n_iter_no_change': 10,\n",
       " 'nesterovs_momentum': True,\n",
       " 'power_t': 0.5,\n",
       " 'random_state': None,\n",
       " 'shuffle': True,\n",
       " 'solver': 'adam',\n",
       " 'tol': 0.0001,\n",
       " 'validation_fraction': 0.1,\n",
       " 'verbose': False,\n",
       " 'warm_start': False}"
      ]
     },
     "execution_count": 38,
     "metadata": {},
     "output_type": "execute_result"
    }
   ],
   "source": [
    "c = MLPClassifier()\n",
    "c.get_params()"
   ]
  },
  {
   "cell_type": "code",
   "execution_count": 39,
   "id": "b06df9f1-e953-4315-bb36-67a56a568a0b",
   "metadata": {},
   "outputs": [
    {
     "data": {
      "text/plain": [
       "GridSearchCV(estimator=MLPClassifier(),\n",
       "             param_grid={'hidden_layer_sizes': [(200,), (100, 100),\n",
       "                                                (50, 100, 50)],\n",
       "                         'max_iter': [1000]})"
      ]
     },
     "execution_count": 39,
     "metadata": {},
     "output_type": "execute_result"
    }
   ],
   "source": [
    "g = GridSearchCV(\n",
    "    estimator=c,\n",
    "    param_grid={\n",
    "        \"hidden_layer_sizes\": [(200, ), (100, 100), (50, 100, 50)],\n",
    "        \"max_iter\": [1000,],\n",
    "    }\n",
    ")\n",
    "g.fit(X_tr, y_tr)"
   ]
  },
  {
   "cell_type": "code",
   "execution_count": 40,
   "id": "7420e92c-1028-4267-94e4-5d9824580cc2",
   "metadata": {},
   "outputs": [],
   "source": [
    "resultats[g] = g.best_score_"
   ]
  },
  {
   "cell_type": "code",
   "execution_count": 41,
   "id": "4601ceef-e495-4a3b-8c04-058b626bfdc2",
   "metadata": {},
   "outputs": [
    {
     "data": {
      "text/plain": [
       "{'C': 1.0,\n",
       " 'break_ties': False,\n",
       " 'cache_size': 200,\n",
       " 'class_weight': None,\n",
       " 'coef0': 0.0,\n",
       " 'decision_function_shape': 'ovr',\n",
       " 'degree': 3,\n",
       " 'gamma': 'scale',\n",
       " 'kernel': 'rbf',\n",
       " 'max_iter': -1,\n",
       " 'probability': False,\n",
       " 'random_state': None,\n",
       " 'shrinking': True,\n",
       " 'tol': 0.001,\n",
       " 'verbose': False}"
      ]
     },
     "execution_count": 41,
     "metadata": {},
     "output_type": "execute_result"
    }
   ],
   "source": [
    "c = SVC()\n",
    "c.get_params()"
   ]
  },
  {
   "cell_type": "code",
   "execution_count": 42,
   "id": "4d3f1335-1d8e-42d1-915d-c179f77d767b",
   "metadata": {},
   "outputs": [
    {
     "data": {
      "text/plain": [
       "GridSearchCV(estimator=SVC(), param_grid={'C': [0.1, 1.0, 10.0]})"
      ]
     },
     "execution_count": 42,
     "metadata": {},
     "output_type": "execute_result"
    }
   ],
   "source": [
    "g = GridSearchCV(\n",
    "    estimator=c,\n",
    "    param_grid={\n",
    "        \"C\": [0.1, 1., 10.],\n",
    "    }\n",
    ")\n",
    "g.fit(X_tr, y_tr)"
   ]
  },
  {
   "cell_type": "code",
   "execution_count": 43,
   "id": "9e4c78c7-3e53-407b-9c34-941118ce7890",
   "metadata": {},
   "outputs": [],
   "source": [
    "resultats[g] = g.best_score_"
   ]
  },
  {
   "cell_type": "markdown",
   "id": "2bf362b6-6185-4b6c-894c-5b51bbf69be2",
   "metadata": {},
   "source": [
    "### Conclusion"
   ]
  },
  {
   "cell_type": "code",
   "execution_count": 44,
   "id": "9fcc0389-3392-4898-97ed-9b04366b1730",
   "metadata": {},
   "outputs": [],
   "source": [
    "meilleur_score = max(resultats.values())\n",
    "meilleur_modele, *_ = [\n",
    "    modele for modele, score in resultats.items() if score == meilleur_score\n",
    "]\n"
   ]
  },
  {
   "cell_type": "code",
   "execution_count": 45,
   "id": "09b8c35c-a99f-4c4a-96d9-061328000454",
   "metadata": {},
   "outputs": [
    {
     "data": {
      "text/plain": [
       "GridSearchCV(estimator=LogisticRegression(),\n",
       "             param_grid={'C': [0.1, 1.0, 10, 100], 'max_iter': [1000]})"
      ]
     },
     "execution_count": 45,
     "metadata": {},
     "output_type": "execute_result"
    }
   ],
   "source": [
    "meilleur_modele"
   ]
  },
  {
   "cell_type": "code",
   "execution_count": 46,
   "id": "f91fb67c-05f6-4cca-93e5-d0cba3d418c2",
   "metadata": {},
   "outputs": [
    {
     "data": {
      "text/plain": [
       "0.9473684210526315"
      ]
     },
     "execution_count": 46,
     "metadata": {},
     "output_type": "execute_result"
    }
   ],
   "source": [
    "meilleur_modele.score(X_te, y_te)"
   ]
  },
  {
   "cell_type": "code",
   "execution_count": 47,
   "id": "20fe2d9e-cb6a-4544-b404-3102f007cdca",
   "metadata": {},
   "outputs": [
    {
     "data": {
      "text/plain": [
       "{'C': 10, 'max_iter': 1000}"
      ]
     },
     "execution_count": 47,
     "metadata": {},
     "output_type": "execute_result"
    }
   ],
   "source": [
    "meilleur_modele.best_params_"
   ]
  },
  {
   "cell_type": "code",
   "execution_count": 48,
   "id": "2ebad5f5-6066-4cee-bb40-058e3c5baccf",
   "metadata": {},
   "outputs": [
    {
     "data": {
      "text/plain": [
       "<matplotlib.collections.PathCollection at 0x7fdd75345fa0>"
      ]
     },
     "execution_count": 48,
     "metadata": {},
     "output_type": "execute_result"
    },
    {
     "data": {
      "image/png": "[encoded data removed]",
      "text/plain": [
       "<Figure size 432x288 with 1 Axes>"
      ]
     },
     "metadata": {
      "needs_background": "light"
     },
     "output_type": "display_data"
    }
   ],
   "source": [
    "plt.scatter(X_tr[:, 0], X_tr[:, 1], c=y_tr) "
   ]
  },
  {
   "cell_type": "code",
   "execution_count": 49,
   "id": "6eb00278-b044-4160-9c38-f805ac6384ce",
   "metadata": {},
   "outputs": [
    {
     "data": {
      "text/plain": [
       "<matplotlib.collections.PathCollection at 0x7fdd752b1610>"
      ]
     },
     "execution_count": 49,
     "metadata": {},
     "output_type": "execute_result"
    },
    {
     "data": {
      "image/png": "[encoded data removed]",
      "text/plain": [
       "<Figure size 432x288 with 1 Axes>"
      ]
     },
     "metadata": {
      "needs_background": "light"
     },
     "output_type": "display_data"
    }
   ],
   "source": [
    "plt.scatter(X_tr[:, 2], X_tr[:, 3], c=y_tr) "
   ]
  },
  {
   "cell_type": "code",
   "execution_count": 50,
   "id": "705713ca-4e89-40dc-8437-7c39a3899075",
   "metadata": {},
   "outputs": [
    {
     "data": {
      "text/plain": [
       "<matplotlib.collections.PathCollection at 0x7fdd75218ac0>"
      ]
     },
     "execution_count": 50,
     "metadata": {},
     "output_type": "execute_result"
    },
    {
     "data": {
      "image/png": "[encoded data removed]",
      "text/plain": [
       "<Figure size 432x288 with 1 Axes>"
      ]
     },
     "metadata": {
      "needs_background": "light"
     },
     "output_type": "display_data"
    }
   ],
   "source": [
    "plt.scatter(X_tr[:, 1], X_tr[:, 3], c=y_tr) "
   ]
  },
  {
   "cell_type": "code",
   "execution_count": 52,
   "id": "7bde0bab-ab49-4384-b116-922a7726f7b0",
   "metadata": {},
   "outputs": [
    {
     "data": {
      "text/plain": [
       "array([[36,  0,  0],\n",
       "       [ 0, 36,  1],\n",
       "       [ 0,  0, 39]])"
      ]
     },
     "execution_count": 52,
     "metadata": {},
     "output_type": "execute_result"
    }
   ],
   "source": [
    "confusion_matrix(y_tr, meilleur_modele.predict(X_tr))"
   ]
  },
  {
   "cell_type": "code",
   "execution_count": 53,
   "id": "673defe1-ceb5-480e-ab7d-819fc18bcb70",
   "metadata": {},
   "outputs": [
    {
     "data": {
      "text/plain": [
       "array([[14,  0,  0],\n",
       "       [ 0, 12,  1],\n",
       "       [ 0,  1, 10]])"
      ]
     },
     "execution_count": 53,
     "metadata": {},
     "output_type": "execute_result"
    }
   ],
   "source": [
    "confusion_matrix(y_te, meilleur_modele.predict(X_te))"
   ]
  },
  {
   "cell_type": "markdown",
   "id": "5219d245-20b6-447b-be9c-6b1c44a0d55d",
   "metadata": {},
   "source": [
    "# Etude de digits"
   ]
  },
  {
   "cell_type": "markdown",
   "id": "d6ff0c85-ca14-401c-a3c0-15a9f83220d4",
   "metadata": {},
   "source": [
    "## Prise en main dataset"
   ]
  },
  {
   "cell_type": "code",
   "execution_count": 54,
   "id": "22207033-9b84-4c02-a6d2-5a8fcf4ff837",
   "metadata": {},
   "outputs": [],
   "source": [
    "chiffres = load_digits()"
   ]
  },
  {
   "cell_type": "code",
   "execution_count": 55,
   "id": "7f471dee-b175-49d2-8536-33dc19974cee",
   "metadata": {},
   "outputs": [
    {
     "data": {
      "text/plain": [
       "(1797, 64)"
      ]
     },
     "execution_count": 55,
     "metadata": {},
     "output_type": "execute_result"
    }
   ],
   "source": [
    "X = chiffres.data\n",
    "y = chiffres.target\n",
    "X.shape"
   ]
  },
  {
   "cell_type": "code",
   "execution_count": 56,
   "id": "848afd0f-2ddf-472d-80ce-aa1974529012",
   "metadata": {},
   "outputs": [
    {
     "data": {
      "text/plain": [
       "<matplotlib.image.AxesImage at 0x7fdd7517f7f0>"
      ]
     },
     "execution_count": 56,
     "metadata": {},
     "output_type": "execute_result"
    },
    {
     "data": {
      "image/png": "[encoded data removed]",
      "text/plain": [
       "<Figure size 432x288 with 1 Axes>"
      ]
     },
     "metadata": {
      "needs_background": "light"
     },
     "output_type": "display_data"
    }
   ],
   "source": [
    "plt.spy(X[0].reshape((8,8)))"
   ]
  },
  {
   "cell_type": "code",
   "execution_count": 57,
   "id": "aaaf3d14-6e8e-478b-b34e-b7136c6b216c",
   "metadata": {},
   "outputs": [
    {
     "data": {
      "text/plain": [
       "<matplotlib.image.AxesImage at 0x7fdd75233e80>"
      ]
     },
     "execution_count": 57,
     "metadata": {},
     "output_type": "execute_result"
    },
    {
     "data": {
      "image/png": "[encoded data removed]",
      "text/plain": [
       "<Figure size 432x288 with 1 Axes>"
      ]
     },
     "metadata": {
      "needs_background": "light"
     },
     "output_type": "display_data"
    }
   ],
   "source": [
    "plt.spy(X[99].reshape((8,8)))"
   ]
  },
  {
   "cell_type": "code",
   "execution_count": 58,
   "id": "77a90578-9ece-4c34-a733-41515e35a2ba",
   "metadata": {},
   "outputs": [
    {
     "data": {
      "text/plain": [
       "1"
      ]
     },
     "execution_count": 58,
     "metadata": {},
     "output_type": "execute_result"
    }
   ],
   "source": [
    "y[99]"
   ]
  },
  {
   "cell_type": "code",
   "execution_count": 64,
   "id": "99990f6e-7280-4998-a53e-b10736e0c8e1",
   "metadata": {},
   "outputs": [
    {
     "data": {
      "image/png": "[encoded data removed]",
      "text/plain": [
       "<Figure size 1440x1440 with 16 Axes>"
      ]
     },
     "metadata": {},
     "output_type": "display_data"
    }
   ],
   "source": [
    "fig, reps = plt.subplots(nrows=4, ncols=4, figsize=(20, 20))\n",
    "fig.suptitle(\"Premières images du dataset digits\", fontsize=24)\n",
    "for i, rep in enumerate(reps.flatten()):\n",
    "    rep.spy(X[i].reshape((8,8)))\n",
    "    rep.set_xticks([])\n",
    "    rep.set_yticks([])\n",
    "    rep.set_title(f\"chiffre: {y[i]}\", fontsize=15)"
   ]
  },
  {
   "cell_type": "code",
   "execution_count": null,
   "id": "c0e38797-a05d-4660-9c59-0680ef65c0e2",
   "metadata": {},
   "outputs": [],
   "source": []
  }
 ],
 "metadata": {
  "kernelspec": {
   "display_name": "Python 3 (ipykernel)",
   "language": "python",
   "name": "python3"
  },
  "language_info": {
   "codemirror_mode": {
    "name": "ipython",
    "version": 3
   },
   "file_extension": ".py",
   "mimetype": "text/x-python",
   "name": "python",
   "nbconvert_exporter": "python",
   "pygments_lexer": "ipython3",
   "version": "3.9.2"
  }
 },
 "nbformat": 4,
 "nbformat_minor": 5
}
